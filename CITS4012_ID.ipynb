{
  "cells": [
    {
      "cell_type": "markdown",
      "metadata": {
        "id": "tDcYnRfaMOsP"
      },
      "source": [
        "# 2024 CITS4012 Project"
      ]
    },
    {
      "cell_type": "markdown",
      "metadata": {
        "id": "UzE-7blTMOsS"
      },
      "source": [
        "# Readme\n",
        "\n",
        "notes for marker"
      ]
    },
    {
      "cell_type": "markdown",
      "metadata": {
        "id": "9JArpTqpMOsT"
      },
      "source": [
        "# 1. Dataset Processing"
      ]
    },
    {
      "cell_type": "markdown",
      "metadata": {
        "id": "15myqX_yMOsT"
      },
      "source": [
        "## Import the libraries"
      ]
    },
    {
      "cell_type": "code",
      "execution_count": 7,
      "metadata": {
        "id": "kyPoIBWWMOsU"
      },
      "outputs": [],
      "source": [
        "import re\n",
        "import json\n",
        "import nltk\n",
        "import torch\n",
        "import random\n",
        "import numpy as np\n",
        "import pandas as pd\n",
        "import torch.nn as nn\n",
        "import torch.optim as optim\n",
        "import torch.nn.functional as F"
      ]
    },
    {
      "cell_type": "markdown",
      "metadata": {
        "id": "FjBb3WWxMOsV"
      },
      "source": [
        "## Loading the datasets"
      ]
    },
    {
      "cell_type": "code",
      "execution_count": null,
      "metadata": {
        "colab": {
          "base_uri": "https://localhost:8080/"
        },
        "id": "0JEMS1mAMWg_",
        "outputId": "0090c15d-27da-4152-c128-c780f8181e0d"
      },
      "outputs": [],
      "source": [
        "# Mount Google Drive\n",
        "from google.colab import drive\n",
        "drive.mount('/content/drive')"
      ]
    },
    {
      "cell_type": "code",
      "execution_count": 8,
      "metadata": {
        "colab": {
          "base_uri": "https://localhost:8080/"
        },
        "id": "oXxsKZwoMOsW",
        "outputId": "276a3429-7b4b-4b87-95db-19ce4ce8789f"
      },
      "outputs": [],
      "source": [
        "# Load the training data\n",
        "# with open('/content/drive/MyDrive/data/train.json', 'r') as file:\n",
        "with open('train.json', 'r') as file:\n",
        "    data = json.load(file)\n",
        "    train_data = pd.DataFrame(data['data'], columns=data['columns'])\n",
        "\n",
        "# Load the test data\n",
        "# with open('/content/drive/MyDrive/data/test.json', 'r') as file:\n",
        "with open('test.json', 'r') as file:\n",
        "    data = json.load(file)\n",
        "    test_data = pd.DataFrame(data['data'], columns=data['columns'])\n",
        "\n",
        "# Load the validation data\n",
        "# with open('/content/drive/MyDrive/data/val.json', 'r') as file:\n",
        "with open('val.json', 'r') as file:\n",
        "    data = json.load(file)\n",
        "    val_data = pd.DataFrame(data['data'], columns=data['columns'])\n",
        "\n",
        "# Get the x and y lists for training, test and validation data\n",
        "training_x = train_data['sentence'].tolist()\n",
        "training_a = train_data['aspect'].tolist()\n",
        "training_y = train_data['polarity'].tolist()\n",
        "test_x = test_data['sentence'].tolist()\n",
        "test_a = test_data['aspect'].tolist()\n",
        "test_y = test_data['polarity'].tolist()\n",
        "val_x = val_data['sentence'].tolist()\n",
        "val_a = val_data['aspect'].tolist()\n",
        "val_y = val_data['polarity'].tolist()"
      ]
    },
    {
      "cell_type": "markdown",
      "metadata": {},
      "source": [
        "## Dataset Analysis"
      ]
    },
    {
      "cell_type": "code",
      "execution_count": 11,
      "metadata": {},
      "outputs": [
        {
          "name": "stdout",
          "output_type": "stream",
          "text": [
            "Training data size:\t (7090, 3)\n",
            "Test data size:\t\t (901, 3)\n",
            "Validation data size:\t (888, 3)\n",
            "Aspect Distribution:\n",
            "aspect\n",
            "food             2307\n",
            "staff            1383\n",
            "miscellaneous     954\n",
            "place             694\n",
            "service           631\n",
            "menu              475\n",
            "ambience          324\n",
            "price             322\n",
            "Sentiment Distribution:\n",
            "polarity\n",
            "neutral     3077\n",
            "negative    2084\n",
            "positive    1929\n",
            "Aspect-Sentiment Pair Distribution:\n",
            "           aspect  polarity  count\n",
            "0        ambience  negative     90\n",
            "1        ambience   neutral     53\n",
            "2        ambience  positive    181\n",
            "3            food  negative    255\n",
            "4            food   neutral   1298\n",
            "5            food  positive    754\n",
            "6            menu  negative     39\n",
            "7            menu   neutral    372\n",
            "8            menu  positive     64\n",
            "9   miscellaneous  negative    196\n",
            "10  miscellaneous   neutral    531\n",
            "11  miscellaneous  positive    227\n",
            "12          place  negative    139\n",
            "13          place   neutral    430\n",
            "14          place  positive    125\n",
            "15          price  negative    114\n",
            "16          price   neutral    136\n",
            "17          price  positive     72\n",
            "18        service  negative    329\n",
            "19        service   neutral    128\n",
            "20        service  positive    174\n",
            "21          staff  negative    922\n",
            "22          staff   neutral    129\n",
            "23          staff  positive    332\n"
          ]
        }
      ],
      "source": [
        "# Size of datasets\n",
        "print(\"Training data size:\\t\", train_data.shape)\n",
        "print(\"Test data size:\\t\\t\", test_data.shape)\n",
        "print(\"Validation data size:\\t\", val_data.shape)\n",
        "\n",
        "# Aspect Distribution\n",
        "aspect_distribution = train_data['aspect'].value_counts()\n",
        "print(\"Aspect Distribution:\")\n",
        "print(aspect_distribution.to_string(header=False))\n",
        "\n",
        "# Sentiment Distribution\n",
        "sentiment_distribution = train_data['polarity'].value_counts()\n",
        "print(\"Sentiment Distribution:\")\n",
        "print(sentiment_distribution.to_string(header=False))\n",
        "\n",
        "# Aspect-Sentiment Pair Distribution\n",
        "aspect_sentiment_pairs = train_data.groupby(['aspect', 'polarity']).size().reset_index(name='count')\n",
        "print(\"Aspect-Sentiment Pair Distribution:\")\n",
        "print(aspect_sentiment_pairs.to_string(header=False))"
      ]
    },
    {
      "cell_type": "markdown",
      "metadata": {
        "id": "Ni3Js2GkMOsY"
      },
      "source": [
        "## Data Preprocessing"
      ]
    },
    {
      "cell_type": "code",
      "execution_count": null,
      "metadata": {
        "colab": {
          "base_uri": "https://localhost:8080/"
        },
        "id": "sNpZV4StMOsY",
        "outputId": "4e021417-e91d-44b6-ee43-6c3160882a1f"
      },
      "outputs": [
        {
          "name": "stderr",
          "output_type": "stream",
          "text": [
            "[nltk_data] Downloading package punkt to\n",
            "[nltk_data]     C:\\Users\\allis\\AppData\\Roaming\\nltk_data...\n",
            "[nltk_data]   Package punkt is already up-to-date!\n",
            "[nltk_data] Downloading package stopwords to\n",
            "[nltk_data]     C:\\Users\\allis\\AppData\\Roaming\\nltk_data...\n",
            "[nltk_data]   Package stopwords is already up-to-date!\n",
            "[nltk_data] Downloading package wordnet to\n",
            "[nltk_data]     C:\\Users\\allis\\AppData\\Roaming\\nltk_data...\n",
            "[nltk_data]   Package wordnet is already up-to-date!\n",
            "[nltk_data] Downloading package averaged_perceptron_tagger to\n",
            "[nltk_data]     C:\\Users\\allis\\AppData\\Roaming\\nltk_data...\n",
            "[nltk_data]   Package averaged_perceptron_tagger is already up-to-\n",
            "[nltk_data]       date!\n"
          ]
        }
      ],
      "source": [
        "# Punctuation Removal\n",
        "def remove_punctuation_re(x):\n",
        "    x = re.sub(r'[^\\w\\s]','',x)\n",
        "    return x\n",
        "\n",
        "nltk.download('punkt')\n",
        "\n",
        "# Stopwords Removal\n",
        "nltk.download('stopwords')\n",
        "from nltk.corpus import stopwords as sw\n",
        "from nltk.tokenize import word_tokenize\n",
        "stopwords = sw.words('english')\n",
        "\n",
        "# Stemming\n",
        "from nltk.stem import PorterStemmer\n",
        "stemmer = PorterStemmer()\n",
        "\n",
        "# Lemmatisation\n",
        "nltk.download('wordnet')\n",
        "from nltk.stem import WordNetLemmatizer\n",
        "lemmatizer = WordNetLemmatizer()\n",
        "\n",
        "# POS Tagging\n",
        "nltk.download('averaged_perceptron_tagger')\n",
        "from nltk.tag import pos_tag\n",
        "\n",
        "# English Contractions Dictionary\n",
        "contraction_dict = {\"ain't\": \"is not\", \"aren't\": \"are not\",\"can't\": \"cannot\", \"'cause\": \"because\", \"could've\": \"could have\",\n",
        "                    \"couldn't\": \"could not\", \"didn't\": \"did not\",  \"doesn't\": \"does not\", \"don't\": \"do not\", \"hadn't\": \"had not\",\n",
        "                    \"hasn't\": \"has not\", \"haven't\": \"have not\", \"he'd\": \"he would\",\"he'll\": \"he will\", \"he's\": \"he is\", \"how'd\": \"how did\",\n",
        "                    \"how'd'y\": \"how do you\", \"how'll\": \"how will\", \"how's\": \"how is\",  \"I'd\": \"I would\", \"I'd've\": \"I would have\",\n",
        "                    \"I'll\": \"I will\", \"I'll've\": \"I will have\",\"I'm\": \"I am\", \"I've\": \"I have\", \"i'd\": \"i would\", \"i'd've\": \"i would have\",\n",
        "                    \"i'll\": \"i will\",  \"i'll've\": \"i will have\",\"i'm\": \"i am\", \"i've\": \"i have\", \"isn't\": \"is not\", \"it'd\": \"it would\",\n",
        "                    \"it'd've\": \"it would have\", \"it'll\": \"it will\", \"it'll've\": \"it will have\",\"it's\": \"it is\", \"let's\": \"let us\",\n",
        "                    \"ma'am\": \"madam\", \"mayn't\": \"may not\", \"might've\": \"might have\",\"mightn't\": \"might not\",\"mightn't've\": \"might not have\",\n",
        "                    \"must've\": \"must have\", \"mustn't\": \"must not\", \"mustn't've\": \"must not have\", \"needn't\": \"need not\", \"needn't've\": \"need not have\",\n",
        "                    \"o'clock\": \"of the clock\", \"oughtn't\": \"ought not\", \"oughtn't've\": \"ought not have\", \"shan't\": \"shall not\", \"sha'n't\": \"shall not\",\n",
        "                    \"shan't've\": \"shall not have\", \"she'd\": \"she would\", \"she'd've\": \"she would have\", \"she'll\": \"she will\", \"she'll've\": \"she will have\",\n",
        "                    \"she's\": \"she is\", \"should've\": \"should have\", \"shouldn't\": \"should not\", \"shouldn't've\": \"should not have\", \"so've\": \"so have\",\n",
        "                    \"so's\": \"so as\", \"this's\": \"this is\",\"that'd\": \"that would\", \"that'd've\": \"that would have\", \"that's\": \"that is\", \"there'd\": \"there would\",\n",
        "                    \"there'd've\": \"there would have\", \"there's\": \"there is\", \"here's\": \"here is\",\"they'd\": \"they would\", \"they'd've\": \"they would have\",\n",
        "                    \"they'll\": \"they will\", \"they'll've\": \"they will have\", \"they're\": \"they are\", \"they've\": \"they have\", \"to've\": \"to have\", \"wasn't\": \"was not\",\n",
        "                    \"we'd\": \"we would\", \"we'd've\": \"we would have\", \"we'll\": \"we will\", \"we'll've\": \"we will have\", \"we're\": \"we are\", \"we've\": \"we have\",\n",
        "                    \"weren't\": \"were not\", \"what'll\": \"what will\", \"what'll've\": \"what will have\", \"what're\": \"what are\",  \"what's\": \"what is\", \"what've\": \"what have\",\n",
        "                    \"when's\": \"when is\", \"when've\": \"when have\", \"where'd\": \"where did\", \"where's\": \"where is\", \"where've\": \"where have\", \"who'll\": \"who will\",\n",
        "                    \"who'll've\": \"who will have\", \"who's\": \"who is\", \"who've\": \"who have\", \"why's\": \"why is\", \"why've\": \"why have\", \"will've\": \"will have\",\n",
        "                    \"won't\": \"will not\", \"won't've\": \"will not have\", \"would've\": \"would have\", \"wouldn't\": \"would not\", \"wouldn't've\": \"would not have\",\n",
        "                    \"y'all\": \"you all\", \"y'all'd\": \"you all would\",\"y'all'd've\": \"you all would have\",\"y'all're\": \"you all are\",\"y'all've\": \"you all have\",\n",
        "                    \"you'd\": \"you would\", \"you'd've\": \"you would have\", \"you'll\": \"you will\", \"you'll've\": \"you will have\", \"you're\": \"you are\", \"you've\": \"you have\"}\n"
      ]
    },
    {
      "cell_type": "code",
      "execution_count": null,
      "metadata": {
        "id": "RtUZZzHbMOsa"
      },
      "outputs": [],
      "source": [
        "# Function to preprocess the data\n",
        "def preprocess_data(sentence_list):\n",
        "    output_list = []\n",
        "    for sentence in sentence_list:\n",
        "        # Emoticons\n",
        "        sentence = sentence.lower()                     # Case folding\n",
        "        for word, new_word in contraction_dict.items(): # Deal with contractions\n",
        "            sentence = sentence.replace(word, new_word)\n",
        "        sentence = remove_punctuation_re(sentence)      # Remove punctuation\n",
        "        tokens = word_tokenize(sentence)                # Tokenise\n",
        "        # Stopwords removal\n",
        "        # tokens = [word for word in tokens if word.lower() not in stopwords]\n",
        "        # Lemmatisation\n",
        "        # tokens = [lemmatizer.lemmatize(word) for word in tokens]\n",
        "        output_list.append(tokens)\n",
        "    return output_list\n",
        "\n",
        "# Preprocess the data and get the tokenised sentence lists\n",
        "train_x_token = preprocess_data(training_x)\n",
        "test_x_token = preprocess_data(test_x)\n",
        "val_x_token = preprocess_data(val_x)"
      ]
    },
    {
      "cell_type": "code",
      "execution_count": null,
      "metadata": {
        "id": "RHTFH4HHMOsa"
      },
      "outputs": [],
      "source": [
        "# Word vocabulary to index dictionary {word: index}\n",
        "word_to_idx = {\"<PAD>\": 0}\n",
        "for sentence in train_x_token+test_x_token+val_x_token:\n",
        "    for word in sentence:\n",
        "        if word not in word_to_idx:\n",
        "            word_to_idx[word] = len(word_to_idx)\n",
        "word_list = list(word_to_idx.keys())\n",
        "idx_to_word = {idx: word for word, idx in word_to_idx.items()}\n",
        "vocab_size = len(word_to_idx)\n",
        "\n",
        "# Aspect vocabulary to index dictionary {aspect: index}\n",
        "aspect_to_idx = {\n",
        "    \"food\": 0,\n",
        "    \"service\": 1,\n",
        "    \"staff\": 2,\n",
        "    \"price\": 3,\n",
        "    \"ambience\": 4,\n",
        "    \"menu\": 5,\n",
        "    \"place\": 6,\n",
        "    \"miscellaneous\": 7\n",
        "}\n",
        "idx_to_aspect = {idx: aspect for aspect, idx in aspect_to_idx.items()}\n",
        "num_aspects = len(aspect_to_idx)\n",
        "\n",
        "# Polarity vocabulary to index dictionary {polarity: index}\n",
        "polarity_to_idx = {\n",
        "    'positive': 0,\n",
        "    'neutral': 1,\n",
        "    'negative': 2\n",
        "}\n",
        "idx_to_polarity = {idx: polarity for polarity, idx in polarity_to_idx.items()}\n",
        "num_polarities = len(polarity_to_idx)"
      ]
    },
    {
      "cell_type": "code",
      "execution_count": null,
      "metadata": {},
      "outputs": [],
      "source": [
        "# Add paddings\n",
        "longest_sentence = max(train_x_token, key=len)\n",
        "MAX_LENGTH = len(longest_sentence)\n",
        "\n",
        "def add_paddings(sentence, max_seq_length):\n",
        "    return sentence + ['<PAD>'] * (max_seq_length - len(sentence))\n",
        "\n",
        "train_x_padded = [add_paddings(sentence, MAX_LENGTH) for sentence in train_x_token]"
      ]
    },
    {
      "cell_type": "code",
      "execution_count": null,
      "metadata": {
        "id": "ExTMDoTmMOsb",
        "outputId": "f8cd6fb0-f18c-4b9a-d322-9a3e0be113c3"
      },
      "outputs": [],
      "source": [
        "# Token index lists for training data\n",
        "train_x_idx = []\n",
        "for sentence in train_x_token:\n",
        "    sentence_idx = [word_to_idx[word] for word in sentence]\n",
        "    train_x_idx.append(sentence_idx)\n",
        "\n",
        "train_y_idx = []\n",
        "for polarity in training_y:\n",
        "    polarity_idx = polarity_to_idx[polarity]\n",
        "    train_y_idx.append(polarity_idx)\n",
        "\n",
        "# One-hot encoding for training data\n",
        "train_x_onehot = []\n",
        "for sentence in train_x_idx:\n",
        "    sentence_onehot = np.zeros(len(word_to_idx))\n",
        "    for idx in sentence:\n",
        "        sentence_onehot[idx] = 1\n",
        "    train_x_onehot.append(sentence_onehot)\n",
        "train_x_onehot = torch.tensor(train_x_onehot)\n",
        "\n",
        "train_y_onehot = []\n",
        "for idx in train_y_idx:\n",
        "    target_onehot = np.zeros(len(polarity_to_idx))\n",
        "    target_onehot[idx] = 1\n",
        "    train_y_onehot.append(target_onehot)\n",
        "train_y_onehot = torch.tensor(train_y_onehot)"
      ]
    },
    {
      "cell_type": "markdown",
      "metadata": {
        "id": "QMAG9jAQMOsd"
      },
      "source": [
        "# 2. Model Implementation"
      ]
    },
    {
      "cell_type": "markdown",
      "metadata": {
        "id": "j51j5z2PMOsd"
      },
      "source": [
        "## Model Architecture"
      ]
    },
    {
      "cell_type": "code",
      "execution_count": null,
      "metadata": {},
      "outputs": [],
      "source": [
        "# Encoder\n",
        "class Encoder(nn.Module):\n",
        "    def __init__(self, hidden_size, embedding):\n",
        "        super(Encoder, self).__init__()\n",
        "        self.hidden_size = hidden_size\n",
        "        self.embedding = embedding\n",
        "        self.gru = nn.GRU(hidden_size, hidden_size)\n",
        "        \n",
        "    def forward(self, input, hidden):\n",
        "        embedded = self.embedding(input).view(1, 1, -1)\n",
        "        output, hidden = self.gru(embedded, hidden)\n",
        "        return output, hidden\n",
        "    \n",
        "    def init_hidden(self):\n",
        "        return torch.zeros(1, 1, self.hidden_size)\n",
        "\n",
        "# Decoder\n",
        "class Decoder(nn.Module):\n",
        "    def __init__(self, hidden_size, output_size, embedding, dropout_p=0.1):\n",
        "        super(Decoder, self).__init__()\n",
        "        self.hidden_size = hidden_size\n",
        "        self.output_size = output_size\n",
        "        self.dropout_p = dropout_p\n",
        "        self.embedding = embedding\n",
        "        self.dropout = nn.Dropout(self.dropout_p)\n",
        "        self.gru = nn.GRU(hidden_size, hidden_size)\n",
        "        self.out = nn.Linear(hidden_size*2, output_size)\n",
        "    \n",
        "    def cal_attention(self, hidden, encoder_hiddens):\n",
        "        attn_weights = F.softmax(torch.bmm(hidden, encoder_hiddens.T.unsqueeze(0)), dim=-1)\n",
        "        attn_output = torch.bmm(attn_weights, encoder_hiddens.unsqueeze(0))\n",
        "        concat_output = torch.cat((attn_output[0], hidden[0]), 1)\n",
        "        return concat_output\n",
        "    \n",
        "    def forward(self, input, hidden, encoder_hiddens):\n",
        "        embedded = self.embedding(input).view(1, 1, -1)\n",
        "        embedded = self.dropout(embedded)\n",
        "        output, hidden = self.gru(embedded, hidden)\n",
        "        concat_output = self.cal_attention(hidden, encoder_hiddens)\n",
        "        output = F.log_softmax(self.out(concat_output), dim=1)\n",
        "        return output, hidden\n",
        "    \n",
        "    def init_hidden(self):\n",
        "        return torch.zeros(1, 1, self.hidden_size)"
      ]
    },
    {
      "cell_type": "code",
      "execution_count": null,
      "metadata": {},
      "outputs": [],
      "source": [
        "# # Encoder\n",
        "# class Encoder(nn.Module):\n",
        "#     def __init__(self, input_size, embed_size, hidden_size):\n",
        "#         super(Encoder, self).__init__()\n",
        "#         self.hidden_size = hidden_size\n",
        "#         self.embedding = nn.Embedding(input_size, embed_size)\n",
        "#         self.gru = nn.GRU(embed_size, hidden_size)\n",
        "        \n",
        "#     def forward(self, input, encoder_hidden):\n",
        "#         embedded = self.embedding(input).view(1, 1, -1)\n",
        "#         output, hidden = self.gru(embedded, encoder_hidden)\n",
        "#         return output, hidden\n",
        "    \n",
        "#     def init_hidden(self):\n",
        "#         return torch.zeros(1, 1, self.hidden_size)\n",
        "\n",
        "# # Decoder\n",
        "# class Decoder(nn.Module):\n",
        "#     def __init__(self, output_size, embed_size, hidden_size):\n",
        "#         super(Decoder, self).__init__()\n",
        "#         self.hidden_size = hidden_size\n",
        "#         self.embedding = nn.Embedding(output_size, embed_size)\n",
        "#         self.gru = nn.GRU(embed_size, hidden_size)\n",
        "#         self.out = nn.Linear(hidden_size, output_size)\n",
        "        \n",
        "#     def forward(self, input):\n",
        "#         embedded = self.embedding(input)\n",
        "#         output, hidden = self.gru(embedded, self.hidden_size)\n",
        "#         output = F.log_softmax(self.out(output[0]), dim=1)\n",
        "#         return output, hidden\n",
        "    \n",
        "#     def init_hidden(self):\n",
        "#         return torch.zeros(1, 1, self.hidden_size)"
      ]
    },
    {
      "cell_type": "markdown",
      "metadata": {},
      "source": [
        "## Model Training"
      ]
    },
    {
      "cell_type": "code",
      "execution_count": null,
      "metadata": {},
      "outputs": [
        {
          "name": "stdout",
          "output_type": "stream",
          "text": [
            "Epoch [500/10000], Loss: 1.6292\n",
            "Epoch [1000/10000], Loss: 1.1510\n",
            "Epoch [1500/10000], Loss: 1.2697\n",
            "Epoch [2000/10000], Loss: 0.6066\n",
            "Epoch [2500/10000], Loss: 1.0890\n"
          ]
        }
      ],
      "source": [
        "num_epochs = 10000\n",
        "display_interval = 500\n",
        "learning_rate = 0.01\n",
        "hidden_size = 50\n",
        "embedding = nn.Embedding(vocab_size, hidden_size)\n",
        "\n",
        "encoder = Encoder(hidden_size, embedding)\n",
        "decoder = Decoder(hidden_size, num_polarities, embedding, dropout_p=0.1)\n",
        "\n",
        "encoder_optimizer = optim.SGD(encoder.parameters(), lr=learning_rate)\n",
        "decoder_optimizer = optim.SGD(decoder.parameters(), lr=learning_rate)\n",
        "criterion = nn.NLLLoss()\n",
        "\n",
        "for epoch in range(1, num_epochs+1):\n",
        "    random_idx = random.choice(range(len(train_data)))\n",
        "    x_index = train_x_idx[random_idx]\n",
        "    y_index = train_y_idx[random_idx]\n",
        "    \n",
        "    x_tensor = torch.LongTensor(x_index)\n",
        "    y_tensor = torch.LongTensor([y_index])\n",
        "    x_length = x_tensor.size(0)\n",
        "    \n",
        "    encoder_optimizer.zero_grad()\n",
        "    decoder_optimizer.zero_grad()\n",
        "    \n",
        "    # Feed the x_tensor (sentence) into the encoder\n",
        "    encoder_hiddens = torch.zeros(x_length, encoder.hidden_size) # For attention mechanism\n",
        "    encoder_hidden = encoder.init_hidden() # Hidden state for encoder\n",
        "    for i in range(x_length):\n",
        "        encoder_output, encoder_hidden = encoder(x_tensor[i], encoder_hidden)\n",
        "        encoder_hiddens[i] = encoder_hidden[0, 0]\n",
        "\n",
        "    decoder_input = torch.LongTensor([[0.0]]) \n",
        "    decoder_hidden = encoder_hidden\n",
        "\n",
        "    # Feed the y_tensor (polarity) into the decoder with teacher forcing\n",
        "    decoder_output, decoder_hidden = decoder(decoder_input, decoder_hidden, encoder_hiddens)\n",
        "    loss = criterion(decoder_output, y_tensor)\n",
        "\n",
        "    # Backpropagation\n",
        "    loss.backward()\n",
        "    encoder_optimizer.step()\n",
        "    decoder_optimizer.step()\n",
        "    \n",
        "    loss = loss.item()\n",
        "    if (epoch+1) % display_interval == 0:\n",
        "        print(f'Epoch [{epoch+1}/{num_epochs}], Loss: {loss:.4f}')\n",
        "    "
      ]
    },
    {
      "cell_type": "markdown",
      "metadata": {
        "id": "vtiV9R_-MOse"
      },
      "source": [
        "## Model 2"
      ]
    },
    {
      "cell_type": "code",
      "execution_count": null,
      "metadata": {
        "id": "-Yh2t9BWMOse"
      },
      "outputs": [],
      "source": []
    },
    {
      "cell_type": "markdown",
      "metadata": {
        "id": "iDG1d3alMOse"
      },
      "source": [
        "## Model 3"
      ]
    },
    {
      "cell_type": "code",
      "execution_count": null,
      "metadata": {
        "id": "rnqZzxz_MOse"
      },
      "outputs": [],
      "source": []
    },
    {
      "cell_type": "markdown",
      "metadata": {
        "id": "LN2DiGh4MOse"
      },
      "source": [
        "# 3. Testing and Evaluation"
      ]
    },
    {
      "cell_type": "markdown",
      "metadata": {},
      "source": [
        "## Model Evaluation"
      ]
    },
    {
      "cell_type": "code",
      "execution_count": null,
      "metadata": {},
      "outputs": [],
      "source": [
        "def evaluate(encoder, decoder, sentence, max_length=MAX_LENGTH):\n",
        "    with torch.no_grad():\n",
        "        sent_pad = add_paddings(sentence, max_length)\n",
        "        sent_idx = [word_to_idx[word] for word in sent_pad]\n",
        "        sent_tensor = torch.LongTensor([[ind] for ind in sent_idx])\n",
        "        sent_length = sent_tensor.size(0)\n",
        "        encoder_hidden = encoder.init_hidden()\n",
        "\n",
        "        encoder_hiddens = torch.zeros(max_length, encoder.hidden_size)\n",
        "\n",
        "        for ei in range(sent_length):\n",
        "            _, encoder_hidden = encoder(sent_tensor[ei], encoder_hidden)\n",
        "            encoder_hiddens[ei] += encoder_hidden[0, 0]\n",
        "\n",
        "        decoder_input = torch.LongTensor([[0.0]]) \n",
        "        decoder_hidden = encoder_hidden\n",
        "\n",
        "        decoder_output, decoder_hidden = decoder(decoder_input, decoder_hidden, encoder_hiddens)\n",
        "        topv, topi = decoder_output.data.topk(1)\n",
        "        decoded_polarity = idx_to_polarity[topi.item()]\n",
        "        decoder_input = topi.squeeze().detach()\n",
        "\n",
        "        return decoded_polarity"
      ]
    },
    {
      "cell_type": "code",
      "execution_count": null,
      "metadata": {},
      "outputs": [
        {
          "name": "stdout",
          "output_type": "stream",
          "text": [
            "tensor([[-0.3825]])\n",
            "tensor([[1]])\n",
            "Predicted polarity: neutral, Actual polarity: neutral\n"
          ]
        }
      ],
      "source": [
        "# Test the model using the test data\n",
        "for i in range(len(test_x_token)):\n",
        "    polarity = evaluate(encoder, decoder, test_x_token[i])\n",
        "    print(f\"Predicted polarity: {polarity}, Actual polarity: {test_y[i]}\")\n",
        "    break"
      ]
    }
  ],
  "metadata": {
    "colab": {
      "provenance": []
    },
    "kernelspec": {
      "display_name": "cits5508-2024",
      "language": "python",
      "name": "python3"
    },
    "language_info": {
      "codemirror_mode": {
        "name": "ipython",
        "version": 3
      },
      "file_extension": ".py",
      "mimetype": "text/x-python",
      "name": "python",
      "nbconvert_exporter": "python",
      "pygments_lexer": "ipython3",
      "version": "3.12.2"
    }
  },
  "nbformat": 4,
  "nbformat_minor": 0
}
