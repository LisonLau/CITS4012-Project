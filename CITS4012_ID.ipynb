{
 "cells": [
  {
   "cell_type": "markdown",
   "metadata": {},
   "source": [
    "## Import the libraries"
   ]
  },
  {
   "cell_type": "code",
   "execution_count": 3,
   "metadata": {},
   "outputs": [],
   "source": [
    "import json\n",
    "import pandas as pd"
   ]
  },
  {
   "cell_type": "markdown",
   "metadata": {},
   "source": [
    "## Loading the datasets"
   ]
  },
  {
   "cell_type": "code",
   "execution_count": 10,
   "metadata": {},
   "outputs": [
    {
     "name": "stdout",
     "output_type": "stream",
     "text": [
      "Training data size\t (7090, 3)\n",
      "Test data size\t\t (901, 3)\n",
      "Validation data size\t (888, 3)\n"
     ]
    }
   ],
   "source": [
    "# Load the training data\n",
    "with open('train.json', 'r') as file:\n",
    "    data = json.load(file)\n",
    "    train_data = pd.DataFrame(data['data'], columns=data['columns'])\n",
    "\n",
    "# Load the test data\n",
    "with open('test.json', 'r') as file:\n",
    "    data = json.load(file)\n",
    "    test_data = pd.DataFrame(data['data'], columns=data['columns'])\n",
    "    \n",
    "# Load the validation data\n",
    "with open('val.json', 'r') as file:\n",
    "    data = json.load(file)\n",
    "    val_data = pd.DataFrame(data['data'], columns=data['columns'])\n",
    "\n",
    "print(\"Training data size\\t\", train_data.shape)\n",
    "print(\"Test data size\\t\\t\", test_data.shape)\n",
    "print(\"Validation data size\\t\", val_data.shape)\n"
   ]
  }
 ],
 "metadata": {
  "kernelspec": {
   "display_name": "cits5508-2024",
   "language": "python",
   "name": "python3"
  },
  "language_info": {
   "codemirror_mode": {
    "name": "ipython",
    "version": 3
   },
   "file_extension": ".py",
   "mimetype": "text/x-python",
   "name": "python",
   "nbconvert_exporter": "python",
   "pygments_lexer": "ipython3",
   "version": "3.12.2"
  }
 },
 "nbformat": 4,
 "nbformat_minor": 2
}
