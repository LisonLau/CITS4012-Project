{
 "cells": [
  {
   "cell_type": "markdown",
   "metadata": {},
   "source": [
    "# 2024 CITS4012 Project"
   ]
  },
  {
   "cell_type": "markdown",
   "metadata": {},
   "source": [
    "# Readme\n",
    "\n",
    "notes for marker"
   ]
  },
  {
   "cell_type": "markdown",
   "metadata": {},
   "source": [
    "# 1. Dataset Processing"
   ]
  },
  {
   "cell_type": "markdown",
   "metadata": {},
   "source": [
    "## Import the libraries"
   ]
  },
  {
   "cell_type": "code",
   "execution_count": 3,
   "metadata": {},
   "outputs": [],
   "source": [
    "import json\n",
    "import pandas as pd"
   ]
  },
  {
   "cell_type": "markdown",
   "metadata": {},
   "source": [
    "## Loading the datasets"
   ]
  },
  {
   "cell_type": "code",
   "execution_count": 10,
   "metadata": {},
   "outputs": [
    {
     "name": "stdout",
     "output_type": "stream",
     "text": [
      "Training data size\t (7090, 3)\n",
      "Test data size\t\t (901, 3)\n",
      "Validation data size\t (888, 3)\n"
     ]
    }
   ],
   "source": [
    "# Load the training data\n",
    "with open('train.json', 'r') as file:\n",
    "    data = json.load(file)\n",
    "    train_data = pd.DataFrame(data['data'], columns=data['columns'])\n",
    "\n",
    "# Load the test data\n",
    "with open('test.json', 'r') as file:\n",
    "    data = json.load(file)\n",
    "    test_data = pd.DataFrame(data['data'], columns=data['columns'])\n",
    "    \n",
    "# Load the validation data\n",
    "with open('val.json', 'r') as file:\n",
    "    data = json.load(file)\n",
    "    val_data = pd.DataFrame(data['data'], columns=data['columns'])\n",
    "\n",
    "print(\"Training data size\\t\", train_data.shape)\n",
    "print(\"Test data size\\t\\t\", test_data.shape)\n",
    "print(\"Validation data size\\t\", val_data.shape)\n"
   ]
  },
  {
   "cell_type": "code",
   "execution_count": 19,
   "metadata": {},
   "outputs": [
    {
     "name": "stdout",
     "output_type": "stream",
     "text": [
      "It might be the best sit down food I've had in the area, so if you are going to the upright citizen brigade, or the garden, it could be just the place for you.\n",
      "food = positive\n",
      "place = neutral\n",
      "Hostess was extremely accommodating when we arrived an hour early for our reservation.\n",
      "staff = positive\n",
      "miscellaneous = neutral\n",
      "We were a couple of minutes late for our reservation and minus one guest, but we didn't think we deserved the attitude we got from the hostess.\n",
      "miscellaneous = neutral\n",
      "staff = negative\n"
     ]
    }
   ],
   "source": [
    "# Print to visualise data\n",
    "for i in range(0, 6, 2):\n",
    "    print(train_data['sentence'][i])\n",
    "    print(train_data['aspect'][i], \"=\", train_data['polarity'][i])\n",
    "    print(train_data['aspect'][i+1], \"=\", train_data['polarity'][i+1])"
   ]
  },
  {
   "cell_type": "markdown",
   "metadata": {},
   "source": [
    "# 2. Model Implementation"
   ]
  },
  {
   "cell_type": "markdown",
   "metadata": {},
   "source": [
    "# 3. Testing and Evaluation"
   ]
  }
 ],
 "metadata": {
  "kernelspec": {
   "display_name": "cits5508-2024",
   "language": "python",
   "name": "python3"
  },
  "language_info": {
   "codemirror_mode": {
    "name": "ipython",
    "version": 3
   },
   "file_extension": ".py",
   "mimetype": "text/x-python",
   "name": "python",
   "nbconvert_exporter": "python",
   "pygments_lexer": "ipython3",
   "version": "3.12.2"
  }
 },
 "nbformat": 4,
 "nbformat_minor": 2
}
