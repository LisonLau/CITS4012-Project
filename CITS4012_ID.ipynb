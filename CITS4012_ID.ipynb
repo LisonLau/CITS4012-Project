{
  "cells": [
    {
      "cell_type": "markdown",
      "metadata": {
        "id": "tDcYnRfaMOsP"
      },
      "source": [
        "# 2024 CITS4012 Project"
      ]
    },
    {
      "cell_type": "markdown",
      "metadata": {
        "id": "UzE-7blTMOsS"
      },
      "source": [
        "# Readme\n",
        "\n",
        "notes for marker"
      ]
    },
    {
      "cell_type": "markdown",
      "metadata": {
        "id": "9JArpTqpMOsT"
      },
      "source": [
        "# 1. Dataset Processing"
      ]
    },
    {
      "cell_type": "markdown",
      "metadata": {
        "id": "15myqX_yMOsT"
      },
      "source": [
        "## Import the libraries"
      ]
    },
    {
      "cell_type": "code",
      "execution_count": 236,
      "metadata": {
        "id": "kyPoIBWWMOsU"
      },
      "outputs": [],
      "source": [
        "import re\n",
        "import json\n",
        "import nltk\n",
        "import torch\n",
        "import random\n",
        "import numpy as np\n",
        "import pandas as pd\n",
        "import torch.nn as nn\n",
        "import torch.optim as optim\n",
        "import torch.nn.functional as F\n",
        "import matplotlib.pyplot as plt"
      ]
    },
    {
      "cell_type": "markdown",
      "metadata": {
        "id": "FjBb3WWxMOsV"
      },
      "source": [
        "## Loading the datasets"
      ]
    },
    {
      "cell_type": "code",
      "execution_count": 209,
      "metadata": {
        "colab": {
          "base_uri": "https://localhost:8080/"
        },
        "id": "0JEMS1mAMWg_",
        "outputId": "0090c15d-27da-4152-c128-c780f8181e0d"
      },
      "outputs": [],
      "source": [
        "# # Mount Google Drive\n",
        "# from google.colab import drive\n",
        "# drive.mount('/content/drive')"
      ]
    },
    {
      "cell_type": "code",
      "execution_count": 302,
      "metadata": {
        "colab": {
          "base_uri": "https://localhost:8080/"
        },
        "id": "oXxsKZwoMOsW",
        "outputId": "276a3429-7b4b-4b87-95db-19ce4ce8789f"
      },
      "outputs": [],
      "source": [
        "# Load the training data\n",
        "# with open('/content/drive/MyDrive/data/train.json', 'r') as file:\n",
        "with open('train.json', 'r') as file:\n",
        "    data = json.load(file)\n",
        "    train_data = pd.DataFrame(data['data'], columns=data['columns'])\n",
        "\n",
        "# Load the test data\n",
        "# with open('/content/drive/MyDrive/data/test.json', 'r') as file:\n",
        "with open('test.json', 'r') as file:\n",
        "    data = json.load(file)\n",
        "    test_data = pd.DataFrame(data['data'], columns=data['columns'])\n",
        "\n",
        "# Load the validation data\n",
        "# with open('/content/drive/MyDrive/data/val.json', 'r') as file:\n",
        "with open('val.json', 'r') as file:\n",
        "    data = json.load(file)\n",
        "    val_data = pd.DataFrame(data['data'], columns=data['columns'])\n",
        "\n",
        "# Get the x and y lists for training, test and validation data\n",
        "training_x = train_data['sentence'].tolist()\n",
        "training_a = train_data['aspect'].tolist()\n",
        "training_y = train_data['polarity'].tolist()\n",
        "output_y = [[\"<BOS>\"] + [y] for y in training_y]\n",
        "target_y = [[y] + [\"<EOS>\"]for y in training_y]\n",
        "test_x = test_data['sentence'].tolist()\n",
        "test_a = test_data['aspect'].tolist()\n",
        "test_y = test_data['polarity'].tolist()\n",
        "val_x = val_data['sentence'].tolist()\n",
        "val_a = val_data['aspect'].tolist()\n",
        "val_y = val_data['polarity'].tolist()"
      ]
    },
    {
      "cell_type": "markdown",
      "metadata": {},
      "source": [
        "## Dataset Analysis"
      ]
    },
    {
      "cell_type": "code",
      "execution_count": 303,
      "metadata": {},
      "outputs": [
        {
          "name": "stdout",
          "output_type": "stream",
          "text": [
            "Training data size:\t (7090, 3)\n",
            "Test data size:\t\t (901, 3)\n",
            "Validation data size:\t (888, 3)\n",
            "\n",
            "Aspect Distribution:\n",
            "food             2307\n",
            "staff            1383\n",
            "miscellaneous     954\n",
            "place             694\n",
            "service           631\n",
            "menu              475\n",
            "ambience          324\n",
            "price             322\n",
            "\n",
            "Sentiment Distribution:\n",
            "neutral     3077\n",
            "negative    2084\n",
            "positive    1929\n",
            "\n",
            "Aspect-Sentiment Pair Distribution:\n",
            "(food, neutral)              1298\n",
            "(staff, negative)             922\n",
            "(food, positive)              754\n",
            "(miscellaneous, neutral)      531\n",
            "(place, neutral)              430\n",
            "(menu, neutral)               372\n",
            "(staff, positive)             332\n",
            "(service, negative)           329\n",
            "(food, negative)              255\n",
            "(miscellaneous, positive)     227\n",
            "(miscellaneous, negative)     196\n",
            "(ambience, positive)          181\n",
            "(service, positive)           174\n",
            "(place, negative)             139\n",
            "(price, neutral)              136\n",
            "(staff, neutral)              129\n",
            "(service, neutral)            128\n",
            "(place, positive)             125\n",
            "(price, negative)             114\n",
            "(ambience, negative)           90\n",
            "(price, positive)              72\n",
            "(menu, positive)               64\n",
            "(ambience, neutral)            53\n",
            "(menu, negative)               39\n"
          ]
        }
      ],
      "source": [
        "# Size of datasets\n",
        "print(\"Training data size:\\t\", train_data.shape)\n",
        "print(\"Test data size:\\t\\t\", test_data.shape)\n",
        "print(\"Validation data size:\\t\", val_data.shape)\n",
        "\n",
        "# Aspect Distribution\n",
        "aspect_distribution = train_data['aspect'].value_counts()\n",
        "print(\"\\nAspect Distribution:\")\n",
        "print(aspect_distribution.to_string(header=False))\n",
        "\n",
        "# Sentiment Distribution\n",
        "sentiment_distribution = train_data['polarity'].value_counts()\n",
        "print(\"\\nSentiment Distribution:\")\n",
        "print(sentiment_distribution.to_string(header=False))\n",
        "\n",
        "# Aspect-Sentiment Pair Distribution\n",
        "aspect_polarity_pair = [(a, p) for a, p in zip(train_data['aspect'], train_data['polarity'])]\n",
        "aspect_polarity_freq = pd.Series(aspect_polarity_pair).value_counts()\n",
        "print(\"\\nAspect-Sentiment Pair Distribution:\")\n",
        "print(aspect_polarity_freq.to_string(header=False))"
      ]
    },
    {
      "cell_type": "markdown",
      "metadata": {
        "id": "Ni3Js2GkMOsY"
      },
      "source": [
        "## Data Preprocessing"
      ]
    },
    {
      "cell_type": "code",
      "execution_count": 304,
      "metadata": {
        "colab": {
          "base_uri": "https://localhost:8080/"
        },
        "id": "sNpZV4StMOsY",
        "outputId": "4e021417-e91d-44b6-ee43-6c3160882a1f"
      },
      "outputs": [
        {
          "name": "stderr",
          "output_type": "stream",
          "text": [
            "[nltk_data] Downloading package punkt to\n",
            "[nltk_data]     C:\\Users\\allis\\AppData\\Roaming\\nltk_data...\n",
            "[nltk_data]   Package punkt is already up-to-date!\n",
            "[nltk_data] Downloading package stopwords to\n",
            "[nltk_data]     C:\\Users\\allis\\AppData\\Roaming\\nltk_data...\n",
            "[nltk_data]   Package stopwords is already up-to-date!\n",
            "[nltk_data] Downloading package wordnet to\n",
            "[nltk_data]     C:\\Users\\allis\\AppData\\Roaming\\nltk_data...\n",
            "[nltk_data]   Package wordnet is already up-to-date!\n"
          ]
        }
      ],
      "source": [
        "# Punctuation Removal\n",
        "def remove_punctuation_re(x):\n",
        "    x = re.sub(r'[^\\w\\s]','', x)\n",
        "    return x\n",
        "\n",
        "nltk.download('punkt')\n",
        "\n",
        "# Stopwords Removal\n",
        "nltk.download('stopwords')\n",
        "from nltk.corpus import stopwords as sw\n",
        "from nltk.tokenize import word_tokenize\n",
        "\n",
        "def remove_stopwords(x):\n",
        "    stopwords = sw.words('english')\n",
        "    x = [word for word in x if word.lower() not in stopwords]\n",
        "    return x\n",
        "\n",
        "# Stemming\n",
        "from nltk.stem import PorterStemmer\n",
        "stemmer = PorterStemmer()\n",
        "\n",
        "# Lemmatisation\n",
        "nltk.download('wordnet')\n",
        "from nltk.stem import WordNetLemmatizer\n",
        "\n",
        "def lemmatize(x):\n",
        "    lemmatizer = WordNetLemmatizer()\n",
        "    x = [lemmatizer.lemmatize(word) for word in x]\n",
        "    return x\n",
        "\n",
        "# English Contractions Dictionary\n",
        "contraction_dict = {\"ain't\": \"is not\", \"aren't\": \"are not\",\"can't\": \"cannot\", \"'cause\": \"because\", \"could've\": \"could have\",\n",
        "                    \"couldn't\": \"could not\", \"didn't\": \"did not\",  \"doesn't\": \"does not\", \"don't\": \"do not\", \"hadn't\": \"had not\",\n",
        "                    \"hasn't\": \"has not\", \"haven't\": \"have not\", \"he'd\": \"he would\",\"he'll\": \"he will\", \"he's\": \"he is\", \"how'd\": \"how did\",\n",
        "                    \"how'd'y\": \"how do you\", \"how'll\": \"how will\", \"how's\": \"how is\",  \"I'd\": \"I would\", \"I'd've\": \"I would have\",\n",
        "                    \"I'll\": \"I will\", \"I'll've\": \"I will have\",\"I'm\": \"I am\", \"I've\": \"I have\", \"i'd\": \"i would\", \"i'd've\": \"i would have\",\n",
        "                    \"i'll\": \"i will\",  \"i'll've\": \"i will have\",\"i'm\": \"i am\", \"i've\": \"i have\", \"isn't\": \"is not\", \"it'd\": \"it would\",\n",
        "                    \"it'd've\": \"it would have\", \"it'll\": \"it will\", \"it'll've\": \"it will have\",\"it's\": \"it is\", \"let's\": \"let us\",\n",
        "                    \"ma'am\": \"madam\", \"mayn't\": \"may not\", \"might've\": \"might have\",\"mightn't\": \"might not\",\"mightn't've\": \"might not have\",\n",
        "                    \"must've\": \"must have\", \"mustn't\": \"must not\", \"mustn't've\": \"must not have\", \"needn't\": \"need not\", \"needn't've\": \"need not have\",\n",
        "                    \"o'clock\": \"of the clock\", \"oughtn't\": \"ought not\", \"oughtn't've\": \"ought not have\", \"shan't\": \"shall not\", \"sha'n't\": \"shall not\",\n",
        "                    \"shan't've\": \"shall not have\", \"she'd\": \"she would\", \"she'd've\": \"she would have\", \"she'll\": \"she will\", \"she'll've\": \"she will have\",\n",
        "                    \"she's\": \"she is\", \"should've\": \"should have\", \"shouldn't\": \"should not\", \"shouldn't've\": \"should not have\", \"so've\": \"so have\",\n",
        "                    \"so's\": \"so as\", \"this's\": \"this is\",\"that'd\": \"that would\", \"that'd've\": \"that would have\", \"that's\": \"that is\", \"there'd\": \"there would\",\n",
        "                    \"there'd've\": \"there would have\", \"there's\": \"there is\", \"here's\": \"here is\",\"they'd\": \"they would\", \"they'd've\": \"they would have\",\n",
        "                    \"they'll\": \"they will\", \"they'll've\": \"they will have\", \"they're\": \"they are\", \"they've\": \"they have\", \"to've\": \"to have\", \"wasn't\": \"was not\",\n",
        "                    \"we'd\": \"we would\", \"we'd've\": \"we would have\", \"we'll\": \"we will\", \"we'll've\": \"we will have\", \"we're\": \"we are\", \"we've\": \"we have\",\n",
        "                    \"weren't\": \"were not\", \"what'll\": \"what will\", \"what'll've\": \"what will have\", \"what're\": \"what are\",  \"what's\": \"what is\", \"what've\": \"what have\",\n",
        "                    \"when's\": \"when is\", \"when've\": \"when have\", \"where'd\": \"where did\", \"where's\": \"where is\", \"where've\": \"where have\", \"who'll\": \"who will\",\n",
        "                    \"who'll've\": \"who will have\", \"who's\": \"who is\", \"who've\": \"who have\", \"why's\": \"why is\", \"why've\": \"why have\", \"will've\": \"will have\",\n",
        "                    \"won't\": \"will not\", \"won't've\": \"will not have\", \"would've\": \"would have\", \"wouldn't\": \"would not\", \"wouldn't've\": \"would not have\",\n",
        "                    \"y'all\": \"you all\", \"y'all'd\": \"you all would\",\"y'all'd've\": \"you all would have\",\"y'all're\": \"you all are\",\"y'all've\": \"you all have\",\n",
        "                    \"you'd\": \"you would\", \"you'd've\": \"you would have\", \"you'll\": \"you will\", \"you'll've\": \"you will have\", \"you're\": \"you are\", \"you've\": \"you have\"}\n"
      ]
    },
    {
      "cell_type": "code",
      "execution_count": 305,
      "metadata": {
        "id": "RtUZZzHbMOsa"
      },
      "outputs": [],
      "source": [
        "# Function to preprocess the data\n",
        "def preprocess_data(sentence_list):\n",
        "    output_list = []\n",
        "    for sentence in sentence_list:\n",
        "        sentence = sentence.lower()                     # Case folding\n",
        "        for word, new_word in contraction_dict.items(): # Deal with contractions\n",
        "            sentence = sentence.replace(word, new_word)\n",
        "        sentence = remove_punctuation_re(sentence)      # Remove punctuation\n",
        "        tokens = word_tokenize(sentence)                # Tokenise\n",
        "        # tokens = remove_stopwords(tokens)               # Remove stopwords\n",
        "        # tokens = lemmatize(tokens)                      # Lemmatisation\n",
        "        output_list.append(tokens)\n",
        "    return output_list\n",
        "\n",
        "# Preprocess the data and get the tokenised sentence lists\n",
        "train_x_token = preprocess_data(training_x)\n",
        "test_x_token = preprocess_data(test_x)\n",
        "val_x_token = preprocess_data(val_x)"
      ]
    },
    {
      "cell_type": "code",
      "execution_count": 306,
      "metadata": {
        "id": "RHTFH4HHMOsa"
      },
      "outputs": [],
      "source": [
        "# Get longest sentence length\n",
        "longest_sentence = max(train_x_token, key=len)\n",
        "MAX_LENGTH = len(longest_sentence)\n",
        "\n",
        "# Word vocabulary to index dictionary {word: index}\n",
        "word_to_idx = {\n",
        "    \"<BOS>\": 0, \n",
        "    \"<EOS>\": 1,\n",
        "    \"food\": 2,\n",
        "    \"service\": 3,\n",
        "    \"staff\": 4,\n",
        "    \"price\": 5,\n",
        "    \"ambience\": 6,\n",
        "    \"menu\": 7,\n",
        "    \"place\": 8,\n",
        "    \"miscellaneous\": 9\n",
        "    }\n",
        "\n",
        "for sentence in train_x_token+test_x_token+val_x_token+output_y:\n",
        "# for sentence in train_x_token+output_y:\n",
        "    for word in sentence:\n",
        "        if word not in word_to_idx:\n",
        "            word_to_idx[word] = len(word_to_idx)\n",
        "word_list = list(word_to_idx.keys())\n",
        "idx_to_word = {idx: word for word, idx in word_to_idx.items()}\n",
        "vocab_size = len(word_to_idx)"
      ]
    },
    {
      "cell_type": "code",
      "execution_count": 307,
      "metadata": {
        "id": "ExTMDoTmMOsb",
        "outputId": "f8cd6fb0-f18c-4b9a-d322-9a3e0be113c3"
      },
      "outputs": [],
      "source": [
        "# Token index lists for training data\n",
        "train_x_idx = []\n",
        "for sentence in train_x_token:\n",
        "    sentence_idx = [word_to_idx[word] for word in sentence]\n",
        "    train_x_idx.append(sentence_idx)\n",
        "\n",
        "train_a_idx = []\n",
        "for aspect in training_a:\n",
        "    aspect_idx = word_to_idx[aspect]\n",
        "    train_a_idx.append(aspect_idx)\n",
        "\n",
        "output_y_idx = []\n",
        "for sentence in output_y:\n",
        "    sentence_idx = [word_to_idx[word] for word in sentence]\n",
        "    output_y_idx.append(sentence_idx)\n",
        "\n",
        "target_y_idx = []\n",
        "for sentence in target_y:\n",
        "    sentence_idx = [word_to_idx[word] for word in sentence]\n",
        "    target_y_idx.append(sentence_idx)"
      ]
    },
    {
      "cell_type": "markdown",
      "metadata": {
        "id": "QMAG9jAQMOsd"
      },
      "source": [
        "# 2. Model Implementation"
      ]
    },
    {
      "cell_type": "markdown",
      "metadata": {
        "id": "j51j5z2PMOsd"
      },
      "source": [
        "## LSTM Model"
      ]
    },
    {
      "cell_type": "code",
      "execution_count": 308,
      "metadata": {},
      "outputs": [],
      "source": [
        "# Encoder\n",
        "class LSTMEncoder(nn.Module):\n",
        "    def __init__(self, hidden_size, embedding, num_layers=1):\n",
        "        super(LSTMEncoder, self).__init__()\n",
        "        self.hidden_size = hidden_size\n",
        "        self.embedding = embedding\n",
        "        self.lstm = nn.LSTM(hidden_size, hidden_size, num_layers=num_layers)\n",
        "        \n",
        "    def forward(self, input, hidden, aspect):\n",
        "        word_embedding = self.embedding(input).view(1, 1, -1)\n",
        "        aspect_embedding = self.embedding(aspect).view(1, 1, -1)\n",
        "        word_embedding = torch.cat((aspect_embedding, word_embedding), 0)\n",
        "        output, (hidden, cell) = self.lstm(word_embedding)\n",
        "        return output, hidden, cell\n",
        "    \n",
        "    def init_hidden(self):\n",
        "        return torch.zeros(1, 1, self.hidden_size)\n",
        "\n",
        "# Decoder\n",
        "class LSTMDecoder(nn.Module):\n",
        "    def __init__(self, hidden_size, output_size, embedding, dropout_p=0.1, num_layers=1):\n",
        "        super(LSTMDecoder, self).__init__()\n",
        "        self.hidden_size = hidden_size\n",
        "        self.output_size = output_size\n",
        "        self.dropout_p = dropout_p\n",
        "        self.embedding = embedding\n",
        "        self.dropout = nn.Dropout(self.dropout_p)\n",
        "        self.lstm = nn.LSTM(hidden_size, hidden_size, num_layers=num_layers)\n",
        "        self.out = nn.Linear(hidden_size*2, output_size)\n",
        "    \n",
        "    def cal_attention(self, hidden, encoder_hiddens):\n",
        "        # Dot product attention\n",
        "        attn_weights = F.softmax(torch.bmm(hidden, encoder_hiddens.T.unsqueeze(0)), dim=-1)\n",
        "        attn_output = torch.bmm(attn_weights, encoder_hiddens.unsqueeze(0))\n",
        "        concat_output = torch.cat((attn_output[0], hidden[0]), 1)\n",
        "        \n",
        "        # # Scaled dot product attention\n",
        "        # scale = 1.0 / np.sqrt(self.hidden_size)\n",
        "        # attn_weights = F.softmax(torch.bmm(hidden, encoder_hiddens.T.unsqueeze(0)) * scale, dim=-1)\n",
        "        # attn_output = torch.bmm(attn_weights, encoder_hiddens.unsqueeze(0))\n",
        "        # concat_output = torch.cat((attn_output[0], hidden[0]), 1)\n",
        "            \n",
        "        # # Cosine similarity attention\n",
        "        # dot_product = torch.bmm(hidden, encoder_hiddens.T.unsqueeze(0))\n",
        "        # hidden_norm = torch.norm(hidden, dim=-1).unsqueeze(1)\n",
        "        # encoder_norm = torch.norm(encoder_hiddens, dim=-1).unsqueeze(0)\n",
        "        # norm_product = torch.bmm(hidden_norm, encoder_norm)\n",
        "        # cosine_similarity = dot_product / norm_product\n",
        "        # attn_weights = F.softmax(cosine_similarity, dim=-1)\n",
        "        # attn_output = torch.bmm(attn_weights, encoder_hiddens.unsqueeze(0))\n",
        "        # concat_output = torch.cat((attn_output[0], hidden[0]), 1)\n",
        "        return concat_output\n",
        "    \n",
        "    def forward(self, input, hidden, cell, encoder_hiddens):\n",
        "        word_embedding = self.embedding(input).view(1, 1, -1)\n",
        "        word_embedding = self.dropout(word_embedding)\n",
        "        _, (hidden, cell) = self.lstm(word_embedding, (hidden, cell))\n",
        "        concat_output = self.cal_attention(hidden, encoder_hiddens)\n",
        "        output = F.log_softmax(self.out(concat_output), dim=1)\n",
        "        return output, hidden, cell\n",
        "    \n",
        "    def init_hidden(self):\n",
        "        return torch.zeros(1, 1, self.hidden_size)"
      ]
    },
    {
      "cell_type": "markdown",
      "metadata": {},
      "source": [
        "## LSTM Training"
      ]
    },
    {
      "cell_type": "code",
      "execution_count": 309,
      "metadata": {},
      "outputs": [
        {
          "name": "stdout",
          "output_type": "stream",
          "text": [
            "Epoch [500/10000], Loss: 3.2373\n",
            "Epoch [1000/10000], Loss: 0.5811\n",
            "Epoch [1500/10000], Loss: 0.5387\n",
            "Epoch [2000/10000], Loss: 0.5148\n",
            "Epoch [2500/10000], Loss: 0.5089\n",
            "Epoch [3000/10000], Loss: 0.4978\n",
            "Epoch [3500/10000], Loss: 0.4875\n",
            "Epoch [4000/10000], Loss: 0.4928\n",
            "Epoch [4500/10000], Loss: 0.4715\n",
            "Epoch [5000/10000], Loss: 0.4758\n",
            "Epoch [5500/10000], Loss: 0.4538\n",
            "Epoch [6000/10000], Loss: 0.4408\n",
            "Epoch [6500/10000], Loss: 0.4590\n",
            "Epoch [7000/10000], Loss: 0.4534\n",
            "Epoch [7500/10000], Loss: 0.4641\n",
            "Epoch [8000/10000], Loss: 0.4679\n",
            "Epoch [8500/10000], Loss: 0.4492\n",
            "Epoch [9000/10000], Loss: 0.4563\n",
            "Epoch [9500/10000], Loss: 0.4528\n",
            "Epoch [10000/10000], Loss: 0.4718\n"
          ]
        }
      ],
      "source": [
        "# Set the seed for reproducibility\n",
        "seed = 4012\n",
        "torch.manual_seed(seed)\n",
        "torch.cuda.manual_seed(seed)\n",
        "np.random.seed(seed)\n",
        "random.seed(seed)\n",
        "\n",
        "num_epochs = 10000\n",
        "display_interval = 500\n",
        "learning_rate = 0.01\n",
        "hidden_size = 50\n",
        "embedding = nn.Embedding(vocab_size, hidden_size)\n",
        "\n",
        "encoder = LSTMEncoder(hidden_size, embedding, num_layers=1)\n",
        "decoder = LSTMDecoder(hidden_size, vocab_size, embedding, dropout_p=0.1, num_layers=1)\n",
        "\n",
        "encoder_optimizer = optim.SGD(encoder.parameters(), lr=learning_rate)\n",
        "decoder_optimizer = optim.SGD(decoder.parameters(), lr=learning_rate)\n",
        "criterion = nn.NLLLoss()\n",
        "plot_losses = []\n",
        "plot_avg_losses = []\n",
        "total_loss = 0\n",
        "\n",
        "for epoch in range(1, num_epochs+1):\n",
        "    random_idx = random.choice(range(len(train_data)))\n",
        "    x_index = [[idx] for idx in train_x_idx[random_idx]]\n",
        "    y_index = [[idx] for idx in target_y_idx[random_idx]]\n",
        "    a_index = train_a_idx[random_idx]\n",
        "    \n",
        "    x_tensor = torch.LongTensor(x_index)\n",
        "    y_tensor = torch.LongTensor(y_index)\n",
        "    a_tensor = torch.LongTensor([a_index])\n",
        "    x_length = x_tensor.size(0)\n",
        "    y_length = y_tensor.size(0)\n",
        "    \n",
        "    loss = 0\n",
        "    encoder_optimizer.zero_grad()\n",
        "    decoder_optimizer.zero_grad()\n",
        "    \n",
        "    # Feed the x_tensor (sentence) into the encoder\n",
        "    encoder_hiddens = torch.zeros(MAX_LENGTH, encoder.hidden_size) # For attention mechanism\n",
        "    encoder_hidden = encoder.init_hidden() # Hidden state for encoder\n",
        "    for i in range(x_length):\n",
        "        encoder_output, encoder_hidden, encoder_cell = encoder(x_tensor[i], encoder_hidden, a_tensor)\n",
        "        encoder_hiddens[i] = encoder_hidden[0, 0]\n",
        "\n",
        "    decoder_input = torch.tensor([[word_to_idx[\"<BOS>\"]]]) \n",
        "    decoder_hidden = encoder_hidden\n",
        "    decoder_cell = encoder_cell\n",
        "\n",
        "    # Feed the y_tensor (polarity) into the decoder with teacher forcing\n",
        "    for i in range(y_length):\n",
        "        decoder_output, decoder_hidden, decoder_cell = decoder(decoder_input, decoder_hidden, decoder_cell, encoder_hiddens)\n",
        "        loss += criterion(decoder_output, y_tensor[i])\n",
        "        decoder_input = y_tensor[i]\n",
        "\n",
        "    # Backpropagation\n",
        "    loss.backward()\n",
        "    encoder_optimizer.step()\n",
        "    decoder_optimizer.step()\n",
        "    \n",
        "    loss = loss.item() / y_length\n",
        "    total_loss += loss\n",
        "    plot_losses.append(loss)\n",
        "    \n",
        "    if (epoch+1) % display_interval == 0:\n",
        "        avg_loss = total_loss / display_interval\n",
        "        plot_avg_losses.append(avg_loss)\n",
        "        total_loss = 0\n",
        "        print(f'Epoch [{epoch+1}/{num_epochs}], Loss: {avg_loss:.4f}')"
      ]
    },
    {
      "cell_type": "markdown",
      "metadata": {},
      "source": [
        "## GRU Model"
      ]
    },
    {
      "cell_type": "code",
      "execution_count": 319,
      "metadata": {},
      "outputs": [],
      "source": [
        "# Encoder\n",
        "class GRUEncoder(nn.Module):\n",
        "    def __init__(self, hidden_size, embedding):\n",
        "        super(GRUEncoder, self).__init__()\n",
        "        self.hidden_size = hidden_size\n",
        "        self.embedding = embedding\n",
        "        self.gru = nn.GRU(hidden_size, hidden_size)\n",
        "        \n",
        "    def forward(self, input, hidden, aspect):\n",
        "        word_embedding = self.embedding(input).view(1, 1, -1)\n",
        "        aspect_embedding = self.embedding(aspect).view(1, 1, -1)\n",
        "        word_embedding = torch.cat((word_embedding, aspect_embedding), 0)\n",
        "        output, hidden = self.gru(word_embedding, hidden)\n",
        "        return output, hidden\n",
        "    \n",
        "    def init_hidden(self):\n",
        "        return torch.zeros(1, 1, self.hidden_size)\n",
        "\n",
        "# Decoder\n",
        "class GRUDecoder(nn.Module):\n",
        "    def __init__(self, hidden_size, output_size, embedding, dropout_p=0.1):\n",
        "        super(GRUDecoder, self).__init__()\n",
        "        self.hidden_size = hidden_size\n",
        "        self.output_size = output_size\n",
        "        self.dropout_p = dropout_p\n",
        "        self.embedding = embedding\n",
        "        self.dropout = nn.Dropout(self.dropout_p)\n",
        "        self.gru = nn.GRU(self.hidden_size, self.hidden_size)\n",
        "        self.out = nn.Linear(self.hidden_size*2, self.output_size)\n",
        "    \n",
        "    def cal_attention(self, hidden, encoder_hiddens):\n",
        "        attn_weights = F.softmax(torch.bmm(hidden, encoder_hiddens.T.unsqueeze(0)), dim=-1)\n",
        "        attn_output = torch.bmm(attn_weights, encoder_hiddens.unsqueeze(0))\n",
        "        concat_output = torch.cat((attn_output[0], hidden[0]), 1)\n",
        "        return concat_output\n",
        "    \n",
        "    def forward(self, input, hidden, encoder_hiddens):\n",
        "        word_embedding = self.embedding(input).view(1, 1, -1)\n",
        "        word_embedding = self.dropout(word_embedding)\n",
        "        \n",
        "        # NO ASPECT\n",
        "        _, hidden = self.gru(word_embedding, hidden)\n",
        "        \n",
        "        # YES ASPECT\n",
        "        # aspect_embedding = self.embedding(aspect).view(1, 1, -1)\n",
        "        # x_len = torch.sum(input != 0, dim=-1)\n",
        "        # x_len_max = torch.max(x_len)\n",
        "        # aspect_len = torch.sum(aspect != 0, dim=-1).float()\n",
        "        # aspect_pool = torch.div(torch.sum(aspect, dim=1), aspect_len.unsqueeze(1))\n",
        "        # aspect = aspect_pool.unsqueeze(1).expand(-1, x_len_max, -1)\n",
        "        # embedded = torch.cat((aspect_embedding, word_embedding), 0)\n",
        "        # _, hidden = self.gru(embedded, hidden)\n",
        "        \n",
        "        concat_output = self.cal_attention(hidden, encoder_hiddens)\n",
        "        output = F.log_softmax(self.out(concat_output), dim=1)\n",
        "        return output, hidden\n",
        "    \n",
        "    def init_hidden(self):\n",
        "        return torch.zeros(1, 1, self.hidden_size)"
      ]
    },
    {
      "cell_type": "markdown",
      "metadata": {},
      "source": [
        "## GRU Training"
      ]
    },
    {
      "cell_type": "code",
      "execution_count": 320,
      "metadata": {},
      "outputs": [
        {
          "name": "stdout",
          "output_type": "stream",
          "text": [
            "Epoch [20/200], Loss: 8.3951\n",
            "Epoch [40/200], Loss: 7.8174\n",
            "Epoch [60/200], Loss: 5.8353\n",
            "Epoch [80/200], Loss: 3.6977\n",
            "Epoch [100/200], Loss: 2.2634\n",
            "Epoch [120/200], Loss: 1.4678\n",
            "Epoch [140/200], Loss: 1.0680\n",
            "Epoch [160/200], Loss: 0.8844\n",
            "Epoch [180/200], Loss: 0.7817\n",
            "Epoch [200/200], Loss: 0.7334\n"
          ]
        }
      ],
      "source": [
        "# Set the seed for reproducibility\n",
        "seed = 4012\n",
        "torch.manual_seed(seed)\n",
        "torch.cuda.manual_seed(seed)\n",
        "np.random.seed(seed)\n",
        "random.seed(seed)\n",
        "\n",
        "num_epochs = 200\n",
        "display_interval = 20\n",
        "learning_rate = 0.01\n",
        "hidden_size = 50\n",
        "embedding = nn.Embedding(vocab_size, hidden_size)\n",
        "\n",
        "encoder = GRUEncoder(hidden_size, embedding)\n",
        "decoder = GRUDecoder(hidden_size, vocab_size, embedding, dropout_p=0.1) # vocab_size?\n",
        "\n",
        "encoder_optimizer = optim.SGD(encoder.parameters(), lr=learning_rate)\n",
        "decoder_optimizer = optim.SGD(decoder.parameters(), lr=learning_rate)\n",
        "criterion = nn.NLLLoss()\n",
        "plot_losses = []\n",
        "plot_avg_losses = []\n",
        "total_loss = 0\n",
        "\n",
        "for epoch in range(1, num_epochs+1):\n",
        "    random_idx = random.choice(range(len(train_data)))\n",
        "    x_index = [[idx] for idx in train_x_idx[random_idx]]\n",
        "    y_index = [[idx] for idx in target_y_idx[random_idx]]\n",
        "    a_index = train_a_idx[random_idx]\n",
        "    \n",
        "    x_tensor = torch.LongTensor(x_index)\n",
        "    y_tensor = torch.LongTensor(y_index)\n",
        "    a_tensor = torch.LongTensor([a_index])\n",
        "    x_length = x_tensor.size(0)\n",
        "    y_length = y_tensor.size(0)\n",
        "    \n",
        "    loss = 0\n",
        "    encoder_optimizer.zero_grad()\n",
        "    decoder_optimizer.zero_grad()\n",
        "    \n",
        "    # Feed the x_tensor (sentence) into the encoder\n",
        "    encoder_hiddens = torch.zeros(MAX_LENGTH, encoder.hidden_size) # For attention mechanism\n",
        "    encoder_hidden = encoder.init_hidden() # Hidden state for encoder\n",
        "    for i in range(x_length):\n",
        "        encoder_output, encoder_hidden = encoder(x_tensor[i], encoder_hidden, a_tensor)\n",
        "        encoder_hiddens[i] = encoder_hidden[0, 0]\n",
        "\n",
        "    decoder_input = torch.tensor([[word_to_idx[\"<BOS>\"]]]) \n",
        "    decoder_hidden = encoder_hidden\n",
        "\n",
        "    # Feed the y_tensor (polarity) into the decoder with teacher forcing\n",
        "    for i in range(y_length):\n",
        "        decoder_output, decoder_hidden = decoder(decoder_input, decoder_hidden, encoder_hiddens)\n",
        "        loss += criterion(decoder_output, y_tensor[i])\n",
        "        decoder_input = y_tensor[i]\n",
        "\n",
        "    # Backpropagation\n",
        "    loss.backward()\n",
        "    encoder_optimizer.step()\n",
        "    decoder_optimizer.step()\n",
        "    \n",
        "    loss = loss.item() / y_length\n",
        "    total_loss += loss\n",
        "    plot_losses.append(loss)\n",
        "    \n",
        "    if (epoch+1) % display_interval == 0:\n",
        "        avg_loss = total_loss / display_interval\n",
        "        plot_avg_losses.append(avg_loss)\n",
        "        total_loss = 0\n",
        "        print(f'Epoch [{epoch+1}/{num_epochs}], Loss: {avg_loss:.4f}')"
      ]
    },
    {
      "cell_type": "code",
      "execution_count": 310,
      "metadata": {},
      "outputs": [
        {
          "data": {
            "image/png": "[encoded data removed]",
            "text/plain": [
              "<Figure size 640x480 with 1 Axes>"
            ]
          },
          "metadata": {},
          "output_type": "display_data"
        },
        {
          "data": {
            "image/png": "[encoded data removed]",
            "text/plain": [
              "<Figure size 640x480 with 1 Axes>"
            ]
          },
          "metadata": {},
          "output_type": "display_data"
        }
      ],
      "source": [
        "# Plot loss over number of epochs\n",
        "plt.plot(range(1, num_epochs+1), plot_losses)\n",
        "plt.xlabel('Epochs')\n",
        "plt.ylabel('Loss')\n",
        "plt.title('Loss over number of epochs')\n",
        "plt.show()\n",
        "\n",
        "plt.plot(range(1, num_epochs+1, display_interval), plot_avg_losses)\n",
        "plt.xlabel('Epochs')\n",
        "plt.ylabel('Loss')\n",
        "plt.title('Loss over number of epochs')\n",
        "plt.show()"
      ]
    },
    {
      "cell_type": "markdown",
      "metadata": {
        "id": "LN2DiGh4MOse"
      },
      "source": [
        "# 3. Testing and Evaluation"
      ]
    },
    {
      "cell_type": "markdown",
      "metadata": {},
      "source": [
        "## LSTM Model Evaluation"
      ]
    },
    {
      "cell_type": "code",
      "execution_count": 315,
      "metadata": {},
      "outputs": [],
      "source": [
        "# LSTM evaluate\n",
        "def LSTMevaluate(encoder, decoder, sentence, aspect, max_length=MAX_LENGTH):\n",
        "    with torch.no_grad():\n",
        "        input = preprocess_data([sentence])[0]\n",
        "        input_idx = [word_to_idx[word] for word in input]\n",
        "        input_tensor = torch.LongTensor([[ind] for ind in input_idx])\n",
        "        \n",
        "        input_length = input_tensor.size(0)\n",
        "        encoder_hidden = encoder.init_hidden()\n",
        "        \n",
        "        asp_idx = word_to_idx[aspect]\n",
        "        asp_tensor = torch.LongTensor([[asp_idx]])\n",
        "\n",
        "        encoder_hiddens = torch.zeros(max_length, encoder.hidden_size)\n",
        "\n",
        "        for ei in range(input_length):\n",
        "            _, encoder_hidden, encoder_cell = encoder(input_tensor[ei], encoder_hidden, asp_tensor)\n",
        "            encoder_hiddens[ei] += encoder_hidden[0, 0]\n",
        "\n",
        "        decoder_input = torch.LongTensor([[word_to_idx[\"<BOS>\"]]]) \n",
        "        decoder_hidden = encoder_hidden\n",
        "        decoder_cell = encoder_cell\n",
        "        decoded_words = []\n",
        "        \n",
        "        for di in range(max_length):\n",
        "            decoder_output, decoder_hidden, decoder_cell = decoder(decoder_input, decoder_hidden, decoder_cell, encoder_hiddens)\n",
        "            topv, topi = decoder_output.data.topk(1)\n",
        "            if topi.item() == word_to_idx[\"<EOS>\"]:\n",
        "                decoded_words.append(\"<EOS>\")\n",
        "                break\n",
        "            else:\n",
        "                decoded_words.append(word_list[topi.item()])\n",
        "            decoder_input = topi.squeeze().detach()\n",
        "\n",
        "        return decoded_words"
      ]
    },
    {
      "cell_type": "code",
      "execution_count": 316,
      "metadata": {},
      "outputs": [
        {
          "name": "stdout",
          "output_type": "stream",
          "text": [
            "Predicted polarity: negative, Actual polarity: neutral\n",
            "Predicted polarity: positive, Actual polarity: positive\n",
            "Predicted polarity: negative, Actual polarity: negative\n",
            "Predicted polarity: neutral, Actual polarity: neutral\n",
            "Predicted polarity: negative, Actual polarity: negative\n",
            "Predicted polarity: neutral, Actual polarity: neutral\n",
            "Predicted polarity: negative, Actual polarity: neutral\n",
            "Predicted polarity: neutral, Actual polarity: negative\n",
            "Predicted polarity: neutral, Actual polarity: positive\n",
            "Predicted polarity: neutral, Actual polarity: neutral\n"
          ]
        }
      ],
      "source": [
        "# Test the LSTM model using the val data\n",
        "for i in range(len(val_x[:10])):\n",
        "    polarity = LSTMevaluate(encoder, decoder, val_x[i], val_a[i])[0]\n",
        "    print(f\"Predicted polarity: {polarity}, Actual polarity: {val_y[i]}\")"
      ]
    },
    {
      "cell_type": "code",
      "execution_count": 317,
      "metadata": {},
      "outputs": [
        {
          "name": "stdout",
          "output_type": "stream",
          "text": [
            "Predicted polarity: neutral, Actual polarity: neutral\n",
            "Predicted polarity: neutral, Actual polarity: negative\n",
            "Predicted polarity: positive, Actual polarity: positive\n",
            "Predicted polarity: negative, Actual polarity: negative\n",
            "Predicted polarity: negative, Actual polarity: negative\n",
            "Predicted polarity: neutral, Actual polarity: neutral\n",
            "Predicted polarity: neutral, Actual polarity: negative\n",
            "Predicted polarity: neutral, Actual polarity: neutral\n",
            "Predicted polarity: neutral, Actual polarity: neutral\n",
            "Predicted polarity: negative, Actual polarity: negative\n"
          ]
        }
      ],
      "source": [
        "# Test the LSTM model using the test data\n",
        "for i in range(len(test_x[:10])):\n",
        "    polarity = LSTMevaluate(encoder, decoder, test_x[i], test_a[i])[0]\n",
        "    print(f\"Predicted polarity: {polarity}, Actual polarity: {test_y[i]}\")"
      ]
    },
    {
      "cell_type": "code",
      "execution_count": 318,
      "metadata": {},
      "outputs": [
        {
          "name": "stdout",
          "output_type": "stream",
          "text": [
            "Accuracy: 0.6082\n"
          ]
        }
      ],
      "source": [
        "# Measure accuracy of LSTM model on test set\n",
        "correct = 0\n",
        "for i in range(len(test_x)):\n",
        "    polarity = LSTMevaluate(encoder, decoder, test_x[i], test_a[i])[0]\n",
        "    if polarity == test_y[i]:\n",
        "        correct += 1\n",
        "accuracy = correct / len(test_x_token)\n",
        "print(f\"Accuracy: {accuracy:.4f}\")"
      ]
    },
    {
      "cell_type": "markdown",
      "metadata": {},
      "source": [
        "## GRU Model Evaluation"
      ]
    },
    {
      "cell_type": "code",
      "execution_count": 321,
      "metadata": {},
      "outputs": [],
      "source": [
        "# GRU evaluate\n",
        "def GRUevaluate(encoder, decoder, sentence, aspect, max_length=MAX_LENGTH):\n",
        "    with torch.no_grad():\n",
        "        input = preprocess_data([sentence])[0]\n",
        "        input_idx = [word_to_idx[word] for word in input]\n",
        "        input_tensor = torch.LongTensor([[ind] for ind in input_idx])\n",
        "        \n",
        "        input_length = input_tensor.size(0)\n",
        "        encoder_hidden = encoder.init_hidden()\n",
        "        \n",
        "        asp_idx = word_to_idx[aspect]\n",
        "        asp_tensor = torch.LongTensor([[asp_idx]])\n",
        "\n",
        "        encoder_hiddens = torch.zeros(max_length, encoder.hidden_size)\n",
        "\n",
        "        for ei in range(input_length):\n",
        "            _, encoder_hidden = encoder(input_tensor[ei], encoder_hidden, asp_tensor)\n",
        "            encoder_hiddens[ei] += encoder_hidden[0, 0]\n",
        "\n",
        "        decoder_input = torch.LongTensor([[word_to_idx[\"<BOS>\"]]]) \n",
        "        decoder_hidden = encoder_hidden\n",
        "        decoded_words = []\n",
        "        \n",
        "        for di in range(max_length):\n",
        "            decoder_output, decoder_hidden = decoder(decoder_input, decoder_hidden, encoder_hiddens)\n",
        "            topv, topi = decoder_output.data.topk(1)\n",
        "            if topi.item() == word_to_idx[\"<EOS>\"]:\n",
        "                decoded_words.append(\"<EOS>\")\n",
        "                break\n",
        "            else:\n",
        "                decoded_words.append(word_list[topi.item()])\n",
        "            decoder_input = topi.squeeze().detach()\n",
        "\n",
        "        return decoded_words"
      ]
    },
    {
      "cell_type": "code",
      "execution_count": 322,
      "metadata": {},
      "outputs": [
        {
          "name": "stdout",
          "output_type": "stream",
          "text": [
            "Predicted polarity: neutral, Actual polarity: neutral\n",
            "Predicted polarity: neutral, Actual polarity: positive\n",
            "Predicted polarity: negative, Actual polarity: negative\n",
            "Predicted polarity: neutral, Actual polarity: neutral\n",
            "Predicted polarity: neutral, Actual polarity: negative\n",
            "Predicted polarity: neutral, Actual polarity: neutral\n",
            "Predicted polarity: negative, Actual polarity: neutral\n",
            "Predicted polarity: neutral, Actual polarity: negative\n",
            "Predicted polarity: neutral, Actual polarity: positive\n",
            "Predicted polarity: neutral, Actual polarity: neutral\n"
          ]
        }
      ],
      "source": [
        "# Test the GRU model using the test data\n",
        "for i in range(len(val_x[:10])):\n",
        "    polarity = GRUevaluate(encoder, decoder, val_x[i], val_a[i])[0]\n",
        "    print(f\"Predicted polarity: {polarity}, Actual polarity: {val_y[i]}\")"
      ]
    },
    {
      "cell_type": "code",
      "execution_count": 323,
      "metadata": {},
      "outputs": [
        {
          "name": "stdout",
          "output_type": "stream",
          "text": [
            "Predicted polarity: neutral, Actual polarity: neutral\n",
            "Predicted polarity: neutral, Actual polarity: negative\n",
            "Predicted polarity: neutral, Actual polarity: positive\n",
            "Predicted polarity: negative, Actual polarity: negative\n",
            "Predicted polarity: negative, Actual polarity: negative\n",
            "Predicted polarity: neutral, Actual polarity: neutral\n",
            "Predicted polarity: neutral, Actual polarity: negative\n",
            "Predicted polarity: neutral, Actual polarity: neutral\n",
            "Predicted polarity: neutral, Actual polarity: neutral\n",
            "Predicted polarity: neutral, Actual polarity: negative\n"
          ]
        }
      ],
      "source": [
        "# Test the GRU model using the test data\n",
        "for i in range(len(test_x[:10])):\n",
        "    polarity = GRUevaluate(encoder, decoder, test_x[i], test_a[i])[0]\n",
        "    print(f\"Predicted polarity: {polarity}, Actual polarity: {test_y[i]}\")"
      ]
    },
    {
      "cell_type": "code",
      "execution_count": 324,
      "metadata": {},
      "outputs": [
        {
          "name": "stdout",
          "output_type": "stream",
          "text": [
            "Accuracy: 0.5782\n"
          ]
        }
      ],
      "source": [
        "# Measure accuracy of GRU model on test set\n",
        "correct = 0\n",
        "for i in range(len(test_x)):\n",
        "    polarity = GRUevaluate(encoder, decoder, test_x[i], test_a[i])[0]\n",
        "    if polarity == test_y[i]:\n",
        "        correct += 1\n",
        "accuracy = correct / len(test_x_token)\n",
        "print(f\"Accuracy: {accuracy:.4f}\")\n",
        "\n",
        "# old acc (before aspect) = 0.4451\n",
        "# new acc (with aspect) = 0.6182"
      ]
    }
  ],
  "metadata": {
    "colab": {
      "provenance": []
    },
    "kernelspec": {
      "display_name": "cits5508-2024",
      "language": "python",
      "name": "python3"
    },
    "language_info": {
      "codemirror_mode": {
        "name": "ipython",
        "version": 3
      },
      "file_extension": ".py",
      "mimetype": "text/x-python",
      "name": "python",
      "nbconvert_exporter": "python",
      "pygments_lexer": "ipython3",
      "version": "3.12.2"
    }
  },
  "nbformat": 4,
  "nbformat_minor": 0
}
