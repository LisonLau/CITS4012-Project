{
 "cells": [
  {
   "cell_type": "markdown",
   "metadata": {},
   "source": [
    "# 2024 CITS4012 Project"
   ]
  },
  {
   "cell_type": "markdown",
   "metadata": {},
   "source": [
    "# ReadMme"
   ]
  },
  {
   "cell_type": "markdown",
   "metadata": {},
   "source": [
    "# 1. Dataset Processing"
   ]
  },
  {
   "cell_type": "markdown",
   "metadata": {},
   "source": [
    "## Importing Libraries"
   ]
  },
  {
   "cell_type": "code",
   "execution_count": 4,
   "metadata": {},
   "outputs": [],
   "source": [
    "import re\n",
    "import json\n",
    "import nltk\n",
    "import time\n",
    "import math\n",
    "import spacy\n",
    "import torch\n",
    "import random\n",
    "import numpy as np\n",
    "import pandas as pd\n",
    "import torch.nn as nn\n",
    "import torch.optim as optim\n",
    "import torch.nn.functional as F\n",
    "import gensim.downloader as api\n",
    "import matplotlib.pyplot as plt"
   ]
  },
  {
   "cell_type": "markdown",
   "metadata": {},
   "source": [
    "## Loading Datasets"
   ]
  },
  {
   "cell_type": "code",
   "execution_count": 5,
   "metadata": {},
   "outputs": [],
   "source": [
    "# Load the training data\n",
    "# with open('/content/drive/MyDrive/data/train.json', 'r') as file:\n",
    "with open('train.json', 'r') as file:\n",
    "    data = json.load(file)\n",
    "    train_data = pd.DataFrame(data['data'], columns=data['columns'])\n",
    "\n",
    "# Load the test data\n",
    "# with open('/content/drive/MyDrive/data/test.json', 'r') as file:\n",
    "with open('test.json', 'r') as file:\n",
    "    data = json.load(file)\n",
    "    test_data = pd.DataFrame(data['data'], columns=data['columns'])\n",
    "\n",
    "# Load the validation data\n",
    "# with open('/content/drive/MyDrive/data/val.json', 'r') as file:\n",
    "with open('val.json', 'r') as file:\n",
    "    data = json.load(file)\n",
    "    val_data = pd.DataFrame(data['data'], columns=data['columns'])\n",
    "\n",
    "# Get the x and y lists for training data and test data\n",
    "training_x = train_data['sentence'].tolist() + val_data['sentence'].tolist()\n",
    "training_a = train_data['aspect'].tolist() + val_data['aspect'].tolist()\n",
    "training_y = train_data['polarity'].tolist() + val_data['polarity'].tolist()\n",
    "test_x = test_data['sentence'].tolist()\n",
    "test_a = test_data['aspect'].tolist()\n",
    "test_y = test_data['polarity'].tolist()"
   ]
  },
  {
   "cell_type": "markdown",
   "metadata": {},
   "source": [
    "## Dataset Analysis"
   ]
  },
  {
   "cell_type": "code",
   "execution_count": 6,
   "metadata": {},
   "outputs": [
    {
     "name": "stdout",
     "output_type": "stream",
     "text": [
      "Training data size : 7978\n",
      "Test data size     : 901\n",
      "\n",
      "Aspect Distribution:\n",
      "food             2307\n",
      "staff            1383\n",
      "miscellaneous     954\n",
      "place             694\n",
      "service           631\n",
      "menu              475\n",
      "ambience          324\n",
      "price             322\n",
      "\n",
      "Sentiment Distribution:\n",
      "neutral     3077\n",
      "negative    2084\n",
      "positive    1929\n",
      "\n",
      "Aspect-Sentiment Pair Distribution:\n",
      "(food, neutral)              1298\n",
      "(staff, negative)             922\n",
      "(food, positive)              754\n",
      "(miscellaneous, neutral)      531\n",
      "(place, neutral)              430\n",
      "(menu, neutral)               372\n",
      "(staff, positive)             332\n",
      "(service, negative)           329\n",
      "(food, negative)              255\n",
      "(miscellaneous, positive)     227\n",
      "(miscellaneous, negative)     196\n",
      "(ambience, positive)          181\n",
      "(service, positive)           174\n",
      "(place, negative)             139\n",
      "(price, neutral)              136\n",
      "(staff, neutral)              129\n",
      "(service, neutral)            128\n",
      "(place, positive)             125\n",
      "(price, negative)             114\n",
      "(ambience, negative)           90\n",
      "(price, positive)              72\n",
      "(menu, positive)               64\n",
      "(ambience, neutral)            53\n",
      "(menu, negative)               39\n"
     ]
    }
   ],
   "source": [
    "# Size of datasets\n",
    "print(\"Training data size :\", len(training_x))\n",
    "print(\"Test data size     :\", len(test_x))\n",
    "\n",
    "# Aspect Distribution\n",
    "aspect_distribution = train_data['aspect'].value_counts()\n",
    "print(\"\\nAspect Distribution:\")\n",
    "print(aspect_distribution.to_string(header=False))\n",
    "\n",
    "# Sentiment Distribution\n",
    "sentiment_distribution = train_data['polarity'].value_counts()\n",
    "print(\"\\nSentiment Distribution:\")\n",
    "print(sentiment_distribution.to_string(header=False))\n",
    "\n",
    "# Aspect-Sentiment Pair Distribution\n",
    "aspect_polarity_pair = [(a, p) for a, p in zip(train_data['aspect'], train_data['polarity'])]\n",
    "aspect_polarity_freq = pd.Series(aspect_polarity_pair).value_counts()\n",
    "print(\"\\nAspect-Sentiment Pair Distribution:\")\n",
    "print(aspect_polarity_freq.to_string(header=False))"
   ]
  },
  {
   "cell_type": "markdown",
   "metadata": {},
   "source": [
    "## Data Preprocessing"
   ]
  },
  {
   "cell_type": "code",
   "execution_count": 7,
   "metadata": {},
   "outputs": [
    {
     "name": "stdout",
     "output_type": "stream",
     "text": [
      "Collecting en-core-web-sm==3.7.1\n",
      "  Downloading https://github.com/explosion/spacy-models/releases/download/en_core_web_sm-3.7.1/en_core_web_sm-3.7.1-py3-none-any.whl (12.8 MB)\n",
      "     ---------------------------------------- 0.0/12.8 MB ? eta -:--:--\n",
      "     ---------------------------------------- 0.0/12.8 MB ? eta -:--:--\n",
      "     --------------------------------------- 0.0/12.8 MB 393.8 kB/s eta 0:00:33\n",
      "     --------------------------------------- 0.1/12.8 MB 901.1 kB/s eta 0:00:15\n",
      "     - -------------------------------------- 0.4/12.8 MB 2.2 MB/s eta 0:00:06\n",
      "     -- ------------------------------------- 0.7/12.8 MB 3.0 MB/s eta 0:00:05\n",
      "     -- ------------------------------------- 0.9/12.8 MB 3.5 MB/s eta 0:00:04\n",
      "     --- ------------------------------------ 1.2/12.8 MB 3.8 MB/s eta 0:00:04\n",
      "     ---- ----------------------------------- 1.5/12.8 MB 4.2 MB/s eta 0:00:03\n",
      "     ----- ---------------------------------- 1.7/12.8 MB 4.4 MB/s eta 0:00:03\n",
      "     ------ --------------------------------- 2.0/12.8 MB 4.6 MB/s eta 0:00:03\n",
      "     ------- -------------------------------- 2.3/12.8 MB 4.7 MB/s eta 0:00:03\n",
      "     ------- -------------------------------- 2.5/12.8 MB 4.8 MB/s eta 0:00:03\n",
      "     -------- ------------------------------- 2.8/12.8 MB 4.8 MB/s eta 0:00:03\n",
      "     --------- ------------------------------ 3.1/12.8 MB 4.9 MB/s eta 0:00:02\n",
      "     ---------- ----------------------------- 3.3/12.8 MB 5.0 MB/s eta 0:00:02\n",
      "     ---------- ----------------------------- 3.4/12.8 MB 4.7 MB/s eta 0:00:03\n",
      "     ------------ --------------------------- 3.9/12.8 MB 5.0 MB/s eta 0:00:02\n",
      "     ------------ --------------------------- 4.1/12.8 MB 5.1 MB/s eta 0:00:02\n",
      "     ------------- -------------------------- 4.2/12.8 MB 4.9 MB/s eta 0:00:02\n",
      "     -------------- ------------------------- 4.5/12.8 MB 5.0 MB/s eta 0:00:02\n",
      "     --------------- ------------------------ 4.8/12.8 MB 5.0 MB/s eta 0:00:02\n",
      "     ---------------- ----------------------- 5.3/12.8 MB 5.1 MB/s eta 0:00:02\n",
      "     ----------------- ---------------------- 5.5/12.8 MB 5.1 MB/s eta 0:00:02\n",
      "     ----------------- ---------------------- 5.7/12.8 MB 5.1 MB/s eta 0:00:02\n",
      "     ------------------ --------------------- 6.1/12.8 MB 5.2 MB/s eta 0:00:02\n",
      "     ------------------- -------------------- 6.3/12.8 MB 5.2 MB/s eta 0:00:02\n",
      "     -------------------- ------------------- 6.6/12.8 MB 5.3 MB/s eta 0:00:02\n",
      "     --------------------- ------------------ 6.8/12.8 MB 5.3 MB/s eta 0:00:02\n",
      "     ---------------------- ----------------- 7.1/12.8 MB 5.3 MB/s eta 0:00:02\n",
      "     ----------------------- ---------------- 7.4/12.8 MB 5.3 MB/s eta 0:00:02\n",
      "     ----------------------- ---------------- 7.6/12.8 MB 5.3 MB/s eta 0:00:01\n",
      "     ------------------------ --------------- 7.9/12.8 MB 5.3 MB/s eta 0:00:01\n",
      "     ------------------------- -------------- 8.2/12.8 MB 5.3 MB/s eta 0:00:01\n",
      "     -------------------------- ------------- 8.4/12.8 MB 5.4 MB/s eta 0:00:01\n",
      "     --------------------------- ------------ 8.7/12.8 MB 5.4 MB/s eta 0:00:01\n",
      "     ---------------------------- ----------- 9.0/12.8 MB 5.4 MB/s eta 0:00:01\n",
      "     ---------------------------- ----------- 9.2/12.8 MB 5.4 MB/s eta 0:00:01\n",
      "     ----------------------------- ---------- 9.4/12.8 MB 5.4 MB/s eta 0:00:01\n",
      "     ----------------------------- ---------- 9.4/12.8 MB 5.2 MB/s eta 0:00:01\n",
      "     ------------------------------ --------- 9.8/12.8 MB 5.3 MB/s eta 0:00:01\n",
      "     ------------------------------- -------- 10.1/12.8 MB 5.3 MB/s eta 0:00:01\n",
      "     -------------------------------- ------- 10.3/12.8 MB 5.6 MB/s eta 0:00:01\n",
      "     --------------------------------- ------ 10.6/12.8 MB 5.6 MB/s eta 0:00:01\n",
      "     --------------------------------- ------ 10.9/12.8 MB 5.5 MB/s eta 0:00:01\n",
      "     ---------------------------------- ----- 11.2/12.8 MB 5.6 MB/s eta 0:00:01\n",
      "     ----------------------------------- ---- 11.4/12.8 MB 5.5 MB/s eta 0:00:01\n",
      "     ------------------------------------ --- 11.7/12.8 MB 5.6 MB/s eta 0:00:01\n",
      "     ------------------------------------- -- 12.0/12.8 MB 5.6 MB/s eta 0:00:01\n",
      "     -------------------------------------- - 12.2/12.8 MB 5.5 MB/s eta 0:00:01\n",
      "     -------------------------------------- - 12.5/12.8 MB 5.5 MB/s eta 0:00:01\n",
      "     ---------------------------------------  12.7/12.8 MB 5.5 MB/s eta 0:00:01\n",
      "     ---------------------------------------  12.8/12.8 MB 5.6 MB/s eta 0:00:01\n",
      "     ---------------------------------------- 12.8/12.8 MB 5.4 MB/s eta 0:00:00\n",
      "Requirement already satisfied: spacy<3.8.0,>=3.7.2 in c:\\users\\allis\\miniconda3\\lib\\site-packages (from en-core-web-sm==3.7.1) (3.7.4)\n",
      "Requirement already satisfied: spacy-legacy<3.1.0,>=3.0.11 in c:\\users\\allis\\miniconda3\\lib\\site-packages (from spacy<3.8.0,>=3.7.2->en-core-web-sm==3.7.1) (3.0.12)\n",
      "Requirement already satisfied: spacy-loggers<2.0.0,>=1.0.0 in c:\\users\\allis\\miniconda3\\lib\\site-packages (from spacy<3.8.0,>=3.7.2->en-core-web-sm==3.7.1) (1.0.5)\n",
      "Requirement already satisfied: murmurhash<1.1.0,>=0.28.0 in c:\\users\\allis\\miniconda3\\lib\\site-packages (from spacy<3.8.0,>=3.7.2->en-core-web-sm==3.7.1) (1.0.10)\n",
      "Requirement already satisfied: cymem<2.1.0,>=2.0.2 in c:\\users\\allis\\miniconda3\\lib\\site-packages (from spacy<3.8.0,>=3.7.2->en-core-web-sm==3.7.1) (2.0.8)\n",
      "Requirement already satisfied: preshed<3.1.0,>=3.0.2 in c:\\users\\allis\\miniconda3\\lib\\site-packages (from spacy<3.8.0,>=3.7.2->en-core-web-sm==3.7.1) (3.0.9)\n",
      "Requirement already satisfied: thinc<8.3.0,>=8.2.2 in c:\\users\\allis\\miniconda3\\lib\\site-packages (from spacy<3.8.0,>=3.7.2->en-core-web-sm==3.7.1) (8.2.3)\n",
      "Requirement already satisfied: wasabi<1.2.0,>=0.9.1 in c:\\users\\allis\\miniconda3\\lib\\site-packages (from spacy<3.8.0,>=3.7.2->en-core-web-sm==3.7.1) (1.1.2)\n",
      "Requirement already satisfied: srsly<3.0.0,>=2.4.3 in c:\\users\\allis\\miniconda3\\lib\\site-packages (from spacy<3.8.0,>=3.7.2->en-core-web-sm==3.7.1) (2.4.8)\n",
      "Requirement already satisfied: catalogue<2.1.0,>=2.0.6 in c:\\users\\allis\\miniconda3\\lib\\site-packages (from spacy<3.8.0,>=3.7.2->en-core-web-sm==3.7.1) (2.0.10)\n",
      "Requirement already satisfied: weasel<0.4.0,>=0.1.0 in c:\\users\\allis\\miniconda3\\lib\\site-packages (from spacy<3.8.0,>=3.7.2->en-core-web-sm==3.7.1) (0.3.4)\n",
      "Requirement already satisfied: typer<0.10.0,>=0.3.0 in c:\\users\\allis\\miniconda3\\lib\\site-packages (from spacy<3.8.0,>=3.7.2->en-core-web-sm==3.7.1) (0.9.4)\n",
      "Requirement already satisfied: smart-open<7.0.0,>=5.2.1 in c:\\users\\allis\\miniconda3\\lib\\site-packages (from spacy<3.8.0,>=3.7.2->en-core-web-sm==3.7.1) (6.4.0)\n",
      "Requirement already satisfied: tqdm<5.0.0,>=4.38.0 in c:\\users\\allis\\miniconda3\\lib\\site-packages (from spacy<3.8.0,>=3.7.2->en-core-web-sm==3.7.1) (4.65.0)\n",
      "Requirement already satisfied: requests<3.0.0,>=2.13.0 in c:\\users\\allis\\miniconda3\\lib\\site-packages (from spacy<3.8.0,>=3.7.2->en-core-web-sm==3.7.1) (2.31.0)\n",
      "Requirement already satisfied: pydantic!=1.8,!=1.8.1,<3.0.0,>=1.7.4 in c:\\users\\allis\\miniconda3\\lib\\site-packages (from spacy<3.8.0,>=3.7.2->en-core-web-sm==3.7.1) (2.6.4)\n",
      "Requirement already satisfied: jinja2 in c:\\users\\allis\\miniconda3\\lib\\site-packages (from spacy<3.8.0,>=3.7.2->en-core-web-sm==3.7.1) (3.1.3)\n",
      "Requirement already satisfied: setuptools in c:\\users\\allis\\miniconda3\\lib\\site-packages (from spacy<3.8.0,>=3.7.2->en-core-web-sm==3.7.1) (68.2.2)\n",
      "Requirement already satisfied: packaging>=20.0 in c:\\users\\allis\\miniconda3\\lib\\site-packages (from spacy<3.8.0,>=3.7.2->en-core-web-sm==3.7.1) (23.1)\n",
      "Requirement already satisfied: langcodes<4.0.0,>=3.2.0 in c:\\users\\allis\\miniconda3\\lib\\site-packages (from spacy<3.8.0,>=3.7.2->en-core-web-sm==3.7.1) (3.4.0)\n",
      "Requirement already satisfied: numpy>=1.19.0 in c:\\users\\allis\\miniconda3\\lib\\site-packages (from spacy<3.8.0,>=3.7.2->en-core-web-sm==3.7.1) (1.26.4)\n",
      "Requirement already satisfied: language-data>=1.2 in c:\\users\\allis\\miniconda3\\lib\\site-packages (from langcodes<4.0.0,>=3.2.0->spacy<3.8.0,>=3.7.2->en-core-web-sm==3.7.1) (1.2.0)\n",
      "Requirement already satisfied: annotated-types>=0.4.0 in c:\\users\\allis\\miniconda3\\lib\\site-packages (from pydantic!=1.8,!=1.8.1,<3.0.0,>=1.7.4->spacy<3.8.0,>=3.7.2->en-core-web-sm==3.7.1) (0.6.0)\n",
      "Requirement already satisfied: pydantic-core==2.16.3 in c:\\users\\allis\\miniconda3\\lib\\site-packages (from pydantic!=1.8,!=1.8.1,<3.0.0,>=1.7.4->spacy<3.8.0,>=3.7.2->en-core-web-sm==3.7.1) (2.16.3)\n",
      "Requirement already satisfied: typing-extensions>=4.6.1 in c:\\users\\allis\\miniconda3\\lib\\site-packages (from pydantic!=1.8,!=1.8.1,<3.0.0,>=1.7.4->spacy<3.8.0,>=3.7.2->en-core-web-sm==3.7.1) (4.10.0)\n",
      "Requirement already satisfied: charset-normalizer<4,>=2 in c:\\users\\allis\\miniconda3\\lib\\site-packages (from requests<3.0.0,>=2.13.0->spacy<3.8.0,>=3.7.2->en-core-web-sm==3.7.1) (2.0.4)\n",
      "Requirement already satisfied: idna<4,>=2.5 in c:\\users\\allis\\miniconda3\\lib\\site-packages (from requests<3.0.0,>=2.13.0->spacy<3.8.0,>=3.7.2->en-core-web-sm==3.7.1) (3.4)\n",
      "Requirement already satisfied: urllib3<3,>=1.21.1 in c:\\users\\allis\\miniconda3\\lib\\site-packages (from requests<3.0.0,>=2.13.0->spacy<3.8.0,>=3.7.2->en-core-web-sm==3.7.1) (1.26.18)\n",
      "Requirement already satisfied: certifi>=2017.4.17 in c:\\users\\allis\\miniconda3\\lib\\site-packages (from requests<3.0.0,>=2.13.0->spacy<3.8.0,>=3.7.2->en-core-web-sm==3.7.1) (2024.2.2)\n",
      "Requirement already satisfied: blis<0.8.0,>=0.7.8 in c:\\users\\allis\\miniconda3\\lib\\site-packages (from thinc<8.3.0,>=8.2.2->spacy<3.8.0,>=3.7.2->en-core-web-sm==3.7.1) (0.7.11)\n",
      "Requirement already satisfied: confection<1.0.0,>=0.0.1 in c:\\users\\allis\\miniconda3\\lib\\site-packages (from thinc<8.3.0,>=8.2.2->spacy<3.8.0,>=3.7.2->en-core-web-sm==3.7.1) (0.1.4)\n",
      "Requirement already satisfied: colorama in c:\\users\\allis\\miniconda3\\lib\\site-packages (from tqdm<5.0.0,>=4.38.0->spacy<3.8.0,>=3.7.2->en-core-web-sm==3.7.1) (0.4.6)\n",
      "Requirement already satisfied: click<9.0.0,>=7.1.1 in c:\\users\\allis\\miniconda3\\lib\\site-packages (from typer<0.10.0,>=0.3.0->spacy<3.8.0,>=3.7.2->en-core-web-sm==3.7.1) (8.1.7)\n",
      "Requirement already satisfied: cloudpathlib<0.17.0,>=0.7.0 in c:\\users\\allis\\miniconda3\\lib\\site-packages (from weasel<0.4.0,>=0.1.0->spacy<3.8.0,>=3.7.2->en-core-web-sm==3.7.1) (0.16.0)\n",
      "Requirement already satisfied: MarkupSafe>=2.0 in c:\\users\\allis\\miniconda3\\lib\\site-packages (from jinja2->spacy<3.8.0,>=3.7.2->en-core-web-sm==3.7.1) (2.1.5)\n",
      "Requirement already satisfied: marisa-trie>=0.7.7 in c:\\users\\allis\\miniconda3\\lib\\site-packages (from language-data>=1.2->langcodes<4.0.0,>=3.2.0->spacy<3.8.0,>=3.7.2->en-core-web-sm==3.7.1) (1.1.0)\n",
      "\u001b[38;5;2m✔ Download and installation successful\u001b[0m\n",
      "You can now load the package via spacy.load('en_core_web_sm')\n"
     ]
    }
   ],
   "source": [
    "! python -m spacy download en_core_web_sm"
   ]
  },
  {
   "cell_type": "code",
   "execution_count": 8,
   "metadata": {},
   "outputs": [
    {
     "name": "stderr",
     "output_type": "stream",
     "text": [
      "[nltk_data] Downloading package punkt to\n",
      "[nltk_data]     C:\\Users\\allis\\AppData\\Roaming\\nltk_data...\n",
      "[nltk_data]   Package punkt is already up-to-date!\n",
      "[nltk_data] Downloading package wordnet to\n",
      "[nltk_data]     C:\\Users\\allis\\AppData\\Roaming\\nltk_data...\n",
      "[nltk_data]   Package wordnet is already up-to-date!\n"
     ]
    }
   ],
   "source": [
    "# Punctuation Removal\n",
    "def remove_punctuation_re(x):\n",
    "    x = re.sub(r'[^\\w\\s]', '', x)\n",
    "    return x\n",
    "\n",
    "nltk.download('punkt')\n",
    "\n",
    "# Stopwords Removal\n",
    "nlp = spacy.load(\"en_core_web_sm\")\n",
    "\n",
    "def remove_stopwords(x):\n",
    "    doc = nlp(x)\n",
    "    x = [word.text for word in doc if not word.is_stop]\n",
    "    return x\n",
    "\n",
    "# Stemming\n",
    "from nltk.stem import PorterStemmer\n",
    "stemmer = PorterStemmer()\n",
    "\n",
    "def stem(x):\n",
    "    x = [stemmer.stem(word) for word in x]\n",
    "    return x\n",
    "\n",
    "# Lemmatisation\n",
    "nltk.download('wordnet')\n",
    "from nltk.stem import WordNetLemmatizer\n",
    "lemmatizer = WordNetLemmatizer()\n",
    "\n",
    "def lemmatize(x):\n",
    "    x = [lemmatizer.lemmatize(word) for word in x]\n",
    "    return x\n",
    "\n",
    "# English Contractions Dictionary\n",
    "contraction_dict = {\"ain't\": \"is not\", \"aren't\": \"are not\",\"can't\": \"cannot\", \"'cause\": \"because\", \"could've\": \"could have\",\n",
    "                    \"couldn't\": \"could not\", \"didn't\": \"did not\",  \"doesn't\": \"does not\", \"don't\": \"do not\", \"hadn't\": \"had not\",\n",
    "                    \"hasn't\": \"has not\", \"haven't\": \"have not\", \"he'd\": \"he would\",\"he'll\": \"he will\", \"he's\": \"he is\", \"how'd\": \"how did\",\n",
    "                    \"how'd'y\": \"how do you\", \"how'll\": \"how will\", \"how's\": \"how is\",  \"I'd\": \"I would\", \"I'd've\": \"I would have\",\n",
    "                    \"I'll\": \"I will\", \"I'll've\": \"I will have\",\"I'm\": \"I am\", \"I've\": \"I have\", \"i'd\": \"i would\", \"i'd've\": \"i would have\",\n",
    "                    \"i'll\": \"i will\",  \"i'll've\": \"i will have\",\"i'm\": \"i am\", \"i've\": \"i have\", \"isn't\": \"is not\", \"it'd\": \"it would\",\n",
    "                    \"it'd've\": \"it would have\", \"it'll\": \"it will\", \"it'll've\": \"it will have\",\"it's\": \"it is\", \"let's\": \"let us\",\n",
    "                    \"ma'am\": \"madam\", \"mayn't\": \"may not\", \"might've\": \"might have\",\"mightn't\": \"might not\",\"mightn't've\": \"might not have\",\n",
    "                    \"must've\": \"must have\", \"mustn't\": \"must not\", \"mustn't've\": \"must not have\", \"needn't\": \"need not\", \"needn't've\": \"need not have\",\n",
    "                    \"o'clock\": \"of the clock\", \"oughtn't\": \"ought not\", \"oughtn't've\": \"ought not have\", \"shan't\": \"shall not\", \"sha'n't\": \"shall not\",\n",
    "                    \"shan't've\": \"shall not have\", \"she'd\": \"she would\", \"she'd've\": \"she would have\", \"she'll\": \"she will\", \"she'll've\": \"she will have\",\n",
    "                    \"she's\": \"she is\", \"should've\": \"should have\", \"shouldn't\": \"should not\", \"shouldn't've\": \"should not have\", \"so've\": \"so have\",\n",
    "                    \"so's\": \"so as\", \"this's\": \"this is\",\"that'd\": \"that would\", \"that'd've\": \"that would have\", \"that's\": \"that is\", \"there'd\": \"there would\",\n",
    "                    \"there'd've\": \"there would have\", \"there's\": \"there is\", \"here's\": \"here is\",\"they'd\": \"they would\", \"they'd've\": \"they would have\",\n",
    "                    \"they'll\": \"they will\", \"they'll've\": \"they will have\", \"they're\": \"they are\", \"they've\": \"they have\", \"to've\": \"to have\", \"wasn't\": \"was not\",\n",
    "                    \"we'd\": \"we would\", \"we'd've\": \"we would have\", \"we'll\": \"we will\", \"we'll've\": \"we will have\", \"we're\": \"we are\", \"we've\": \"we have\",\n",
    "                    \"weren't\": \"were not\", \"what'll\": \"what will\", \"what'll've\": \"what will have\", \"what're\": \"what are\",  \"what's\": \"what is\", \"what've\": \"what have\",\n",
    "                    \"when's\": \"when is\", \"when've\": \"when have\", \"where'd\": \"where did\", \"where's\": \"where is\", \"where've\": \"where have\", \"who'll\": \"who will\",\n",
    "                    \"who'll've\": \"who will have\", \"who's\": \"who is\", \"who've\": \"who have\", \"why's\": \"why is\", \"why've\": \"why have\", \"will've\": \"will have\",\n",
    "                    \"won't\": \"will not\", \"won't've\": \"will not have\", \"would've\": \"would have\", \"wouldn't\": \"would not\", \"wouldn't've\": \"would not have\",\n",
    "                    \"y'all\": \"you all\", \"y'all'd\": \"you all would\",\"y'all'd've\": \"you all would have\",\"y'all're\": \"you all are\",\"y'all've\": \"you all have\",\n",
    "                    \"you'd\": \"you would\", \"you'd've\": \"you would have\", \"you'll\": \"you will\", \"you'll've\": \"you will have\", \"you're\": \"you are\", \"you've\": \"you have\"}\n",
    "\n",
    "# Emoticons\n",
    "EMOTICONS = r\"\"\"\n",
    "    (?:\n",
    "      [<>]?\n",
    "      [:;=8]                     # eyes\n",
    "      [\\-o\\*\\']?                 # optional nose\n",
    "      [\\)\\]\\(\\[dDpP/\\:\\}\\{@\\|\\\\] # mouth\n",
    "      |\n",
    "      [\\)\\]\\(\\[dDpP/\\:\\}\\{@\\|\\\\] # mouth\n",
    "      [\\-o\\*\\']?                 # optional nose\n",
    "      [:;=8]                     # eyes\n",
    "      [<>]?\n",
    "      |\n",
    "      <3                         # heart\n",
    "    )\"\"\"\n",
    "\n",
    "EMOTICON_RE = re.compile(EMOTICONS, re.VERBOSE | re.I | re.UNICODE)"
   ]
  },
  {
   "cell_type": "code",
   "execution_count": 9,
   "metadata": {},
   "outputs": [],
   "source": [
    "# Function to preprocess the data\n",
    "def preprocess_data(sentence_list):\n",
    "    output_list = []\n",
    "    for sentence in sentence_list:\n",
    "        emoticons = EMOTICON_RE.findall(sentence)       # Extract emoticons\n",
    "        sentence = EMOTICON_RE.sub('', sentence)        # Remove emoticons\n",
    "        sentence = sentence.lower()                     # Case folding\n",
    "        for word, new_word in contraction_dict.items(): # Deal with contractions\n",
    "            sentence = sentence.replace(word, new_word)\n",
    "        sentence = remove_punctuation_re(sentence)      # Remove punctuation\n",
    "        tokens = remove_stopwords(sentence)             # Remove stopwords / Tokenise\n",
    "        # tokens = stem(tokens)                           # Stemming\n",
    "        # tokens = lemmatize(tokens)                      # Lemmatisation\n",
    "        tokens.extend(emoticons)                        # Add emoticons back\n",
    "        output_list.append(tokens)\n",
    "    return output_list\n",
    "\n",
    "# Preprocess the data and get the tokenised sentence lists\n",
    "train_x_token = preprocess_data(training_x)\n",
    "test_x_token = preprocess_data(test_x)"
   ]
  },
  {
   "cell_type": "markdown",
   "metadata": {},
   "source": [
    "## Create Word Vocabulary"
   ]
  },
  {
   "cell_type": "code",
   "execution_count": 10,
   "metadata": {},
   "outputs": [],
   "source": [
    "# Get longest sentence length\n",
    "longest_sentence = max(train_x_token, key=len)\n",
    "MAX_LENGTH = len(longest_sentence)\n",
    "\n",
    "# Word vocabulary to index dictionary {word: index}\n",
    "word_to_idx = {'<PAD>': 0, '<SEP>': 1}\n",
    "review = train_x_token + test_x_token\n",
    "aspect = [list(set(training_a))]\n",
    "polarity = [list(set(training_y))]\n",
    "\n",
    "# Vocabulary includes words from reviews and aspects\n",
    "for sentence in aspect+review:\n",
    "    for word in sentence:\n",
    "        if word not in word_to_idx:\n",
    "            word_to_idx[word] = len(word_to_idx)\n",
    "word_list = list(word_to_idx.keys())\n",
    "idx_to_word = {idx: word for word, idx in word_to_idx.items()}\n",
    "vocab_size = len(word_to_idx)\n",
    "\n",
    "# Polarity vocabulary to index dictionary {polarity: index}\n",
    "polarity_to_idx = {p: i for i, p in enumerate(polarity[0])}\n",
    "idx_to_polarity = {idx: pol for pol, idx in polarity_to_idx.items()}"
   ]
  },
  {
   "cell_type": "markdown",
   "metadata": {},
   "source": [
    "## Convert Words to Index form"
   ]
  },
  {
   "cell_type": "code",
   "execution_count": 11,
   "metadata": {},
   "outputs": [],
   "source": [
    "def list_to_index(token_list, word_to_idx):\n",
    "    idx_list = []\n",
    "    for tokens in token_list:\n",
    "        idx_list.append([word_to_idx[token] for token in tokens])\n",
    "    return idx_list\n",
    "\n",
    "def string_to_index(aspect_list, word_to_idx):\n",
    "    idx_list = []\n",
    "    for aspect in aspect_list:\n",
    "        idx_list.append(word_to_idx[aspect])\n",
    "    return idx_list\n",
    "\n",
    "# Append aspect to the end of the sentence\n",
    "def combine_sentence_aspect(sentence, aspect):\n",
    "    sep_idx = word_to_idx['<SEP>']\n",
    "    combined_idx = sentence + [sep_idx] + [aspect]\n",
    "    return combined_idx\n",
    "\n",
    "# Token index lists for training data\n",
    "train_x_idx = list_to_index(train_x_token, word_to_idx)\n",
    "train_a_idx = string_to_index(training_a, word_to_idx)\n",
    "train_y_idx = string_to_index(training_y, polarity_to_idx)\n",
    "train_xa_idx = []\n",
    "for x, a in zip(train_x_idx, train_a_idx):\n",
    "    train_xa_idx.append(combine_sentence_aspect(x, a))\n",
    "\n",
    "# Get the longest sentence length after appending aspect\n",
    "longest_combined_sentence = max(train_xa_idx, key=len)\n",
    "MAX_COMBINED_LENGTH = len(longest_combined_sentence)"
   ]
  },
  {
   "cell_type": "markdown",
   "metadata": {},
   "source": [
    "## Pretrained Word Embeddings from Glove"
   ]
  },
  {
   "cell_type": "code",
   "execution_count": null,
   "metadata": {},
   "outputs": [],
   "source": [
    "glove_model = api.load(\"glove-twitter-50\")\n",
    "glove_weights = torch.FloatTensor(glove_model.vectors)"
   ]
  },
  {
   "cell_type": "markdown",
   "metadata": {},
   "source": [
    "# 2. Model Implementation"
   ]
  },
  {
   "cell_type": "code",
   "execution_count": 23,
   "metadata": {},
   "outputs": [],
   "source": [
    "# Model\n",
    "class Chaydeyn(nn.Module):\n",
    "    def __init__(self, hidden_size, output_size, embedding, num_layers=1):\n",
    "        super(Chaydeyn, self).__init__()\n",
    "        self.hidden_size = hidden_size\n",
    "        self.output_size = output_size\n",
    "        self.embedding = embedding\n",
    "        self.lstm = nn.LSTM(hidden_size, hidden_size, num_layers=num_layers)\n",
    "        self.linear = nn.Linear(self.hidden_size*2, self.output_size)\n",
    "\n",
    "    def forward(self, input, hidden, cell, encoder_hiddens, aspect, is_last):\n",
    "        word_embedding = self.embedding(input).view(1, 1, -1)\n",
    "        aspect_embedding = self.embedding(aspect).view(1, 1, -1)\n",
    "        embedded = torch.cat((aspect_embedding, word_embedding), 0)\n",
    "        output, (hidden, cell) = self.lstm(embedded, (hidden, cell))\n",
    "        if is_last:\n",
    "            attn_weights = F.softmax(torch.bmm(hidden, encoder_hiddens.T.unsqueeze(0))/np.sqrt(hidden.size(-1)),dim=-1)\n",
    "            attn_output = torch.bmm(attn_weights, encoder_hiddens.unsqueeze(0))\n",
    "            concat_output = torch.cat((attn_output[0], hidden[0]), 1)\n",
    "            output = F.log_softmax(self.linear(concat_output), dim=1)\n",
    "        return output, (hidden, cell)\n",
    "\n",
    "    def init_hidden(self):\n",
    "        return torch.zeros(1, 1, self.hidden_size)"
   ]
  },
  {
   "cell_type": "code",
   "execution_count": 24,
   "metadata": {},
   "outputs": [],
   "source": [
    "# Function to get time elapse for training\n",
    "def asMinutes(s):\n",
    "    m = math.floor(s / 60)\n",
    "    s -= m * 60\n",
    "    return '%dm %ds' % (m, s)\n",
    "\n",
    "def timeSince(since, percent):\n",
    "    now = time.time()\n",
    "    s = now - since\n",
    "    es = s / (percent)\n",
    "    rs = es - s\n",
    "    return '%s (- %s)' % (asMinutes(s), asMinutes(rs))\n",
    "\n",
    "# Function to feep input tensor into encoder\n",
    "def feed_encoder(encoder, input_tensor, aspect_tensor, max_length):\n",
    "    encoder_hiddens = torch.zeros(max_length, encoder.hidden_size) # For attention mechanism\n",
    "    encoder_hidden = encoder.init_hidden() # Hidden state for encoder\n",
    "    for i in range(input_tensor.size(0)):\n",
    "        encoder_output, encoder_hidden, encoder_cell = encoder(input_tensor[i], encoder_hidden, aspect_tensor)\n",
    "        encoder_hiddens[i] = encoder_hidden[0, 0]\n",
    "    return encoder_hidden, encoder_hiddens\n",
    "\n",
    "# Function to prepare data for training\n",
    "def prepare_data(random_idx):\n",
    "    # Input data\n",
    "    x_index = [[idx] for idx in train_x_idx[random_idx]]\n",
    "    x_tensor = torch.LongTensor(x_index)\n",
    "    \n",
    "    a_index = train_a_idx[random_idx]\n",
    "    a_tensor = torch.LongTensor([a_index])\n",
    "    \n",
    "    x_temp = train_x_idx[random_idx]\n",
    "    xa_combined = combine_sentence_aspect(x_temp, a_index)\n",
    "    xa_index = [[idx] for idx in xa_combined]\n",
    "    xa_tensor = torch.LongTensor(xa_index)\n",
    "    \n",
    "    # Target data\n",
    "    y_index = train_y_idx[random_idx]\n",
    "    y_tensor = torch.LongTensor([y_index])\n",
    "    \n",
    "    return x_tensor, a_tensor, xa_tensor, y_tensor"
   ]
  },
  {
   "cell_type": "code",
   "execution_count": 28,
   "metadata": {},
   "outputs": [],
   "source": [
    "# Function to train model\n",
    "def train(embedding, attention_type, integration_type,\n",
    "          num_epochs=10000, \n",
    "          print_interval=500, \n",
    "          plot_interval=200, \n",
    "          learning_rate=0.001, \n",
    "          hidden_size=64):\n",
    "\n",
    "    model = Chaydeyn(hidden_size, 3, embedding, num_layers=1)\n",
    "    optimizer = optim.Adam(model.parameters(), lr=learning_rate)\n",
    "    criterion = nn.NLLLoss()\n",
    "    plot_all_losses, plot_avg_losses, print_loss_total, plot_loss_total = [], [], 0, 0\n",
    "    start = time.time()\n",
    "\n",
    "    for epoch in range(1, num_epochs+1):\n",
    "        random_idx = random.choice(range(len(train_data)))\n",
    "        x_tensor, a_tensor, xa_tensor, y_tensor = prepare_data(random_idx)\n",
    "\n",
    "        loss = 0\n",
    "        model.train()\n",
    "        optimizer.zero_grad()\n",
    "        \n",
    "        encoder_hiddens = torch.zeros(MAX_LENGTH, hidden_size) # For attention mechanism\n",
    "        encoder_hidden = model.init_hidden() # Hidden state for encoder\n",
    "        encoder_cell = model.init_hidden() # Cell state for encoder\n",
    "        \n",
    "        for i in range(x_tensor.size(0)):\n",
    "            is_last = (i==x_tensor.size(0)-1)\n",
    "            if is_last:\n",
    "                y_output, (_, _) = model(x_tensor[i], encoder_hidden, encoder_cell, encoder_hiddens, a_tensor, is_last=is_last)\n",
    "            else:\n",
    "                _, (encoder_hidden, encoder_cell) = model(x_tensor[i], encoder_hidden, encoder_cell, encoder_hiddens, a_tensor, is_last=is_last)\n",
    "                encoder_hiddens[i] = encoder_hidden[0, 0]\n",
    "\n",
    "        loss += criterion(y_output, y_tensor)\n",
    "\n",
    "        # Backpropagation\n",
    "        loss.backward()\n",
    "        optimizer.step()\n",
    "        \n",
    "        print_loss_total += loss.item()\n",
    "        plot_loss_total += loss.item()\n",
    "        plot_all_losses.append(loss.item())\n",
    "        \n",
    "        if epoch % print_interval == 0:\n",
    "            print_avg_loss = print_loss_total / print_interval\n",
    "            print_time = timeSince(start, epoch / num_epochs)\n",
    "            print(f'{print_time} Epoch [{epoch}/{num_epochs}] Loss: {print_avg_loss:.4f}')\n",
    "            print_loss_total = 0\n",
    "            \n",
    "        if epoch % plot_interval == 0:\n",
    "            plot_avg_loss = plot_loss_total / plot_interval\n",
    "            plot_avg_losses.append(plot_avg_loss)\n",
    "            plot_loss_total = 0\n",
    "            \n",
    "    return model, plot_all_losses, plot_avg_losses\n",
    "\n",
    "# Function to plot loss graphs over epochs\n",
    "def plot_graphs(num_epochs, interval, plot_all_losses, plot_avg_losses):\n",
    "    plt.figure(figsize=(10, 5))\n",
    "    plt.subplot(1, 2, 1)\n",
    "    plt.plot(range(1, num_epochs+1), plot_all_losses)\n",
    "    plt.title('All Losses')\n",
    "    plt.xlabel('Epochs')\n",
    "    plt.ylabel('Loss')\n",
    "    plt.subplot(1, 2, 2)\n",
    "    plt.plot(range(1, num_epochs+1, interval), plot_avg_losses)\n",
    "    plt.title('Average Losses')\n",
    "    plt.xlabel('Epochs')\n",
    "    plt.ylabel('Loss')\n",
    "    plt.tight_layout()\n",
    "    plt.show()"
   ]
  },
  {
   "cell_type": "markdown",
   "metadata": {},
   "source": [
    "## Model 1 Training"
   ]
  },
  {
   "cell_type": "code",
   "execution_count": 30,
   "metadata": {},
   "outputs": [
    {
     "name": "stdout",
     "output_type": "stream",
     "text": [
      "0m 15s (- 4m 58s) Epoch [500/10000] Loss: 1.0037\n",
      "0m 31s (- 4m 42s) Epoch [1000/10000] Loss: 0.9738\n",
      "0m 45s (- 4m 20s) Epoch [1500/10000] Loss: 0.9372\n",
      "1m 0s (- 4m 1s) Epoch [2000/10000] Loss: 0.9213\n",
      "1m 14s (- 3m 44s) Epoch [2500/10000] Loss: 0.9234\n",
      "1m 29s (- 3m 28s) Epoch [3000/10000] Loss: 0.9043\n",
      "1m 43s (- 3m 12s) Epoch [3500/10000] Loss: 0.8873\n",
      "1m 57s (- 2m 56s) Epoch [4000/10000] Loss: 0.8865\n",
      "2m 12s (- 2m 42s) Epoch [4500/10000] Loss: 0.8235\n",
      "2m 27s (- 2m 27s) Epoch [5000/10000] Loss: 0.8602\n",
      "2m 41s (- 2m 12s) Epoch [5500/10000] Loss: 0.8366\n",
      "2m 55s (- 1m 57s) Epoch [6000/10000] Loss: 0.8919\n",
      "3m 10s (- 1m 42s) Epoch [6500/10000] Loss: 0.8370\n",
      "3m 24s (- 1m 27s) Epoch [7000/10000] Loss: 0.7928\n",
      "3m 39s (- 1m 13s) Epoch [7500/10000] Loss: 0.8295\n",
      "3m 54s (- 0m 58s) Epoch [8000/10000] Loss: 0.7921\n",
      "4m 11s (- 0m 44s) Epoch [8500/10000] Loss: 0.7982\n",
      "4m 28s (- 0m 29s) Epoch [9000/10000] Loss: 0.7774\n",
      "4m 43s (- 0m 14s) Epoch [9500/10000] Loss: 0.7872\n",
      "4m 59s (- 0m 0s) Epoch [10000/10000] Loss: 0.7651\n"
     ]
    }
   ],
   "source": [
    "# Set hyperparameters\n",
    "num_epochs       = 10000\n",
    "print_interval   = 500\n",
    "plot_interval    = 200\n",
    "learning_rate    = 0.001\n",
    "hidden_size      = 64\n",
    "\n",
    "# embedding = nn.Embedding.from_pretrained(glove_weights)\n",
    "embedding = nn.Embedding(vocab_size, hidden_size)\n",
    "\n",
    "# Set different attention and integration types\n",
    "attention_type   = 'dot_product' # 'dot_product', 'scaled_dot_product', 'cosine_similarity'\n",
    "integration_type = 'word + aspect embedding' # 'word + aspect embedding', 'sentence + aspect', 'no aspect'\n",
    "\n",
    "# Train the model\n",
    "model, plot_all_losses1, plot_avg_losses1 = train(embedding, attention_type, integration_type)"
   ]
  },
  {
   "cell_type": "markdown",
   "metadata": {},
   "source": [
    "## Model 2 Training"
   ]
  },
  {
   "cell_type": "code",
   "execution_count": 16,
   "metadata": {},
   "outputs": [
    {
     "name": "stdout",
     "output_type": "stream",
     "text": [
      "0m 14s (- 4m 37s) Epoch [500/10000] Loss: 0.9820\n",
      "0m 28s (- 4m 18s) Epoch [1000/10000] Loss: 0.8968\n",
      "0m 41s (- 3m 56s) Epoch [1500/10000] Loss: 0.9358\n",
      "0m 55s (- 3m 40s) Epoch [2000/10000] Loss: 0.9168\n",
      "1m 10s (- 3m 32s) Epoch [2500/10000] Loss: 0.9156\n",
      "1m 27s (- 3m 24s) Epoch [3000/10000] Loss: 0.9191\n",
      "1m 42s (- 3m 10s) Epoch [3500/10000] Loss: 0.8744\n",
      "1m 55s (- 2m 53s) Epoch [4000/10000] Loss: 0.9143\n",
      "2m 8s (- 2m 37s) Epoch [4500/10000] Loss: 0.9205\n",
      "2m 23s (- 2m 23s) Epoch [5000/10000] Loss: 0.9226\n",
      "2m 36s (- 2m 8s) Epoch [5500/10000] Loss: 0.9139\n",
      "2m 50s (- 1m 53s) Epoch [6000/10000] Loss: 0.8711\n",
      "3m 3s (- 1m 38s) Epoch [6500/10000] Loss: 0.8747\n",
      "3m 15s (- 1m 23s) Epoch [7000/10000] Loss: 0.9191\n",
      "3m 28s (- 1m 9s) Epoch [7500/10000] Loss: 0.8819\n",
      "3m 41s (- 0m 55s) Epoch [8000/10000] Loss: 0.8690\n",
      "3m 54s (- 0m 41s) Epoch [8500/10000] Loss: 0.8448\n",
      "4m 6s (- 0m 27s) Epoch [9000/10000] Loss: 0.7341\n",
      "4m 19s (- 0m 13s) Epoch [9500/10000] Loss: 0.7689\n",
      "4m 32s (- 0m 0s) Epoch [10000/10000] Loss: 0.7885\n"
     ]
    }
   ],
   "source": [
    "# Set hyperparameters\n",
    "num_epochs       = 10000\n",
    "print_interval   = 500\n",
    "plot_interval    = 200\n",
    "learning_rate    = 0.001\n",
    "hidden_size      = 64\n",
    "\n",
    "# embedding = nn.Embedding.from_pretrained(glove_weights)\n",
    "embedding = nn.Embedding(vocab_size, hidden_size)\n",
    "\n",
    "# Set different attention and integration types\n",
    "attention_type   = 'dot_product' # 'dot_product', 'scaled_dot_product', 'cosine_similarity'\n",
    "integration_type = 'sentence + aspect' # 'word + aspect embedding', 'sentence + aspect', 'no aspect'\n",
    "\n",
    "# Train the model\n",
    "encoder2, decoder2, plot_all_losses2, plot_avg_losses2 = train(embedding, attention_type, integration_type)"
   ]
  },
  {
   "cell_type": "markdown",
   "metadata": {},
   "source": [
    "## No Aspect Model"
   ]
  },
  {
   "cell_type": "code",
   "execution_count": 17,
   "metadata": {},
   "outputs": [
    {
     "name": "stdout",
     "output_type": "stream",
     "text": [
      "0m 12s (- 3m 52s) Epoch [500/10000] Loss: 1.0819\n",
      "0m 24s (- 3m 37s) Epoch [1000/10000] Loss: 1.0863\n",
      "0m 35s (- 3m 20s) Epoch [1500/10000] Loss: 1.0694\n",
      "0m 47s (- 3m 9s) Epoch [2000/10000] Loss: 1.0638\n",
      "0m 59s (- 2m 57s) Epoch [2500/10000] Loss: 1.0731\n",
      "1m 10s (- 2m 43s) Epoch [3000/10000] Loss: 1.0569\n",
      "1m 21s (- 2m 31s) Epoch [3500/10000] Loss: 1.0593\n",
      "1m 32s (- 2m 19s) Epoch [4000/10000] Loss: 1.0635\n",
      "1m 44s (- 2m 7s) Epoch [4500/10000] Loss: 1.0873\n",
      "1m 55s (- 1m 55s) Epoch [5000/10000] Loss: 1.0610\n",
      "2m 6s (- 1m 43s) Epoch [5500/10000] Loss: 1.0530\n",
      "2m 18s (- 1m 32s) Epoch [6000/10000] Loss: 1.0503\n",
      "2m 29s (- 1m 20s) Epoch [6500/10000] Loss: 1.0580\n",
      "2m 40s (- 1m 8s) Epoch [7000/10000] Loss: 1.0530\n",
      "2m 52s (- 0m 57s) Epoch [7500/10000] Loss: 1.0603\n",
      "3m 4s (- 0m 46s) Epoch [8000/10000] Loss: 1.0344\n",
      "3m 16s (- 0m 34s) Epoch [8500/10000] Loss: 1.0491\n",
      "3m 28s (- 0m 23s) Epoch [9000/10000] Loss: 1.0365\n",
      "3m 41s (- 0m 11s) Epoch [9500/10000] Loss: 1.0324\n",
      "3m 52s (- 0m 0s) Epoch [10000/10000] Loss: 1.0334\n"
     ]
    }
   ],
   "source": [
    "# Set hyperparameters\n",
    "num_epochs       = 10000\n",
    "print_interval   = 500\n",
    "plot_interval    = 200\n",
    "learning_rate    = 0.001\n",
    "hidden_size      = 64\n",
    "\n",
    "# embedding = nn.Embedding.from_pretrained(glove_weights)\n",
    "embedding = nn.Embedding(vocab_size, hidden_size)\n",
    "\n",
    "# Set different attention and integration types\n",
    "attention_type   = 'dot_product' # 'dot_product', 'scaled_dot_product', 'cosine_similarity'\n",
    "integration_type = 'no aspect' # 'word + aspect embedding', 'sentence + aspect', 'no aspect'\n",
    "\n",
    "# Train the model\n",
    "encoder3, decoder3, plot_all_losses3, plot_avg_losses3 = train(embedding, attention_type, integration_type)"
   ]
  },
  {
   "cell_type": "markdown",
   "metadata": {},
   "source": [
    "## Plot losses for each Model"
   ]
  },
  {
   "cell_type": "code",
   "execution_count": 31,
   "metadata": {},
   "outputs": [
    {
     "data": {
      "image/png": "[encoded data removed]",
      "text/plain": [
       "<Figure size 1000x500 with 2 Axes>"
      ]
     },
     "metadata": {},
     "output_type": "display_data"
    },
    {
     "ename": "NameError",
     "evalue": "name 'plot_all_losses2' is not defined",
     "output_type": "error",
     "traceback": [
      "\u001b[1;31m---------------------------------------------------------------------------\u001b[0m",
      "\u001b[1;31mNameError\u001b[0m                                 Traceback (most recent call last)",
      "Cell \u001b[1;32mIn[31], line 2\u001b[0m\n\u001b[0;32m      1\u001b[0m plot_graphs(num_epochs, plot_interval, plot_all_losses1, plot_avg_losses1)\n\u001b[1;32m----> 2\u001b[0m plot_graphs(num_epochs, plot_interval, \u001b[43mplot_all_losses2\u001b[49m, plot_avg_losses2)\n\u001b[0;32m      3\u001b[0m plot_graphs(num_epochs, plot_interval, plot_all_losses3, plot_avg_losses3)\n",
      "\u001b[1;31mNameError\u001b[0m: name 'plot_all_losses2' is not defined"
     ]
    }
   ],
   "source": [
    "plot_graphs(num_epochs, plot_interval, plot_all_losses1, plot_avg_losses1)\n",
    "plot_graphs(num_epochs, plot_interval, plot_all_losses2, plot_avg_losses2)\n",
    "plot_graphs(num_epochs, plot_interval, plot_all_losses3, plot_avg_losses3)"
   ]
  },
  {
   "cell_type": "markdown",
   "metadata": {},
   "source": [
    "# 3. Testing and Evaluation"
   ]
  },
  {
   "cell_type": "code",
   "execution_count": 38,
   "metadata": {},
   "outputs": [],
   "source": [
    "# Function to get model's prediction on test data\n",
    "def predict(model, sentence, aspect, integration_type):\n",
    "    with torch.no_grad():\n",
    "        sent = preprocess_data([sentence])[0]\n",
    "        sent_idx = [word_to_idx[word] for word in sent]\n",
    "        aspect_idx = word_to_idx[aspect]\n",
    "        combined_idx = combine_sentence_aspect(sent_idx, aspect_idx)\n",
    "        aspect_tensor = torch.LongTensor([[aspect_idx]])\n",
    "        \n",
    "        if integration_type == 'no aspect':\n",
    "            input_tensor = torch.LongTensor([[idx] for idx in sent_idx])\n",
    "            encoder_hiddens = torch.zeros(MAX_LENGTH, model.hidden_size)\n",
    "        elif integration_type == 'sentence + aspect':\n",
    "            input_tensor = torch.LongTensor([[idx] for idx in combined_idx])\n",
    "            encoder_hiddens = torch.zeros(MAX_COMBINED_LENGTH, model.hidden_size)\n",
    "        elif integration_type == 'word + aspect embedding':\n",
    "            input_tensor = torch.LongTensor([[idx] for idx in sent_idx])\n",
    "            encoder_hiddens = torch.zeros(MAX_LENGTH, model.hidden_size)\n",
    "\n",
    "        input_length = input_tensor.size(0)\n",
    "        encoder_hidden = model.init_hidden()\n",
    "        encoder_cell = model.init_hidden()\n",
    "        for ei in range(input_length):\n",
    "            is_last = (ei==input_length-1)\n",
    "            if is_last:\n",
    "                y_output, (_, _) = model(input_tensor[ei], encoder_hidden, encoder_cell, encoder_hiddens, aspect_tensor, is_last=is_last)\n",
    "            else:\n",
    "                _, (encoder_hidden, encoder_cell) = model(input_tensor[ei], encoder_hidden, encoder_cell, encoder_hiddens, aspect_tensor, is_last=is_last)\n",
    "                encoder_hiddens[ei] = encoder_hidden[0, 0]\n",
    "            \n",
    "        _, topi = y_output.topk(1)\n",
    "        polarity = idx_to_polarity[topi[0].item()]\n",
    "        return polarity\n",
    "\n",
    "# Function to calculate model accuracy on test data\n",
    "def evaluate(model, test_data, integration_type):\n",
    "    correct = 0\n",
    "    for i in range(len(test_data)):\n",
    "        sentence = test_data[i]\n",
    "        aspect = test_a[i]\n",
    "        polarity = test_y[i]\n",
    "        pred_polarity = predict(model, sentence, aspect, integration_type)\n",
    "        if pred_polarity == polarity:\n",
    "            correct += 1\n",
    "    accuracy = correct / len(test_data)\n",
    "    return accuracy"
   ]
  },
  {
   "cell_type": "markdown",
   "metadata": {},
   "source": [
    "## Model Evaluation 1"
   ]
  },
  {
   "cell_type": "code",
   "execution_count": 39,
   "metadata": {},
   "outputs": [
    {
     "name": "stdout",
     "output_type": "stream",
     "text": [
      "Accuracy: 0.6138\n"
     ]
    }
   ],
   "source": [
    "# Get the accuracy of the model on test data\n",
    "integration_type = 'word + aspect embedding'\n",
    "accuracy1 = evaluate(model, test_x, integration_type)\n",
    "print(f\"Accuracy: {accuracy1:.4f}\")"
   ]
  },
  {
   "cell_type": "markdown",
   "metadata": {},
   "source": [
    "## Model Evaluation 2"
   ]
  },
  {
   "cell_type": "code",
   "execution_count": 18,
   "metadata": {},
   "outputs": [
    {
     "name": "stdout",
     "output_type": "stream",
     "text": [
      "Accuracy: 0.5971\n"
     ]
    }
   ],
   "source": [
    "# Get the accuracy of the model on test data\n",
    "integration_type = 'sentence + aspect'\n",
    "accuracy2 = evaluate(encoder2, decoder2, test_x, integration_type)\n",
    "print(f\"Accuracy: {accuracy2:.4f}\")"
   ]
  },
  {
   "cell_type": "markdown",
   "metadata": {},
   "source": [
    "## Model Evaluation 3"
   ]
  },
  {
   "cell_type": "code",
   "execution_count": 19,
   "metadata": {},
   "outputs": [
    {
     "name": "stdout",
     "output_type": "stream",
     "text": [
      "Accuracy: 0.4384\n"
     ]
    }
   ],
   "source": [
    "# Get the accuracy of the model on test data\n",
    "integration_type = 'no aspect'\n",
    "accuracy3 = evaluate(encoder3, decoder3, test_x, integration_type)\n",
    "print(f\"Accuracy: {accuracy3:.4f}\")"
   ]
  }
 ],
 "metadata": {
  "kernelspec": {
   "display_name": "base",
   "language": "python",
   "name": "python3"
  },
  "language_info": {
   "codemirror_mode": {
    "name": "ipython",
    "version": 3
   },
   "file_extension": ".py",
   "mimetype": "text/x-python",
   "name": "python",
   "nbconvert_exporter": "python",
   "pygments_lexer": "ipython3",
   "version": "3.12.2"
  }
 },
 "nbformat": 4,
 "nbformat_minor": 2
}
