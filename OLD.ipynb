{
  "cells": [
    {
      "cell_type": "markdown",
      "metadata": {
        "id": "tDcYnRfaMOsP"
      },
      "source": [
        "# 2024 CITS4012 Project"
      ]
    },
    {
      "cell_type": "markdown",
      "metadata": {
        "id": "UzE-7blTMOsS"
      },
      "source": [
        "# Readme\n",
        "\n",
        "notes for marker"
      ]
    },
    {
      "cell_type": "markdown",
      "metadata": {
        "id": "9JArpTqpMOsT"
      },
      "source": [
        "# 1. Dataset Processing"
      ]
    },
    {
      "cell_type": "markdown",
      "metadata": {
        "id": "15myqX_yMOsT"
      },
      "source": [
        "## Import the libraries"
      ]
    },
    {
      "cell_type": "code",
      "execution_count": 74,
      "metadata": {
        "id": "kyPoIBWWMOsU"
      },
      "outputs": [],
      "source": [
        "import re\n",
        "import json\n",
        "import nltk\n",
        "import spacy\n",
        "import torch\n",
        "import random\n",
        "import numpy as np\n",
        "import pandas as pd\n",
        "import torch.nn as nn\n",
        "import torch.optim as optim\n",
        "import torch.nn.functional as F\n",
        "import gensim.downloader as api\n",
        "import matplotlib.pyplot as plt"
      ]
    },
    {
      "cell_type": "markdown",
      "metadata": {
        "id": "FjBb3WWxMOsV"
      },
      "source": [
        "## Loading the datasets"
      ]
    },
    {
      "cell_type": "code",
      "execution_count": 91,
      "metadata": {
        "colab": {
          "base_uri": "https://localhost:8080/"
        },
        "id": "0JEMS1mAMWg_",
        "outputId": "0090c15d-27da-4152-c128-c780f8181e0d"
      },
      "outputs": [],
      "source": [
        "# # Mount Google Drive\n",
        "# from google.colab import drive\n",
        "# drive.mount('/content/drive')"
      ]
    },
    {
      "cell_type": "code",
      "execution_count": 66,
      "metadata": {
        "colab": {
          "base_uri": "https://localhost:8080/"
        },
        "id": "oXxsKZwoMOsW",
        "outputId": "276a3429-7b4b-4b87-95db-19ce4ce8789f"
      },
      "outputs": [],
      "source": [
        "# Load the training data\n",
        "# with open('/content/drive/MyDrive/data/train.json', 'r') as file:\n",
        "with open('train.json', 'r') as file:\n",
        "    data = json.load(file)\n",
        "    train_data = pd.DataFrame(data['data'], columns=data['columns'])\n",
        "\n",
        "# Load the test data\n",
        "# with open('/content/drive/MyDrive/data/test.json', 'r') as file:\n",
        "with open('test.json', 'r') as file:\n",
        "    data = json.load(file)\n",
        "    test_data = pd.DataFrame(data['data'], columns=data['columns'])\n",
        "\n",
        "# Load the validation data\n",
        "# with open('/content/drive/MyDrive/data/val.json', 'r') as file:\n",
        "with open('val.json', 'r') as file:\n",
        "    data = json.load(file)\n",
        "    val_data = pd.DataFrame(data['data'], columns=data['columns'])\n",
        "\n",
        "# Get the x and y lists for training data and test data\n",
        "training_x = train_data['sentence'].tolist() + val_data['sentence'].tolist()\n",
        "training_a = train_data['aspect'].tolist() + val_data['aspect'].tolist()\n",
        "training_y = train_data['polarity'].tolist() + val_data['polarity'].tolist()\n",
        "output_y = [[\"<BOS>\"] + [y] for y in training_y]\n",
        "target_y = [[y] + [\"<EOS>\"]for y in training_y]\n",
        "test_x = test_data['sentence'].tolist()\n",
        "test_a = test_data['aspect'].tolist()\n",
        "test_y = test_data['polarity'].tolist()"
      ]
    },
    {
      "cell_type": "markdown",
      "metadata": {},
      "source": [
        "## Dataset Analysis"
      ]
    },
    {
      "cell_type": "code",
      "execution_count": 67,
      "metadata": {},
      "outputs": [
        {
          "name": "stdout",
          "output_type": "stream",
          "text": [
            "Training data size : 7978\n",
            "Test data size     : 901\n",
            "\n",
            "Aspect Distribution:\n",
            "food             2307\n",
            "staff            1383\n",
            "miscellaneous     954\n",
            "place             694\n",
            "service           631\n",
            "menu              475\n",
            "ambience          324\n",
            "price             322\n",
            "\n",
            "Sentiment Distribution:\n",
            "neutral     3077\n",
            "negative    2084\n",
            "positive    1929\n",
            "\n",
            "Aspect-Sentiment Pair Distribution:\n",
            "(food, neutral)              1298\n",
            "(staff, negative)             922\n",
            "(food, positive)              754\n",
            "(miscellaneous, neutral)      531\n",
            "(place, neutral)              430\n",
            "(menu, neutral)               372\n",
            "(staff, positive)             332\n",
            "(service, negative)           329\n",
            "(food, negative)              255\n",
            "(miscellaneous, positive)     227\n",
            "(miscellaneous, negative)     196\n",
            "(ambience, positive)          181\n",
            "(service, positive)           174\n",
            "(place, negative)             139\n",
            "(price, neutral)              136\n",
            "(staff, neutral)              129\n",
            "(service, neutral)            128\n",
            "(place, positive)             125\n",
            "(price, negative)             114\n",
            "(ambience, negative)           90\n",
            "(price, positive)              72\n",
            "(menu, positive)               64\n",
            "(ambience, neutral)            53\n",
            "(menu, negative)               39\n"
          ]
        }
      ],
      "source": [
        "# Size of datasets\n",
        "print(\"Training data size :\", len(training_x))\n",
        "print(\"Test data size     :\", len(test_x))\n",
        "\n",
        "# Aspect Distribution\n",
        "aspect_distribution = train_data['aspect'].value_counts()\n",
        "print(\"\\nAspect Distribution:\")\n",
        "print(aspect_distribution.to_string(header=False))\n",
        "\n",
        "# Sentiment Distribution\n",
        "sentiment_distribution = train_data['polarity'].value_counts()\n",
        "print(\"\\nSentiment Distribution:\")\n",
        "print(sentiment_distribution.to_string(header=False))\n",
        "\n",
        "# Aspect-Sentiment Pair Distribution\n",
        "aspect_polarity_pair = [(a, p) for a, p in zip(train_data['aspect'], train_data['polarity'])]\n",
        "aspect_polarity_freq = pd.Series(aspect_polarity_pair).value_counts()\n",
        "print(\"\\nAspect-Sentiment Pair Distribution:\")\n",
        "print(aspect_polarity_freq.to_string(header=False))"
      ]
    },
    {
      "cell_type": "markdown",
      "metadata": {
        "id": "Ni3Js2GkMOsY"
      },
      "source": [
        "## Data Preprocessing"
      ]
    },
    {
      "cell_type": "code",
      "execution_count": 68,
      "metadata": {},
      "outputs": [
        {
          "name": "stdout",
          "output_type": "stream",
          "text": [
            "Collecting en-core-web-sm==3.7.1\n",
            "  Downloading https://github.com/explosion/spacy-models/releases/download/en_core_web_sm-3.7.1/en_core_web_sm-3.7.1-py3-none-any.whl (12.8 MB)\n",
            "     ---------------------------------------- 0.0/12.8 MB ? eta -:--:--\n",
            "     --------------------------------------- 0.0/12.8 MB 640.0 kB/s eta 0:00:20\n",
            "     --------------------------------------- 0.1/12.8 MB 656.4 kB/s eta 0:00:20\n",
            "      --------------------------------------- 0.3/12.8 MB 2.3 MB/s eta 0:00:06\n",
            "     - -------------------------------------- 0.5/12.8 MB 3.2 MB/s eta 0:00:04\n",
            "     -- ------------------------------------- 0.8/12.8 MB 3.8 MB/s eta 0:00:04\n",
            "     --- ------------------------------------ 1.0/12.8 MB 4.1 MB/s eta 0:00:03\n",
            "     ---- ----------------------------------- 1.3/12.8 MB 4.3 MB/s eta 0:00:03\n",
            "     ---- ----------------------------------- 1.5/12.8 MB 4.4 MB/s eta 0:00:03\n",
            "     ----- ---------------------------------- 1.7/12.8 MB 4.5 MB/s eta 0:00:03\n",
            "     ------ --------------------------------- 1.9/12.8 MB 4.4 MB/s eta 0:00:03\n",
            "     ------- -------------------------------- 2.3/12.8 MB 4.7 MB/s eta 0:00:03\n",
            "     ------- -------------------------------- 2.5/12.8 MB 4.9 MB/s eta 0:00:03\n",
            "     -------- ------------------------------- 2.8/12.8 MB 5.0 MB/s eta 0:00:03\n",
            "     --------- ------------------------------ 3.1/12.8 MB 5.1 MB/s eta 0:00:02\n",
            "     ---------- ----------------------------- 3.3/12.8 MB 5.1 MB/s eta 0:00:02\n",
            "     ----------- ---------------------------- 3.6/12.8 MB 5.1 MB/s eta 0:00:02\n",
            "     ------------ --------------------------- 3.9/12.8 MB 5.1 MB/s eta 0:00:02\n",
            "     ------------ --------------------------- 4.1/12.8 MB 5.2 MB/s eta 0:00:02\n",
            "     ------------- -------------------------- 4.4/12.8 MB 5.2 MB/s eta 0:00:02\n",
            "     -------------- ------------------------- 4.7/12.8 MB 5.2 MB/s eta 0:00:02\n",
            "     --------------- ------------------------ 4.9/12.8 MB 5.3 MB/s eta 0:00:02\n",
            "     ---------------- ----------------------- 5.2/12.8 MB 5.3 MB/s eta 0:00:02\n",
            "     ----------------- ---------------------- 5.6/12.8 MB 5.3 MB/s eta 0:00:02\n",
            "     ------------------ --------------------- 5.9/12.8 MB 5.3 MB/s eta 0:00:02\n",
            "     ------------------- -------------------- 6.1/12.8 MB 5.3 MB/s eta 0:00:02\n",
            "     -------------------- ------------------- 6.4/12.8 MB 5.3 MB/s eta 0:00:02\n",
            "     -------------------- ------------------- 6.7/12.8 MB 5.3 MB/s eta 0:00:02\n",
            "     --------------------- ------------------ 6.9/12.8 MB 5.3 MB/s eta 0:00:02\n",
            "     ---------------------- ----------------- 7.2/12.8 MB 5.4 MB/s eta 0:00:02\n",
            "     ----------------------- ---------------- 7.4/12.8 MB 5.4 MB/s eta 0:00:01\n",
            "     ------------------------ --------------- 7.7/12.8 MB 5.4 MB/s eta 0:00:01\n",
            "     ------------------------ --------------- 8.0/12.8 MB 5.4 MB/s eta 0:00:01\n",
            "     ------------------------- -------------- 8.3/12.8 MB 5.4 MB/s eta 0:00:01\n",
            "     -------------------------- ------------- 8.5/12.8 MB 5.4 MB/s eta 0:00:01\n",
            "     --------------------------- ------------ 8.8/12.8 MB 5.4 MB/s eta 0:00:01\n",
            "     ---------------------------- ----------- 9.0/12.8 MB 5.4 MB/s eta 0:00:01\n",
            "     ----------------------------- ---------- 9.3/12.8 MB 5.5 MB/s eta 0:00:01\n",
            "     ----------------------------- ---------- 9.6/12.8 MB 5.5 MB/s eta 0:00:01\n",
            "     ------------------------------ --------- 9.8/12.8 MB 5.4 MB/s eta 0:00:01\n",
            "     ------------------------------- -------- 10.0/12.8 MB 5.4 MB/s eta 0:00:01\n",
            "     -------------------------------- ------- 10.3/12.8 MB 5.6 MB/s eta 0:00:01\n",
            "     -------------------------------- ------- 10.5/12.8 MB 5.6 MB/s eta 0:00:01\n",
            "     --------------------------------- ------ 10.8/12.8 MB 5.6 MB/s eta 0:00:01\n",
            "     ---------------------------------- ----- 11.1/12.8 MB 5.6 MB/s eta 0:00:01\n",
            "     ----------------------------------- ---- 11.3/12.8 MB 5.6 MB/s eta 0:00:01\n",
            "     ------------------------------------ --- 11.6/12.8 MB 5.6 MB/s eta 0:00:01\n",
            "     ------------------------------------- -- 11.9/12.8 MB 5.6 MB/s eta 0:00:01\n",
            "     ------------------------------------- -- 12.1/12.8 MB 5.7 MB/s eta 0:00:01\n",
            "     -------------------------------------- - 12.4/12.8 MB 5.7 MB/s eta 0:00:01\n",
            "     ---------------------------------------  12.6/12.8 MB 5.6 MB/s eta 0:00:01\n",
            "     ---------------------------------------  12.8/12.8 MB 5.6 MB/s eta 0:00:01\n",
            "     ---------------------------------------- 12.8/12.8 MB 5.5 MB/s eta 0:00:00\n",
            "Requirement already satisfied: spacy<3.8.0,>=3.7.2 in c:\\users\\allis\\miniconda3\\lib\\site-packages (from en-core-web-sm==3.7.1) (3.7.4)\n",
            "Requirement already satisfied: spacy-legacy<3.1.0,>=3.0.11 in c:\\users\\allis\\miniconda3\\lib\\site-packages (from spacy<3.8.0,>=3.7.2->en-core-web-sm==3.7.1) (3.0.12)\n",
            "Requirement already satisfied: spacy-loggers<2.0.0,>=1.0.0 in c:\\users\\allis\\miniconda3\\lib\\site-packages (from spacy<3.8.0,>=3.7.2->en-core-web-sm==3.7.1) (1.0.5)\n",
            "Requirement already satisfied: murmurhash<1.1.0,>=0.28.0 in c:\\users\\allis\\miniconda3\\lib\\site-packages (from spacy<3.8.0,>=3.7.2->en-core-web-sm==3.7.1) (1.0.10)\n",
            "Requirement already satisfied: cymem<2.1.0,>=2.0.2 in c:\\users\\allis\\miniconda3\\lib\\site-packages (from spacy<3.8.0,>=3.7.2->en-core-web-sm==3.7.1) (2.0.8)\n",
            "Requirement already satisfied: preshed<3.1.0,>=3.0.2 in c:\\users\\allis\\miniconda3\\lib\\site-packages (from spacy<3.8.0,>=3.7.2->en-core-web-sm==3.7.1) (3.0.9)\n",
            "Requirement already satisfied: thinc<8.3.0,>=8.2.2 in c:\\users\\allis\\miniconda3\\lib\\site-packages (from spacy<3.8.0,>=3.7.2->en-core-web-sm==3.7.1) (8.2.3)\n",
            "Requirement already satisfied: wasabi<1.2.0,>=0.9.1 in c:\\users\\allis\\miniconda3\\lib\\site-packages (from spacy<3.8.0,>=3.7.2->en-core-web-sm==3.7.1) (1.1.2)\n",
            "Requirement already satisfied: srsly<3.0.0,>=2.4.3 in c:\\users\\allis\\miniconda3\\lib\\site-packages (from spacy<3.8.0,>=3.7.2->en-core-web-sm==3.7.1) (2.4.8)\n",
            "Requirement already satisfied: catalogue<2.1.0,>=2.0.6 in c:\\users\\allis\\miniconda3\\lib\\site-packages (from spacy<3.8.0,>=3.7.2->en-core-web-sm==3.7.1) (2.0.10)\n",
            "Requirement already satisfied: weasel<0.4.0,>=0.1.0 in c:\\users\\allis\\miniconda3\\lib\\site-packages (from spacy<3.8.0,>=3.7.2->en-core-web-sm==3.7.1) (0.3.4)\n",
            "Requirement already satisfied: typer<0.10.0,>=0.3.0 in c:\\users\\allis\\miniconda3\\lib\\site-packages (from spacy<3.8.0,>=3.7.2->en-core-web-sm==3.7.1) (0.9.4)\n",
            "Requirement already satisfied: smart-open<7.0.0,>=5.2.1 in c:\\users\\allis\\miniconda3\\lib\\site-packages (from spacy<3.8.0,>=3.7.2->en-core-web-sm==3.7.1) (6.4.0)\n",
            "Requirement already satisfied: tqdm<5.0.0,>=4.38.0 in c:\\users\\allis\\miniconda3\\lib\\site-packages (from spacy<3.8.0,>=3.7.2->en-core-web-sm==3.7.1) (4.65.0)\n",
            "Requirement already satisfied: requests<3.0.0,>=2.13.0 in c:\\users\\allis\\miniconda3\\lib\\site-packages (from spacy<3.8.0,>=3.7.2->en-core-web-sm==3.7.1) (2.31.0)\n",
            "Requirement already satisfied: pydantic!=1.8,!=1.8.1,<3.0.0,>=1.7.4 in c:\\users\\allis\\miniconda3\\lib\\site-packages (from spacy<3.8.0,>=3.7.2->en-core-web-sm==3.7.1) (2.6.4)\n",
            "Requirement already satisfied: jinja2 in c:\\users\\allis\\miniconda3\\lib\\site-packages (from spacy<3.8.0,>=3.7.2->en-core-web-sm==3.7.1) (3.1.3)\n",
            "Requirement already satisfied: setuptools in c:\\users\\allis\\miniconda3\\lib\\site-packages (from spacy<3.8.0,>=3.7.2->en-core-web-sm==3.7.1) (68.2.2)\n",
            "Requirement already satisfied: packaging>=20.0 in c:\\users\\allis\\miniconda3\\lib\\site-packages (from spacy<3.8.0,>=3.7.2->en-core-web-sm==3.7.1) (23.1)\n",
            "Requirement already satisfied: langcodes<4.0.0,>=3.2.0 in c:\\users\\allis\\miniconda3\\lib\\site-packages (from spacy<3.8.0,>=3.7.2->en-core-web-sm==3.7.1) (3.4.0)\n",
            "Requirement already satisfied: numpy>=1.19.0 in c:\\users\\allis\\miniconda3\\lib\\site-packages (from spacy<3.8.0,>=3.7.2->en-core-web-sm==3.7.1) (1.26.4)\n",
            "Requirement already satisfied: language-data>=1.2 in c:\\users\\allis\\miniconda3\\lib\\site-packages (from langcodes<4.0.0,>=3.2.0->spacy<3.8.0,>=3.7.2->en-core-web-sm==3.7.1) (1.2.0)\n",
            "Requirement already satisfied: annotated-types>=0.4.0 in c:\\users\\allis\\miniconda3\\lib\\site-packages (from pydantic!=1.8,!=1.8.1,<3.0.0,>=1.7.4->spacy<3.8.0,>=3.7.2->en-core-web-sm==3.7.1) (0.6.0)\n",
            "Requirement already satisfied: pydantic-core==2.16.3 in c:\\users\\allis\\miniconda3\\lib\\site-packages (from pydantic!=1.8,!=1.8.1,<3.0.0,>=1.7.4->spacy<3.8.0,>=3.7.2->en-core-web-sm==3.7.1) (2.16.3)\n",
            "Requirement already satisfied: typing-extensions>=4.6.1 in c:\\users\\allis\\miniconda3\\lib\\site-packages (from pydantic!=1.8,!=1.8.1,<3.0.0,>=1.7.4->spacy<3.8.0,>=3.7.2->en-core-web-sm==3.7.1) (4.10.0)\n",
            "Requirement already satisfied: charset-normalizer<4,>=2 in c:\\users\\allis\\miniconda3\\lib\\site-packages (from requests<3.0.0,>=2.13.0->spacy<3.8.0,>=3.7.2->en-core-web-sm==3.7.1) (2.0.4)\n",
            "Requirement already satisfied: idna<4,>=2.5 in c:\\users\\allis\\miniconda3\\lib\\site-packages (from requests<3.0.0,>=2.13.0->spacy<3.8.0,>=3.7.2->en-core-web-sm==3.7.1) (3.4)\n",
            "Requirement already satisfied: urllib3<3,>=1.21.1 in c:\\users\\allis\\miniconda3\\lib\\site-packages (from requests<3.0.0,>=2.13.0->spacy<3.8.0,>=3.7.2->en-core-web-sm==3.7.1) (1.26.18)\n",
            "Requirement already satisfied: certifi>=2017.4.17 in c:\\users\\allis\\miniconda3\\lib\\site-packages (from requests<3.0.0,>=2.13.0->spacy<3.8.0,>=3.7.2->en-core-web-sm==3.7.1) (2024.2.2)\n",
            "Requirement already satisfied: blis<0.8.0,>=0.7.8 in c:\\users\\allis\\miniconda3\\lib\\site-packages (from thinc<8.3.0,>=8.2.2->spacy<3.8.0,>=3.7.2->en-core-web-sm==3.7.1) (0.7.11)\n",
            "Requirement already satisfied: confection<1.0.0,>=0.0.1 in c:\\users\\allis\\miniconda3\\lib\\site-packages (from thinc<8.3.0,>=8.2.2->spacy<3.8.0,>=3.7.2->en-core-web-sm==3.7.1) (0.1.4)\n",
            "Requirement already satisfied: colorama in c:\\users\\allis\\miniconda3\\lib\\site-packages (from tqdm<5.0.0,>=4.38.0->spacy<3.8.0,>=3.7.2->en-core-web-sm==3.7.1) (0.4.6)\n",
            "Requirement already satisfied: click<9.0.0,>=7.1.1 in c:\\users\\allis\\miniconda3\\lib\\site-packages (from typer<0.10.0,>=0.3.0->spacy<3.8.0,>=3.7.2->en-core-web-sm==3.7.1) (8.1.7)\n",
            "Requirement already satisfied: cloudpathlib<0.17.0,>=0.7.0 in c:\\users\\allis\\miniconda3\\lib\\site-packages (from weasel<0.4.0,>=0.1.0->spacy<3.8.0,>=3.7.2->en-core-web-sm==3.7.1) (0.16.0)\n",
            "Requirement already satisfied: MarkupSafe>=2.0 in c:\\users\\allis\\miniconda3\\lib\\site-packages (from jinja2->spacy<3.8.0,>=3.7.2->en-core-web-sm==3.7.1) (2.1.5)\n",
            "Requirement already satisfied: marisa-trie>=0.7.7 in c:\\users\\allis\\miniconda3\\lib\\site-packages (from language-data>=1.2->langcodes<4.0.0,>=3.2.0->spacy<3.8.0,>=3.7.2->en-core-web-sm==3.7.1) (1.1.0)\n",
            "\u001b[38;5;2m✔ Download and installation successful\u001b[0m\n",
            "You can now load the package via spacy.load('en_core_web_sm')\n"
          ]
        }
      ],
      "source": [
        "! python -m spacy download en_core_web_sm"
      ]
    },
    {
      "cell_type": "code",
      "execution_count": 69,
      "metadata": {
        "colab": {
          "base_uri": "https://localhost:8080/"
        },
        "id": "sNpZV4StMOsY",
        "outputId": "4e021417-e91d-44b6-ee43-6c3160882a1f"
      },
      "outputs": [
        {
          "name": "stderr",
          "output_type": "stream",
          "text": [
            "[nltk_data] Downloading package punkt to\n",
            "[nltk_data]     C:\\Users\\allis\\AppData\\Roaming\\nltk_data...\n",
            "[nltk_data]   Package punkt is already up-to-date!\n",
            "[nltk_data] Downloading package wordnet to\n",
            "[nltk_data]     C:\\Users\\allis\\AppData\\Roaming\\nltk_data...\n",
            "[nltk_data]   Package wordnet is already up-to-date!\n"
          ]
        }
      ],
      "source": [
        "# Punctuation Removal\n",
        "def remove_punctuation_re(x):\n",
        "    x = re.sub(r'[^\\w\\s]', '', x)\n",
        "    return x\n",
        "\n",
        "nltk.download('punkt')\n",
        "\n",
        "# Stopwords Removal\n",
        "nlp = spacy.load(\"en_core_web_sm\")\n",
        "\n",
        "def remove_stopwords(x):\n",
        "    doc = nlp(x)\n",
        "    x = [word.text for word in doc if not word.is_stop]\n",
        "    return x\n",
        "\n",
        "# Stemming\n",
        "from nltk.stem import PorterStemmer\n",
        "stemmer = PorterStemmer()\n",
        "\n",
        "def stem(x):\n",
        "    x = [stemmer.stem(word) for word in x]\n",
        "    return x\n",
        "\n",
        "# Lemmatisation\n",
        "nltk.download('wordnet')\n",
        "from nltk.stem import WordNetLemmatizer\n",
        "lemmatizer = WordNetLemmatizer()\n",
        "\n",
        "def lemmatize(x):\n",
        "    x = [lemmatizer.lemmatize(word) for word in x]\n",
        "    return x\n",
        "\n",
        "# English Contractions Dictionary\n",
        "contraction_dict = {\"ain't\": \"is not\", \"aren't\": \"are not\",\"can't\": \"cannot\", \"'cause\": \"because\", \"could've\": \"could have\",\n",
        "                    \"couldn't\": \"could not\", \"didn't\": \"did not\",  \"doesn't\": \"does not\", \"don't\": \"do not\", \"hadn't\": \"had not\",\n",
        "                    \"hasn't\": \"has not\", \"haven't\": \"have not\", \"he'd\": \"he would\",\"he'll\": \"he will\", \"he's\": \"he is\", \"how'd\": \"how did\",\n",
        "                    \"how'd'y\": \"how do you\", \"how'll\": \"how will\", \"how's\": \"how is\",  \"I'd\": \"I would\", \"I'd've\": \"I would have\",\n",
        "                    \"I'll\": \"I will\", \"I'll've\": \"I will have\",\"I'm\": \"I am\", \"I've\": \"I have\", \"i'd\": \"i would\", \"i'd've\": \"i would have\",\n",
        "                    \"i'll\": \"i will\",  \"i'll've\": \"i will have\",\"i'm\": \"i am\", \"i've\": \"i have\", \"isn't\": \"is not\", \"it'd\": \"it would\",\n",
        "                    \"it'd've\": \"it would have\", \"it'll\": \"it will\", \"it'll've\": \"it will have\",\"it's\": \"it is\", \"let's\": \"let us\",\n",
        "                    \"ma'am\": \"madam\", \"mayn't\": \"may not\", \"might've\": \"might have\",\"mightn't\": \"might not\",\"mightn't've\": \"might not have\",\n",
        "                    \"must've\": \"must have\", \"mustn't\": \"must not\", \"mustn't've\": \"must not have\", \"needn't\": \"need not\", \"needn't've\": \"need not have\",\n",
        "                    \"o'clock\": \"of the clock\", \"oughtn't\": \"ought not\", \"oughtn't've\": \"ought not have\", \"shan't\": \"shall not\", \"sha'n't\": \"shall not\",\n",
        "                    \"shan't've\": \"shall not have\", \"she'd\": \"she would\", \"she'd've\": \"she would have\", \"she'll\": \"she will\", \"she'll've\": \"she will have\",\n",
        "                    \"she's\": \"she is\", \"should've\": \"should have\", \"shouldn't\": \"should not\", \"shouldn't've\": \"should not have\", \"so've\": \"so have\",\n",
        "                    \"so's\": \"so as\", \"this's\": \"this is\",\"that'd\": \"that would\", \"that'd've\": \"that would have\", \"that's\": \"that is\", \"there'd\": \"there would\",\n",
        "                    \"there'd've\": \"there would have\", \"there's\": \"there is\", \"here's\": \"here is\",\"they'd\": \"they would\", \"they'd've\": \"they would have\",\n",
        "                    \"they'll\": \"they will\", \"they'll've\": \"they will have\", \"they're\": \"they are\", \"they've\": \"they have\", \"to've\": \"to have\", \"wasn't\": \"was not\",\n",
        "                    \"we'd\": \"we would\", \"we'd've\": \"we would have\", \"we'll\": \"we will\", \"we'll've\": \"we will have\", \"we're\": \"we are\", \"we've\": \"we have\",\n",
        "                    \"weren't\": \"were not\", \"what'll\": \"what will\", \"what'll've\": \"what will have\", \"what're\": \"what are\",  \"what's\": \"what is\", \"what've\": \"what have\",\n",
        "                    \"when's\": \"when is\", \"when've\": \"when have\", \"where'd\": \"where did\", \"where's\": \"where is\", \"where've\": \"where have\", \"who'll\": \"who will\",\n",
        "                    \"who'll've\": \"who will have\", \"who's\": \"who is\", \"who've\": \"who have\", \"why's\": \"why is\", \"why've\": \"why have\", \"will've\": \"will have\",\n",
        "                    \"won't\": \"will not\", \"won't've\": \"will not have\", \"would've\": \"would have\", \"wouldn't\": \"would not\", \"wouldn't've\": \"would not have\",\n",
        "                    \"y'all\": \"you all\", \"y'all'd\": \"you all would\",\"y'all'd've\": \"you all would have\",\"y'all're\": \"you all are\",\"y'all've\": \"you all have\",\n",
        "                    \"you'd\": \"you would\", \"you'd've\": \"you would have\", \"you'll\": \"you will\", \"you'll've\": \"you will have\", \"you're\": \"you are\", \"you've\": \"you have\"}\n",
        "\n",
        "# Emoticons\n",
        "EMOTICONS = r\"\"\"\n",
        "    (?:\n",
        "      [<>]?\n",
        "      [:;=8]                     # eyes\n",
        "      [\\-o\\*\\']?                 # optional nose\n",
        "      [\\)\\]\\(\\[dDpP/\\:\\}\\{@\\|\\\\] # mouth\n",
        "      |\n",
        "      [\\)\\]\\(\\[dDpP/\\:\\}\\{@\\|\\\\] # mouth\n",
        "      [\\-o\\*\\']?                 # optional nose\n",
        "      [:;=8]                     # eyes\n",
        "      [<>]?\n",
        "      |\n",
        "      <3                         # heart\n",
        "    )\"\"\"\n",
        "\n",
        "EMOTICON_RE = re.compile(EMOTICONS, re.VERBOSE | re.I | re.UNICODE)"
      ]
    },
    {
      "cell_type": "code",
      "execution_count": 71,
      "metadata": {
        "id": "RtUZZzHbMOsa"
      },
      "outputs": [],
      "source": [
        "# Function to preprocess the data\n",
        "def preprocess_data(sentence_list):\n",
        "    output_list = []\n",
        "    for sentence in sentence_list:\n",
        "        emoticons = EMOTICON_RE.findall(sentence)       # Extract emoticons\n",
        "        sentence = EMOTICON_RE.sub('', sentence)        # Remove emoticons\n",
        "        sentence = sentence.lower()                     # Case folding\n",
        "        for word, new_word in contraction_dict.items(): # Deal with contractions\n",
        "            sentence = sentence.replace(word, new_word)\n",
        "        sentence = remove_punctuation_re(sentence)      # Remove punctuation\n",
        "        tokens = remove_stopwords(sentence)             # Remove stopwords / Tokenise\n",
        "        # tokens = stem(tokens)                           # Stemming\n",
        "        # tokens = lemmatize(tokens)                      # Lemmatisation\n",
        "        tokens.extend(emoticons)                        # Add emoticons back\n",
        "        output_list.append(tokens)\n",
        "    return output_list\n",
        "\n",
        "# Preprocess the data and get the tokenised sentence lists\n",
        "train_x_token = preprocess_data(training_x)\n",
        "test_x_token = preprocess_data(test_x)"
      ]
    },
    {
      "cell_type": "code",
      "execution_count": 72,
      "metadata": {
        "id": "RHTFH4HHMOsa"
      },
      "outputs": [],
      "source": [
        "# Get longest sentence length\n",
        "longest_sentence = max(train_x_token, key=len)\n",
        "MAX_LENGTH = len(longest_sentence)\n",
        "\n",
        "# Word vocabulary to index dictionary {word: index}\n",
        "word_to_idx = {\"<BOS>\": 0, \"<EOS>\": 1}\n",
        "\n",
        "review = train_x_token + test_x_token\n",
        "aspect = [list(set(training_a))]\n",
        "polarity = [list(set(training_y))]\n",
        "\n",
        "# Vocabulary includes words from reviews, aspects and polarities\n",
        "for sentence in polarity+aspect+review:\n",
        "    for word in sentence:\n",
        "        if word not in word_to_idx:\n",
        "            word_to_idx[word] = len(word_to_idx)\n",
        "word_list = list(word_to_idx.keys())\n",
        "idx_to_word = {idx: word for word, idx in word_to_idx.items()}\n",
        "vocab_size = len(word_to_idx)"
      ]
    },
    {
      "cell_type": "code",
      "execution_count": 73,
      "metadata": {
        "id": "ExTMDoTmMOsb",
        "outputId": "f8cd6fb0-f18c-4b9a-d322-9a3e0be113c3"
      },
      "outputs": [],
      "source": [
        "def tokens_to_index(token_list, word_to_idx):\n",
        "    idx_list = []\n",
        "    for tokens in token_list:\n",
        "        idx_list.append([word_to_idx[token] for token in tokens])\n",
        "    return idx_list\n",
        "\n",
        "def aspects_to_index(aspect_list, word_to_idx):\n",
        "    idx_list = []\n",
        "    for aspect in aspect_list:\n",
        "        idx_list.append(word_to_idx[aspect])\n",
        "    return idx_list\n",
        "\n",
        "# Token index lists for training data\n",
        "train_x_idx = tokens_to_index(train_x_token, word_to_idx)\n",
        "train_a_idx = aspects_to_index(training_a, word_to_idx)\n",
        "output_y_idx = tokens_to_index(output_y, word_to_idx)\n",
        "target_y_idx = tokens_to_index(target_y, word_to_idx)"
      ]
    },
    {
      "cell_type": "markdown",
      "metadata": {},
      "source": [
        "## Pretrained Word Embeddings from Glove"
      ]
    },
    {
      "cell_type": "code",
      "execution_count": 78,
      "metadata": {},
      "outputs": [],
      "source": [
        "glove_model = api.load(\"glove-twitter-50\")\n",
        "glove_weights = torch.FloatTensor(glove_model.vectors)"
      ]
    },
    {
      "cell_type": "code",
      "execution_count": 79,
      "metadata": {},
      "outputs": [
        {
          "name": "stdout",
          "output_type": "stream",
          "text": [
            "torch.Size([1193514, 50])\n"
          ]
        }
      ],
      "source": [
        "print(glove_weights.size())"
      ]
    },
    {
      "cell_type": "markdown",
      "metadata": {
        "id": "QMAG9jAQMOsd"
      },
      "source": [
        "# 2. Model Implementation"
      ]
    },
    {
      "cell_type": "markdown",
      "metadata": {
        "id": "j51j5z2PMOsd"
      },
      "source": [
        "## Model 1 (Word Embedding + Aspect Embedding)"
      ]
    },
    {
      "cell_type": "code",
      "execution_count": 75,
      "metadata": {},
      "outputs": [],
      "source": [
        "# Encoder\n",
        "class LSTMEncoder1(nn.Module):\n",
        "    def __init__(self, hidden_size, embedding, num_layers=1):\n",
        "        super(LSTMEncoder1, self).__init__()\n",
        "        self.hidden_size = hidden_size\n",
        "        self.embedding = embedding\n",
        "        self.lstm = nn.LSTM(hidden_size, hidden_size, num_layers=num_layers)\n",
        "        \n",
        "    def forward(self, input, hidden, aspect):\n",
        "        word_embedding = self.embedding(input).view(1, 1, -1)\n",
        "        aspect_embedding = self.embedding(aspect).view(1, 1, -1)\n",
        "        word_embedding = torch.cat((aspect_embedding, word_embedding), 0)\n",
        "        output, (hidden, cell) = self.lstm(word_embedding)\n",
        "        return output, hidden, cell\n",
        "    \n",
        "    def init_hidden(self):\n",
        "        return torch.zeros(1, 1, self.hidden_size)\n",
        "\n",
        "# Decoder\n",
        "class LSTMDecoder1(nn.Module):\n",
        "    def __init__(self, hidden_size, output_size, embedding, dropout_p=0.1, num_layers=1, attention='dot_product'):\n",
        "        super(LSTMDecoder1, self).__init__()\n",
        "        self.attention_type = attention\n",
        "        self.hidden_size = hidden_size\n",
        "        self.output_size = output_size\n",
        "        self.dropout_p = dropout_p\n",
        "        self.embedding = embedding\n",
        "        self.dropout = nn.Dropout(self.dropout_p)\n",
        "        self.lstm = nn.LSTM(hidden_size, hidden_size, num_layers=num_layers)\n",
        "        self.out = nn.Linear(hidden_size*2, output_size)\n",
        "    \n",
        "    def cal_attention(self, hidden, encoder_hiddens):\n",
        "        if self.attention_type == 'dot_product':            # Dot product attention\n",
        "            attn_weights = F.softmax(torch.bmm(hidden, encoder_hiddens.T.unsqueeze(0)), dim=-1)\n",
        "        elif self.attention_type == 'scaled_dot_product':   # Scaled dot product attention\n",
        "            scale = 1.0 / np.sqrt(self.hidden_size)\n",
        "            attn_weights = F.softmax(torch.bmm(hidden, encoder_hiddens.T.unsqueeze(0)) * scale, dim=-1)\n",
        "        elif self.attention_type == 'cosine_similarity':\n",
        "            query = hidden / torch.norm(hidden, dim=-1)\n",
        "            keys = encoder_hiddens / torch.norm(encoder_hiddens.T, dim=-1)\n",
        "            norm_product = torch.bmm(query, keys.T.unsqueeze(0))\n",
        "            attn_weights = F.softmax(norm_product, dim=-1)\n",
        "\n",
        "        attn_output = torch.bmm(attn_weights, encoder_hiddens.unsqueeze(0))\n",
        "        concat_output = torch.cat((attn_output[0], hidden[0]), 1)\n",
        "        return concat_output, attn_weights.squeeze(0)\n",
        "    \n",
        "    def forward(self, input, hidden, cell, encoder_hiddens):\n",
        "        word_embedding = self.embedding(input).view(1, 1, -1)\n",
        "        word_embedding = self.dropout(word_embedding)\n",
        "        _, (hidden, cell) = self.lstm(word_embedding, (hidden, cell))\n",
        "        concat_output, attn_weights = self.cal_attention(hidden, encoder_hiddens)\n",
        "        output = F.log_softmax(self.out(concat_output), dim=1)\n",
        "        return output, hidden, cell, attn_weights\n",
        "    \n",
        "    def init_hidden(self):\n",
        "        return torch.zeros(1, 1, self.hidden_size)"
      ]
    },
    {
      "cell_type": "code",
      "execution_count": 80,
      "metadata": {},
      "outputs": [
        {
          "name": "stdout",
          "output_type": "stream",
          "text": [
            "Epoch [500/10000], Loss: 2.7294\n",
            "Epoch [1000/10000], Loss: 0.6433\n",
            "Epoch [1500/10000], Loss: 0.5802\n",
            "Epoch [2000/10000], Loss: 0.5593\n",
            "Epoch [2500/10000], Loss: 0.5519\n",
            "Epoch [3000/10000], Loss: 0.5375\n",
            "Epoch [3500/10000], Loss: 0.5188\n",
            "Epoch [4000/10000], Loss: 0.5109\n",
            "Epoch [4500/10000], Loss: 0.4930\n",
            "Epoch [5000/10000], Loss: 0.5056\n",
            "Epoch [5500/10000], Loss: 0.4777\n",
            "Epoch [6000/10000], Loss: 0.4721\n",
            "Epoch [6500/10000], Loss: 0.4802\n",
            "Epoch [7000/10000], Loss: 0.4754\n",
            "Epoch [7500/10000], Loss: 0.4928\n",
            "Epoch [8000/10000], Loss: 0.4834\n",
            "Epoch [8500/10000], Loss: 0.4732\n",
            "Epoch [9000/10000], Loss: 0.4885\n",
            "Epoch [9500/10000], Loss: 0.4741\n",
            "Epoch [10000/10000], Loss: 0.4847\n"
          ]
        }
      ],
      "source": [
        "# Set the seed for reproducibility\n",
        "seed = 4012\n",
        "torch.manual_seed(seed)\n",
        "torch.cuda.manual_seed(seed)\n",
        "np.random.seed(seed)\n",
        "random.seed(seed)\n",
        "\n",
        "num_epochs = 10000\n",
        "display_interval = 500\n",
        "learning_rate = 0.01\n",
        "hidden_size = 50\n",
        "attention_type = 'dot_product' # 'dot_product', 'scaled_dot_product', 'cosine_similarity'\n",
        "embedding = nn.Embedding.from_pretrained(glove_weights)\n",
        "# embedding = nn.Embedding(vocab_size, hidden_size)\n",
        "\n",
        "encoder1 = LSTMEncoder1(hidden_size, embedding, num_layers=1)\n",
        "decoder1 = LSTMDecoder1(hidden_size, vocab_size, embedding, dropout_p=0.1, num_layers=1, attention=attention_type)\n",
        "\n",
        "encoder_optimizer = optim.SGD(encoder1.parameters(), lr=learning_rate)\n",
        "decoder_optimizer = optim.SGD(decoder1.parameters(), lr=learning_rate)\n",
        "criterion = nn.NLLLoss()\n",
        "plot_losses = []\n",
        "plot_avg_losses = []\n",
        "total_loss = 0\n",
        "\n",
        "for epoch in range(1, num_epochs+1):\n",
        "    random_idx = random.choice(range(len(train_data)))\n",
        "    x_index = [[idx] for idx in train_x_idx[random_idx]]\n",
        "    y_index = [[idx] for idx in target_y_idx[random_idx]]\n",
        "    a_index = train_a_idx[random_idx]\n",
        "    \n",
        "    x_tensor = torch.LongTensor(x_index)\n",
        "    y_tensor = torch.LongTensor(y_index)\n",
        "    a_tensor = torch.LongTensor([a_index])\n",
        "    x_length = x_tensor.size(0)\n",
        "    y_length = y_tensor.size(0)\n",
        "    \n",
        "    loss = 0\n",
        "    encoder_optimizer.zero_grad()\n",
        "    decoder_optimizer.zero_grad()\n",
        "    \n",
        "    # Feed the x_tensor (sentence) into the encoder\n",
        "    encoder_hiddens = torch.zeros(MAX_LENGTH, encoder1.hidden_size) # For attention mechanism\n",
        "    encoder_hidden = encoder1.init_hidden() # Hidden state for encoder\n",
        "    for i in range(x_length):\n",
        "        encoder_output, encoder_hidden, encoder_cell = encoder1(x_tensor[i], encoder_hidden, a_tensor)\n",
        "        encoder_hiddens[i] = encoder_hidden[0, 0]\n",
        "\n",
        "    decoder_input = torch.tensor([[word_to_idx[\"<BOS>\"]]]) \n",
        "    decoder_hidden = encoder_hidden\n",
        "    decoder_cell = encoder_cell\n",
        "\n",
        "    # Feed the y_tensor (polarity) into the decoder with teacher forcing\n",
        "    for i in range(y_length):\n",
        "        decoder_output, decoder_hidden, decoder_cell, _ = decoder1(decoder_input, decoder_hidden, decoder_cell, encoder_hiddens)\n",
        "        loss += criterion(decoder_output, y_tensor[i])\n",
        "        decoder_input = y_tensor[i]\n",
        "\n",
        "    # Backpropagation\n",
        "    loss.backward()\n",
        "    encoder_optimizer.step()\n",
        "    decoder_optimizer.step()\n",
        "    \n",
        "    loss = loss.item() / y_length\n",
        "    total_loss += loss\n",
        "    plot_losses.append(loss)\n",
        "    \n",
        "    if (epoch+1) % display_interval == 0:\n",
        "        avg_loss = total_loss / display_interval\n",
        "        plot_avg_losses.append(avg_loss)\n",
        "        total_loss = 0\n",
        "        print(f'Epoch [{epoch+1}/{num_epochs}], Loss: {avg_loss:.4f}')"
      ]
    },
    {
      "cell_type": "code",
      "execution_count": 81,
      "metadata": {},
      "outputs": [
        {
          "data": {
            "image/png": "[encoded data removed]",
            "text/plain": [
              "<Figure size 640x480 with 1 Axes>"
            ]
          },
          "metadata": {},
          "output_type": "display_data"
        },
        {
          "data": {
            "image/png": "[encoded data removed]",
            "text/plain": [
              "<Figure size 640x480 with 1 Axes>"
            ]
          },
          "metadata": {},
          "output_type": "display_data"
        }
      ],
      "source": [
        "# Save the model\n",
        "torch.save(encoder1, 'Model1/encoder1.pt')\n",
        "torch.save(decoder1, 'Model1/decoder1.pt')\n",
        "\n",
        "# Plot loss over number of epochs\n",
        "plt.plot(range(1, num_epochs+1), plot_losses)\n",
        "plt.xlabel('Epochs')\n",
        "plt.ylabel('Loss')\n",
        "plt.title('Loss over number of epochs')\n",
        "plt.show()\n",
        "\n",
        "plt.plot(range(1, num_epochs+1, display_interval), plot_avg_losses)\n",
        "plt.xlabel('Epochs')\n",
        "plt.ylabel('Loss')\n",
        "plt.title('Loss over number of epochs')\n",
        "plt.show()"
      ]
    },
    {
      "cell_type": "markdown",
      "metadata": {},
      "source": [
        "## Model 2 (Aspect Embedding + Attention Mechanism)"
      ]
    },
    {
      "cell_type": "code",
      "execution_count": 102,
      "metadata": {},
      "outputs": [],
      "source": [
        "# Encoder\n",
        "class LSTMEncoder2(nn.Module):\n",
        "    def __init__(self, hidden_size, embedding, num_layers=1):\n",
        "        super(LSTMEncoder2, self).__init__()\n",
        "        self.hidden_size = hidden_size\n",
        "        self.embedding = embedding\n",
        "        self.lstm = nn.LSTM(hidden_size, hidden_size, num_layers=num_layers)\n",
        "        \n",
        "    def forward(self, input, hidden):\n",
        "        word_embedding = self.embedding(input).view(1, 1, -1)\n",
        "        output, (hidden, cell) = self.lstm(word_embedding)\n",
        "        return output, hidden, cell\n",
        "    \n",
        "    def init_hidden(self):\n",
        "        return torch.zeros(1, 1, self.hidden_size)\n",
        "\n",
        "# Decoder\n",
        "class LSTMDecoder2(nn.Module):\n",
        "    def __init__(self, hidden_size, output_size, embedding, dropout_p=0.1, num_layers=1, attention='dot_product'):\n",
        "        super(LSTMDecoder2, self).__init__()\n",
        "        self.attention_type = attention\n",
        "        self.hidden_size = hidden_size\n",
        "        self.output_size = output_size\n",
        "        self.dropout_p = dropout_p\n",
        "        self.embedding = embedding\n",
        "        self.dropout = nn.Dropout(self.dropout_p)\n",
        "        self.lstm = nn.LSTM(hidden_size*2, hidden_size, num_layers=num_layers)\n",
        "        self.out = nn.Linear(hidden_size*2, output_size)\n",
        "    \n",
        "    def cal_attention(self, hidden, encoder_hiddens):\n",
        "        keys = encoder_hiddens.T.unsqueeze(0).repeat(2, 1, 1)\n",
        "        if self.attention_type == 'dot_product':            # Dot product attention\n",
        "            attn_weights = F.softmax(torch.bmm(hidden, keys), dim=-1)\n",
        "        elif self.attention_type == 'scaled_dot_product':   # Scaled dot product attention\n",
        "            scale = 1.0 / np.sqrt(self.hidden_size)\n",
        "            attn_weights = F.softmax(torch.bmm(hidden, keys) * scale, dim=-1)\n",
        "        attn_output = torch.bmm(attn_weights, encoder_hiddens.unsqueeze(0).repeat(2, 1, 1))\n",
        "        concat_output = torch.cat((attn_output[0], hidden[0]), 1)\n",
        "        return concat_output\n",
        "    \n",
        "    def forward(self, input, hidden, cell, encoder_hiddens, aspect):\n",
        "        word_embedding = self.embedding(input).view(1, 1, -1)\n",
        "        word_embedding = self.dropout(word_embedding)\n",
        "        aspect_embedding = self.embedding(aspect).view(1, 1, -1)\n",
        "        embedded = torch.cat((word_embedding, aspect_embedding), dim=-1)\n",
        "        out, (hidden, cell) = self.lstm(embedded, (hidden, cell))\n",
        "        hidden_aspect = torch.cat((out, aspect_embedding), dim=0)\n",
        "        concat_output = self.cal_attention(hidden_aspect, encoder_hiddens)\n",
        "        output = F.log_softmax(self.out(concat_output), dim=1)\n",
        "        return output, hidden, cell\n",
        "    \n",
        "    def init_hidden(self):\n",
        "        return torch.zeros(1, 1, self.hidden_size)"
      ]
    },
    {
      "cell_type": "code",
      "execution_count": 103,
      "metadata": {},
      "outputs": [
        {
          "ename": "SyntaxError",
          "evalue": "'break' outside loop (501244605.py, line 24)",
          "output_type": "error",
          "traceback": [
            "\u001b[1;36m  Cell \u001b[1;32mIn[103], line 24\u001b[1;36m\u001b[0m\n\u001b[1;33m    break\u001b[0m\n\u001b[1;37m    ^\u001b[0m\n\u001b[1;31mSyntaxError\u001b[0m\u001b[1;31m:\u001b[0m 'break' outside loop\n"
          ]
        }
      ],
      "source": [
        "# Set the seed for reproducibility\n",
        "seed = 4012\n",
        "torch.manual_seed(seed)\n",
        "torch.cuda.manual_seed(seed)\n",
        "np.random.seed(seed)\n",
        "random.seed(seed)\n",
        "\n",
        "num_epochs = 10000\n",
        "display_interval = 500\n",
        "learning_rate = 0.01\n",
        "hidden_size = 50\n",
        "attention_type = 'dot_product' # 'dot_product', 'scaled_dot_product', 'cosine_similarity'\n",
        "embedding = nn.Embedding(vocab_size, hidden_size)\n",
        "\n",
        "encoder2 = LSTMEncoder2(hidden_size, embedding, num_layers=1)\n",
        "decoder2 = LSTMDecoder2(hidden_size, vocab_size, embedding, dropout_p=0.1, num_layers=1, attention=attention_type)\n",
        "\n",
        "encoder_optimizer = optim.SGD(encoder2.parameters(), lr=learning_rate)\n",
        "decoder_optimizer = optim.SGD(decoder2.parameters(), lr=learning_rate)\n",
        "criterion = nn.NLLLoss()\n",
        "plot_losses = []\n",
        "plot_avg_losses = []\n",
        "total_loss = 0 \n",
        "for epoch in range(1, num_epochs+1):\n",
        "    random_idx = random.choice(range(len(train_data)))\n",
        "    x_index = [[idx] for idx in train_x_idx[random_idx]]\n",
        "    y_index = [[idx] for idx in target_y_idx[random_idx]]\n",
        "    a_index = train_a_idx[random_idx]\n",
        "    \n",
        "    x_tensor = torch.LongTensor(x_index)\n",
        "    y_tensor = torch.LongTensor(y_index)\n",
        "    a_tensor = torch.LongTensor([a_index])\n",
        "    x_length = x_tensor.size(0)\n",
        "    y_length = y_tensor.size(0)\n",
        "    \n",
        "    loss = 0\n",
        "    encoder_optimizer.zero_grad()\n",
        "    decoder_optimizer.zero_grad()\n",
        "    \n",
        "    # Feed the x_tensor (sentence) into the encoder\n",
        "    encoder_hiddens = torch.zeros(MAX_LENGTH, encoder2.hidden_size) # For attention mechanism\n",
        "    encoder_hidden = encoder2.init_hidden() # Hidden state for encoder\n",
        "    for i in range(x_length):\n",
        "        encoder_output, encoder_hidden, encoder_cell = encoder2(x_tensor[i], encoder_hidden)\n",
        "        encoder_hiddens[i] = encoder_hidden[0, 0]\n",
        "\n",
        "    decoder_input = torch.tensor([[word_to_idx[\"<BOS>\"]]]) \n",
        "    decoder_hidden = encoder_hidden\n",
        "    decoder_cell = encoder_cell\n",
        "\n",
        "    # Feed the y_tensor (polarity) into the decoder with teacher forcing\n",
        "    for i in range(y_length):\n",
        "        decoder_output, decoder_hidden, decoder_cell = decoder2(decoder_input, decoder_hidden, decoder_cell, encoder_hiddens, a_tensor)\n",
        "        loss += criterion(decoder_output, y_tensor[i])\n",
        "        decoder_input = y_tensor[i]\n",
        "\n",
        "    # Backpropagation\n",
        "    loss.backward()\n",
        "    encoder_optimizer.step()\n",
        "    decoder_optimizer.step()\n",
        "    \n",
        "    loss = loss.item() / y_length\n",
        "    total_loss += loss\n",
        "    plot_losses.append(loss)\n",
        "    \n",
        "    \n",
        "    if (epoch+1) % display_interval == 0:\n",
        "        avg_loss = total_loss / display_interval\n",
        "        plot_avg_losses.append(avg_loss)\n",
        "        total_loss = 0\n",
        "        print(f'Epoch [{epoch+1}/{num_epochs}], Loss: {avg_loss:.4f}')"
      ]
    },
    {
      "cell_type": "code",
      "execution_count": null,
      "metadata": {},
      "outputs": [
        {
          "data": {
            "image/png": "[encoded data removed]",
            "text/plain": [
              "<Figure size 640x480 with 1 Axes>"
            ]
          },
          "metadata": {},
          "output_type": "display_data"
        },
        {
          "data": {
            "image/png": "[encoded data removed]",
            "text/plain": [
              "<Figure size 640x480 with 1 Axes>"
            ]
          },
          "metadata": {},
          "output_type": "display_data"
        }
      ],
      "source": [
        "# Save the model\n",
        "torch.save(encoder2, 'Model2/encoder2.pt')\n",
        "torch.save(decoder2, 'Model2/decoder2.pt')\n",
        "\n",
        "# Plot loss over number of epochs\n",
        "plt.plot(range(1, num_epochs+1), plot_losses)\n",
        "plt.xlabel('Epochs')\n",
        "plt.ylabel('Loss')\n",
        "plt.title('Loss over number of epochs')\n",
        "plt.show()\n",
        "\n",
        "plt.plot(range(1, num_epochs+1, display_interval), plot_avg_losses)\n",
        "plt.xlabel('Epochs')\n",
        "plt.ylabel('Loss')\n",
        "plt.title('Loss over number of epochs')\n",
        "plt.show()"
      ]
    },
    {
      "cell_type": "markdown",
      "metadata": {},
      "source": [
        "## Model 3 (Combined)"
      ]
    },
    {
      "cell_type": "code",
      "execution_count": null,
      "metadata": {},
      "outputs": [],
      "source": [
        "# Encoder\n",
        "class LSTMEncoder3(nn.Module):\n",
        "    def __init__(self, hidden_size, embedding, num_layers=1):\n",
        "        super(LSTMEncoder3, self).__init__()\n",
        "        self.hidden_size = hidden_size\n",
        "        self.embedding = embedding\n",
        "        self.lstm = nn.LSTM(hidden_size, hidden_size, num_layers=num_layers)\n",
        "        \n",
        "    def forward(self, input, hidden, aspect):\n",
        "        word_embedding = self.embedding(input).view(1, 1, -1)\n",
        "        aspect_embedding = self.embedding(aspect).view(1, 1, -1)\n",
        "        word_embedding = torch.cat((aspect_embedding, word_embedding), 0)\n",
        "        output, (hidden, cell) = self.lstm(word_embedding)\n",
        "        return output, hidden, cell\n",
        "    \n",
        "    def init_hidden(self):\n",
        "        return torch.zeros(1, 1, self.hidden_size)\n",
        "    \n",
        "# Decoder\n",
        "class LSTMDecoder3(nn.Module):\n",
        "    def __init__(self, hidden_size, output_size, embedding, dropout_p=0.1, num_layers=1, attention='dot_product'):\n",
        "        super(LSTMDecoder3, self).__init__()\n",
        "        self.attention_type = attention\n",
        "        self.hidden_size = hidden_size\n",
        "        self.output_size = output_size\n",
        "        self.dropout_p = dropout_p\n",
        "        self.embedding = embedding\n",
        "        self.dropout = nn.Dropout(self.dropout_p)\n",
        "        self.lstm = nn.LSTM(hidden_size*2, hidden_size, num_layers=num_layers)\n",
        "        self.out = nn.Linear(hidden_size*2, output_size)\n",
        "    \n",
        "    def cal_attention(self, hidden, encoder_hiddens):\n",
        "        keys = encoder_hiddens.T.unsqueeze(0).repeat(2, 1, 1)\n",
        "        if self.attention_type == 'dot_product':            # Dot product attention\n",
        "            attn_weights = F.softmax(torch.bmm(hidden, keys), dim=-1)\n",
        "        elif self.attention_type == 'scaled_dot_product':   # Scaled dot product attention\n",
        "            scale = 1.0 / np.sqrt(self.hidden_size)\n",
        "            attn_weights = F.softmax(torch.bmm(hidden, keys) * scale, dim=-1)\n",
        "        attn_output = torch.bmm(attn_weights, encoder_hiddens.unsqueeze(0).repeat(2, 1, 1))\n",
        "        concat_output = torch.cat((attn_output[0], hidden[0]), 1)\n",
        "        return concat_output\n",
        "    \n",
        "    def forward(self, input, hidden, cell, encoder_hiddens, aspect):\n",
        "        word_embedding = self.embedding(input).view(1, 1, -1)\n",
        "        word_embedding = self.dropout(word_embedding)\n",
        "        aspect_embedding = self.embedding(aspect).view(1, 1, -1)\n",
        "        embedded = torch.cat((word_embedding, aspect_embedding), dim=-1)\n",
        "        out, (hidden, cell) = self.lstm(embedded, (hidden, cell))\n",
        "        hidden_aspect = torch.cat((out, aspect_embedding), dim=0)\n",
        "        concat_output = self.cal_attention(hidden_aspect, encoder_hiddens)\n",
        "        output = F.log_softmax(self.out(concat_output), dim=1)\n",
        "        return output, hidden, cell\n",
        "    \n",
        "    def init_hidden(self):\n",
        "        return torch.zeros(1, 1, self.hidden_size)"
      ]
    },
    {
      "cell_type": "code",
      "execution_count": null,
      "metadata": {},
      "outputs": [
        {
          "name": "stdout",
          "output_type": "stream",
          "text": [
            "Epoch [500/10000], Loss: 2.9251\n",
            "Epoch [1000/10000], Loss: 0.5472\n",
            "Epoch [1500/10000], Loss: 0.4893\n",
            "Epoch [2000/10000], Loss: 0.4959\n",
            "Epoch [2500/10000], Loss: 0.4961\n",
            "Epoch [3000/10000], Loss: 0.4923\n",
            "Epoch [3500/10000], Loss: 0.4778\n",
            "Epoch [4000/10000], Loss: 0.4997\n",
            "Epoch [4500/10000], Loss: 0.4639\n",
            "Epoch [5000/10000], Loss: 0.4733\n",
            "Epoch [5500/10000], Loss: 0.4514\n",
            "Epoch [6000/10000], Loss: 0.4362\n",
            "Epoch [6500/10000], Loss: 0.4570\n",
            "Epoch [7000/10000], Loss: 0.4474\n",
            "Epoch [7500/10000], Loss: 0.4724\n",
            "Epoch [8000/10000], Loss: 0.4669\n",
            "Epoch [8500/10000], Loss: 0.4487\n",
            "Epoch [9000/10000], Loss: 0.4528\n",
            "Epoch [9500/10000], Loss: 0.4482\n",
            "Epoch [10000/10000], Loss: 0.4711\n"
          ]
        }
      ],
      "source": [
        "# Set the seed for reproducibility\n",
        "seed = 4012\n",
        "torch.manual_seed(seed)\n",
        "torch.cuda.manual_seed(seed)\n",
        "np.random.seed(seed)\n",
        "random.seed(seed)\n",
        "\n",
        "num_epochs = 10000\n",
        "display_interval = 500\n",
        "learning_rate = 0.01\n",
        "hidden_size = 50\n",
        "attention_type = 'dot_product' # 'dot_product', 'scaled_dot_product', 'cosine_similarity'\n",
        "embedding = nn.Embedding(vocab_size, hidden_size)\n",
        "\n",
        "encoder3 = LSTMEncoder3(hidden_size, embedding, num_layers=1)\n",
        "decoder3 = LSTMDecoder3(hidden_size, vocab_size, embedding, dropout_p=0.1, num_layers=1, attention=attention_type)\n",
        "\n",
        "encoder_optimizer = optim.SGD(encoder3.parameters(), lr=learning_rate)\n",
        "decoder_optimizer = optim.SGD(decoder3.parameters(), lr=learning_rate)\n",
        "criterion = nn.NLLLoss()\n",
        "plot_losses = []\n",
        "plot_avg_losses = []\n",
        "total_loss = 0\n",
        "for epoch in range(1, num_epochs+1):\n",
        "    random_idx = random.choice(range(len(train_data)))\n",
        "    x_index = [[idx] for idx in train_x_idx[random_idx]]\n",
        "    y_index = [[idx] for idx in target_y_idx[random_idx]]\n",
        "    a_index = train_a_idx[random_idx]\n",
        "    \n",
        "    x_tensor = torch.LongTensor(x_index)\n",
        "    y_tensor = torch.LongTensor(y_index)\n",
        "    a_tensor = torch.LongTensor([a_index])\n",
        "    x_length = x_tensor.size(0)\n",
        "    y_length = y_tensor.size(0)\n",
        "    \n",
        "    loss = 0\n",
        "    encoder_optimizer.zero_grad()\n",
        "    decoder_optimizer.zero_grad()\n",
        "    \n",
        "    # Feed the x_tensor (sentence) into the encoder\n",
        "    encoder_hiddens = torch.zeros(MAX_LENGTH, encoder3.hidden_size) # For attention mechanism\n",
        "    encoder_hidden = encoder3.init_hidden() # Hidden state for encoder\n",
        "    for i in range(x_length):\n",
        "        encoder_output, encoder_hidden, encoder_cell = encoder3(x_tensor[i], encoder_hidden, a_tensor)\n",
        "        encoder_hiddens[i] = encoder_hidden[0, 0]\n",
        "\n",
        "    decoder_input = torch.tensor([[word_to_idx[\"<BOS>\"]]]) \n",
        "    decoder_hidden = encoder_hidden\n",
        "    decoder_cell = encoder_cell\n",
        "\n",
        "    # Feed the y_tensor (polarity) into the decoder with teacher forcing\n",
        "    for i in range(y_length):\n",
        "        decoder_output, decoder_hidden, decoder_cell = decoder3(decoder_input, decoder_hidden, decoder_cell, encoder_hiddens, a_tensor)\n",
        "        loss += criterion(decoder_output, y_tensor[i])\n",
        "        decoder_input = y_tensor[i]\n",
        "\n",
        "    # Backpropagation\n",
        "    loss.backward()\n",
        "    encoder_optimizer.step()\n",
        "    decoder_optimizer.step()\n",
        "    \n",
        "    loss = loss.item() / y_length\n",
        "    total_loss += loss\n",
        "    plot_losses.append(loss)\n",
        "    \n",
        "    if (epoch+1) % display_interval == 0:\n",
        "        avg_loss = total_loss / display_interval\n",
        "        plot_avg_losses.append(avg_loss)\n",
        "        total_loss = 0\n",
        "        print(f'Epoch [{epoch+1}/{num_epochs}], Loss: {avg_loss:.4f}')"
      ]
    },
    {
      "cell_type": "code",
      "execution_count": null,
      "metadata": {},
      "outputs": [
        {
          "data": {
            "image/png": "[encoded data removed]",
            "text/plain": [
              "<Figure size 640x480 with 1 Axes>"
            ]
          },
          "metadata": {},
          "output_type": "display_data"
        },
        {
          "data": {
            "image/png": "[encoded data removed]",
            "text/plain": [
              "<Figure size 640x480 with 1 Axes>"
            ]
          },
          "metadata": {},
          "output_type": "display_data"
        }
      ],
      "source": [
        "# Save the model\n",
        "torch.save(encoder3, 'Model3/encoder3.pt')\n",
        "torch.save(decoder3, 'Model3/decoder3.pt')\n",
        "\n",
        "# Plot loss over number of epochs\n",
        "plt.plot(range(1, num_epochs+1), plot_losses)\n",
        "plt.xlabel('Epochs')\n",
        "plt.ylabel('Loss')\n",
        "plt.title('Loss over number of epochs')\n",
        "plt.show()\n",
        "\n",
        "plt.plot(range(1, num_epochs+1, display_interval), plot_avg_losses)\n",
        "plt.xlabel('Epochs')\n",
        "plt.ylabel('Loss')\n",
        "plt.title('Loss over number of epochs')\n",
        "plt.show()"
      ]
    },
    {
      "cell_type": "markdown",
      "metadata": {
        "id": "LN2DiGh4MOse"
      },
      "source": [
        "# 3. Testing and Evaluation"
      ]
    },
    {
      "cell_type": "markdown",
      "metadata": {},
      "source": [
        "## Model 1"
      ]
    },
    {
      "cell_type": "code",
      "execution_count": 82,
      "metadata": {},
      "outputs": [],
      "source": [
        "# LSTM evaluate\n",
        "def LSTMevaluate1(encoder, decoder, sentence, aspect, max_length=MAX_LENGTH):\n",
        "    with torch.no_grad():\n",
        "        input = preprocess_data([sentence])[0]\n",
        "        input_idx = [word_to_idx[word] for word in input]\n",
        "        input_tensor = torch.LongTensor([[ind] for ind in input_idx])\n",
        "        \n",
        "        input_length = input_tensor.size(0)\n",
        "        encoder_hidden = encoder.init_hidden()\n",
        "        \n",
        "        asp_idx = word_to_idx[aspect]\n",
        "        asp_tensor = torch.LongTensor([[asp_idx]])\n",
        "\n",
        "        encoder_hiddens = torch.zeros(max_length, encoder.hidden_size)\n",
        "\n",
        "        for ei in range(input_length):\n",
        "            _, encoder_hidden, encoder_cell = encoder(input_tensor[ei], encoder_hidden, asp_tensor)\n",
        "            encoder_hiddens[ei] += encoder_hidden[0, 0]\n",
        "\n",
        "        decoder_input = torch.LongTensor([[word_to_idx[\"<BOS>\"]]]) \n",
        "        decoder_hidden = encoder_hidden\n",
        "        decoder_cell = encoder_cell\n",
        "        decoded_words = []\n",
        "\n",
        "        attention_weights = []\n",
        "        \n",
        "        for di in range(max_length):\n",
        "            decoder_output, decoder_hidden, decoder_cell, attn_weights = decoder(decoder_input, decoder_hidden, decoder_cell, encoder_hiddens)\n",
        "            attention_weights.append(attn_weights.squeeze().tolist())  # Append attention weights\n",
        "            topv, topi = decoder_output.data.topk(1)\n",
        "            if topi.item() == word_to_idx[\"<EOS>\"]:\n",
        "                decoded_words.append(\"<EOS>\")\n",
        "                break\n",
        "            else:\n",
        "                decoded_words.append(word_list[topi.item()])\n",
        "            decoder_input = topi.squeeze().detach()\n",
        "\n",
        "        return decoded_words, attention_weights"
      ]
    },
    {
      "cell_type": "code",
      "execution_count": 135,
      "metadata": {},
      "outputs": [
        {
          "name": "stdout",
          "output_type": "stream",
          "text": [
            "Requirement already satisfied: colorama in c:\\users\\peter\\miniconda3\\lib\\site-packages (0.4.6)\n"
          ]
        }
      ],
      "source": [
        "! pip install colorama"
      ]
    },
    {
      "cell_type": "code",
      "execution_count": 136,
      "metadata": {},
      "outputs": [],
      "source": [
        "from colorama import Fore, Style\n",
        "\n",
        "def print_highlighted_sentence(sentence, attention_weights):\n",
        "    input_tokens = sentence.split()\n",
        "    \n",
        "    # Normalize attention weights to range [0, 1]\n",
        "    max_weight = max(attention_weights)\n",
        "    normalized_weights = [weight / max_weight for weight in attention_weights]\n",
        "    \n",
        "    # Iterate over each token and print with color highlighting based on attention weight\n",
        "    for token, weight in zip(input_tokens, normalized_weights):\n",
        "        if weight > 0.5:  # Use green color for high attention weights\n",
        "            highlighted_text = f\"{Fore.GREEN}{token}{Style.RESET_ALL}\"\n",
        "        elif weight < 0.5:  # Use red color for low attention weights\n",
        "            highlighted_text = f\"{Fore.RED}{token}{Style.RESET_ALL}\"\n",
        "        else:  # Use default color for neutral attention weights\n",
        "            highlighted_text = token\n",
        "        \n",
        "        print(highlighted_text, end=\" \")  # Print the highlighted word with space"
      ]
    },
    {
      "cell_type": "code",
      "execution_count": 145,
      "metadata": {},
      "outputs": [
        {
          "name": "stdout",
          "output_type": "stream",
          "text": [
            "Predicted polarity: neutral, Actual polarity: neutral\n",
            "[0.011694168671965599, 0.03998936340212822, 0.29529672861099243, 0.03157969191670418, 0.08769087493419647, 0.08551080524921417, 0.01406841166317463, 0.016208218410611153, 0.01205373089760542, 0.038646988570690155, 0.02251391112804413, 0.02192271500825882, 0.08769087493419647, 0.038646988570690155, 0.012216734699904919, 0.033687058836221695, 0.06530740112066269, 0.03526315465569496, 0.006314167287200689, 0.0020808554254472256, 0.0020808554254472256, 0.0020808554254472256, 0.0020808554254472256, 0.0020808554254472256, 0.0020808554254472256, 0.0020808554254472256, 0.0020808554254472256, 0.0020808554254472256, 0.0020808554254472256, 0.0020808554254472256, 0.0020808554254472256, 0.0020808554254472256, 0.0020808554254472256, 0.0020808554254472256, 0.0020808554254472256, 0.0020808554254472256, 0.0020808554254472256, 0.0020808554254472256, 0.0020808554254472256, 0.0020808554254472256] \n",
            "\n",
            "\u001b[31mWe\u001b[0m \u001b[31mwent\u001b[0m \u001b[32magain\u001b[0m \u001b[31mand\u001b[0m \u001b[31msat\u001b[0m \u001b[31mat\u001b[0m \u001b[31mthe\u001b[0m \u001b[31mbar\u001b[0m \u001b[31mthis\u001b[0m \u001b[31mtime,\u001b[0m \u001b[31mI\u001b[0m \u001b[31mhad\u001b[0m \u001b[31m5\u001b[0m \u001b[31mpints\u001b[0m \u001b[31mof\u001b[0m \u001b[31mguinness\u001b[0m \u001b[31mand\u001b[0m \u001b[31mnot\u001b[0m \u001b[31mone\u001b[0m \u001b[31mbuy-back,\u001b[0m \u001b[31mI\u001b[0m \u001b[31mordered\u001b[0m \u001b[31ma\u001b[0m \u001b[31mbasket\u001b[0m \u001b[31mof\u001b[0m \u001b[31monion\u001b[0m \u001b[31mrings\u001b[0m \u001b[31mand\u001b[0m \u001b[31mthere\u001b[0m \u001b[31mwere\u001b[0m \u001b[31mabout\u001b[0m \u001b[31m5\u001b[0m \u001b[31min\u001b[0m \u001b[31mthe\u001b[0m \u001b[31mbasket,\u001b[0m \u001b[31mthe\u001b[0m \u001b[31mrest\u001b[0m \u001b[31mwas\u001b[0m \u001b[31mfilled\u001b[0m \u001b[31mwith\u001b[0m \n",
            "Predicted polarity: neutral, Actual polarity: negative\n",
            "[0.009479997679591179, 0.03057287074625492, 0.30149129033088684, 0.02843303792178631, 0.10652291774749756, 0.0834561362862587, 0.010922487825155258, 0.018282873556017876, 0.01122872345149517, 0.040258754044771194, 0.01677585206925869, 0.017650455236434937, 0.10652291774749756, 0.040258754044771194, 0.012730559334158897, 0.03001641295850277, 0.08387473970651627, 0.02936052344739437, 0.005397440865635872, 0.000798250490333885, 0.000798250490333885, 0.000798250490333885, 0.000798250490333885, 0.000798250490333885, 0.000798250490333885, 0.000798250490333885, 0.000798250490333885, 0.000798250490333885, 0.000798250490333885, 0.000798250490333885, 0.000798250490333885, 0.000798250490333885, 0.000798250490333885, 0.000798250490333885, 0.000798250490333885, 0.000798250490333885, 0.000798250490333885, 0.000798250490333885, 0.000798250490333885, 0.000798250490333885] \n",
            "\n",
            "\u001b[31mWe\u001b[0m \u001b[31mwent\u001b[0m \u001b[32magain\u001b[0m \u001b[31mand\u001b[0m \u001b[31msat\u001b[0m \u001b[31mat\u001b[0m \u001b[31mthe\u001b[0m \u001b[31mbar\u001b[0m \u001b[31mthis\u001b[0m \u001b[31mtime,\u001b[0m \u001b[31mI\u001b[0m \u001b[31mhad\u001b[0m \u001b[31m5\u001b[0m \u001b[31mpints\u001b[0m \u001b[31mof\u001b[0m \u001b[31mguinness\u001b[0m \u001b[31mand\u001b[0m \u001b[31mnot\u001b[0m \u001b[31mone\u001b[0m \u001b[31mbuy-back,\u001b[0m \u001b[31mI\u001b[0m \u001b[31mordered\u001b[0m \u001b[31ma\u001b[0m \u001b[31mbasket\u001b[0m \u001b[31mof\u001b[0m \u001b[31monion\u001b[0m \u001b[31mrings\u001b[0m \u001b[31mand\u001b[0m \u001b[31mthere\u001b[0m \u001b[31mwere\u001b[0m \u001b[31mabout\u001b[0m \u001b[31m5\u001b[0m \u001b[31min\u001b[0m \u001b[31mthe\u001b[0m \u001b[31mbasket,\u001b[0m \u001b[31mthe\u001b[0m \u001b[31mrest\u001b[0m \u001b[31mwas\u001b[0m \u001b[31mfilled\u001b[0m \u001b[31mwith\u001b[0m \n",
            "Predicted polarity: positive, Actual polarity: positive\n",
            "[0.029689833521842957, 0.6945804357528687, 0.049348220229148865, 0.046593572944402695, 0.013872768729925156, 0.09002982825040817, 0.0022319257259368896, 0.0022319257259368896, 0.0022319257259368896, 0.0022319257259368896, 0.0022319257259368896, 0.0022319257259368896, 0.0022319257259368896, 0.0022319257259368896, 0.0022319257259368896, 0.0022319257259368896, 0.0022319257259368896, 0.0022319257259368896, 0.0022319257259368896, 0.0022319257259368896, 0.0022319257259368896, 0.0022319257259368896, 0.0022319257259368896, 0.0022319257259368896, 0.0022319257259368896, 0.0022319257259368896, 0.0022319257259368896, 0.0022319257259368896, 0.0022319257259368896, 0.0022319257259368896, 0.0022319257259368896, 0.0022319257259368896, 0.0022319257259368896, 0.0022319257259368896, 0.0022319257259368896, 0.0022319257259368896, 0.0022319257259368896, 0.0022319257259368896, 0.0022319257259368896, 0.0022319257259368896] \n",
            "\n",
            "\u001b[31mThe\u001b[0m \u001b[32mfood\u001b[0m \u001b[31mwas\u001b[0m \u001b[31mgood,\u001b[0m \u001b[31mbut\u001b[0m \u001b[31mit's\u001b[0m \u001b[31mnot\u001b[0m \u001b[31mworth\u001b[0m \u001b[31mthe\u001b[0m \u001b[31mwait--or\u001b[0m \u001b[31mthe\u001b[0m \u001b[31mlousy\u001b[0m \u001b[31mservice.\u001b[0m \n",
            "Predicted polarity: negative, Actual polarity: negative\n",
            "[0.03399435430765152, 0.44788819551467896, 0.11768701672554016, 0.06244060397148132, 0.014861143194139004, 0.159439355134964, 0.004814392887055874, 0.004814392887055874, 0.004814392887055874, 0.004814392887055874, 0.004814392887055874, 0.004814392887055874, 0.004814392887055874, 0.004814392887055874, 0.004814392887055874, 0.004814392887055874, 0.004814392887055874, 0.004814392887055874, 0.004814392887055874, 0.004814392887055874, 0.004814392887055874, 0.004814392887055874, 0.004814392887055874, 0.004814392887055874, 0.004814392887055874, 0.004814392887055874, 0.004814392887055874, 0.004814392887055874, 0.004814392887055874, 0.004814392887055874, 0.004814392887055874, 0.004814392887055874, 0.004814392887055874, 0.004814392887055874, 0.004814392887055874, 0.004814392887055874, 0.004814392887055874, 0.004814392887055874, 0.004814392887055874, 0.004814392887055874] \n",
            "\n",
            "\u001b[31mThe\u001b[0m \u001b[32mfood\u001b[0m \u001b[31mwas\u001b[0m \u001b[31mgood,\u001b[0m \u001b[31mbut\u001b[0m \u001b[31mit's\u001b[0m \u001b[31mnot\u001b[0m \u001b[31mworth\u001b[0m \u001b[31mthe\u001b[0m \u001b[31mwait--or\u001b[0m \u001b[31mthe\u001b[0m \u001b[31mlousy\u001b[0m \u001b[31mservice.\u001b[0m \n",
            "Predicted polarity: negative, Actual polarity: negative\n",
            "[0.08526509255170822, 0.12953390181064606, 0.06668435782194138, 0.0709313154220581, 0.044538408517837524, 0.1064237505197525, 0.014606565237045288, 0.014606565237045288, 0.014606565237045288, 0.014606565237045288, 0.014606565237045288, 0.014606565237045288, 0.014606565237045288, 0.014606565237045288, 0.014606565237045288, 0.014606565237045288, 0.014606565237045288, 0.014606565237045288, 0.014606565237045288, 0.014606565237045288, 0.014606565237045288, 0.014606565237045288, 0.014606565237045288, 0.014606565237045288, 0.014606565237045288, 0.014606565237045288, 0.014606565237045288, 0.014606565237045288, 0.014606565237045288, 0.014606565237045288, 0.014606565237045288, 0.014606565237045288, 0.014606565237045288, 0.014606565237045288, 0.014606565237045288, 0.014606565237045288, 0.014606565237045288, 0.014606565237045288, 0.014606565237045288, 0.014606565237045288] \n",
            "\n",
            "\u001b[32mWaiter\u001b[0m \u001b[32mtook\u001b[0m \u001b[32mour\u001b[0m \u001b[32mdrink\u001b[0m \u001b[31morder\u001b[0m \u001b[32mand\u001b[0m \u001b[31mthen\u001b[0m \u001b[31mwe\u001b[0m \u001b[31mdidn't\u001b[0m \u001b[31msee\u001b[0m \u001b[31mhim\u001b[0m \u001b[31mfor\u001b[0m \u001b[31m15\u001b[0m \u001b[31mminutes.\u001b[0m \n",
            "Predicted polarity: neutral, Actual polarity: neutral\n",
            "[0.21073386073112488, 0.17327068746089935, 0.14224952459335327, 0.08855924010276794, 0.07992281764745712, 0.15995515882968903, 0.004273782484233379, 0.004273782484233379, 0.004273782484233379, 0.004273782484233379, 0.004273782484233379, 0.004273782484233379, 0.004273782484233379, 0.004273782484233379, 0.004273782484233379, 0.004273782484233379, 0.004273782484233379, 0.004273782484233379, 0.004273782484233379, 0.004273782484233379, 0.004273782484233379, 0.004273782484233379, 0.004273782484233379, 0.004273782484233379, 0.004273782484233379, 0.004273782484233379, 0.004273782484233379, 0.004273782484233379, 0.004273782484233379, 0.004273782484233379, 0.004273782484233379, 0.004273782484233379, 0.004273782484233379, 0.004273782484233379, 0.004273782484233379, 0.004273782484233379, 0.004273782484233379, 0.004273782484233379, 0.004273782484233379, 0.004273782484233379] \n",
            "\n",
            "\u001b[32mWaiter\u001b[0m \u001b[32mtook\u001b[0m \u001b[32mour\u001b[0m \u001b[31mdrink\u001b[0m \u001b[31morder\u001b[0m \u001b[32mand\u001b[0m \u001b[31mthen\u001b[0m \u001b[31mwe\u001b[0m \u001b[31mdidn't\u001b[0m \u001b[31msee\u001b[0m \u001b[31mhim\u001b[0m \u001b[31mfor\u001b[0m \u001b[31m15\u001b[0m \u001b[31mminutes.\u001b[0m \n",
            "Predicted polarity: neutral, Actual polarity: negative\n",
            "[0.015579674392938614, 0.02764337696135044, 0.030803166329860687, 0.021279891952872276, 0.04809055104851723, 0.16317777335643768, 0.12487760931253433, 0.5172036290168762, 0.001604511751793325, 0.001604511751793325, 0.001604511751793325, 0.001604511751793325, 0.001604511751793325, 0.001604511751793325, 0.001604511751793325, 0.001604511751793325, 0.001604511751793325, 0.001604511751793325, 0.001604511751793325, 0.001604511751793325, 0.001604511751793325, 0.001604511751793325, 0.001604511751793325, 0.001604511751793325, 0.001604511751793325, 0.001604511751793325, 0.001604511751793325, 0.001604511751793325, 0.001604511751793325, 0.001604511751793325, 0.001604511751793325, 0.001604511751793325, 0.001604511751793325, 0.001604511751793325, 0.001604511751793325, 0.001604511751793325, 0.001604511751793325, 0.001604511751793325, 0.001604511751793325, 0.001604511751793325] \n",
            "\n",
            "\u001b[31mIt\u001b[0m \u001b[31mdoes\u001b[0m \u001b[31mget\u001b[0m \u001b[31mcrowded\u001b[0m \u001b[31mwith\u001b[0m \u001b[31mplenty\u001b[0m \u001b[31mof\u001b[0m \u001b[32mblue\u001b[0m \u001b[31mshirted\u001b[0m \u001b[31mcigar\u001b[0m \u001b[31msmoking\u001b[0m \u001b[31mwannabes,\u001b[0m \u001b[31mso\u001b[0m \u001b[31mmake\u001b[0m \u001b[31ma\u001b[0m \u001b[31mreservation.\u001b[0m \n",
            "Predicted polarity: neutral, Actual polarity: neutral\n",
            "[0.014732038602232933, 0.026929574087262154, 0.03962843120098114, 0.026394065469503403, 0.052572254091501236, 0.12952083349227905, 0.1114560067653656, 0.5665533542633057, 0.001006669015623629, 0.001006669015623629, 0.001006669015623629, 0.001006669015623629, 0.001006669015623629, 0.001006669015623629, 0.001006669015623629, 0.001006669015623629, 0.001006669015623629, 0.001006669015623629, 0.001006669015623629, 0.001006669015623629, 0.001006669015623629, 0.001006669015623629, 0.001006669015623629, 0.001006669015623629, 0.001006669015623629, 0.001006669015623629, 0.001006669015623629, 0.001006669015623629, 0.001006669015623629, 0.001006669015623629, 0.001006669015623629, 0.001006669015623629, 0.001006669015623629, 0.001006669015623629, 0.001006669015623629, 0.001006669015623629, 0.001006669015623629, 0.001006669015623629, 0.001006669015623629, 0.001006669015623629] \n",
            "\n",
            "\u001b[31mIt\u001b[0m \u001b[31mdoes\u001b[0m \u001b[31mget\u001b[0m \u001b[31mcrowded\u001b[0m \u001b[31mwith\u001b[0m \u001b[31mplenty\u001b[0m \u001b[31mof\u001b[0m \u001b[32mblue\u001b[0m \u001b[31mshirted\u001b[0m \u001b[31mcigar\u001b[0m \u001b[31msmoking\u001b[0m \u001b[31mwannabes,\u001b[0m \u001b[31mso\u001b[0m \u001b[31mmake\u001b[0m \u001b[31ma\u001b[0m \u001b[31mreservation.\u001b[0m \n",
            "Predicted polarity: neutral, Actual polarity: neutral\n",
            "[0.09815449267625809, 0.1472991555929184, 0.15837733447551727, 0.29702526330947876, 0.07797472923994064, 0.021693477407097816, 0.08744026720523834, 0.0033950102515518665, 0.0033950102515518665, 0.0033950102515518665, 0.0033950102515518665, 0.0033950102515518665, 0.0033950102515518665, 0.0033950102515518665, 0.0033950102515518665, 0.0033950102515518665, 0.0033950102515518665, 0.0033950102515518665, 0.0033950102515518665, 0.0033950102515518665, 0.0033950102515518665, 0.0033950102515518665, 0.0033950102515518665, 0.0033950102515518665, 0.0033950102515518665, 0.0033950102515518665, 0.0033950102515518665, 0.0033950102515518665, 0.0033950102515518665, 0.0033950102515518665, 0.0033950102515518665, 0.0033950102515518665, 0.0033950102515518665, 0.0033950102515518665, 0.0033950102515518665, 0.0033950102515518665, 0.0033950102515518665, 0.0033950102515518665, 0.0033950102515518665, 0.0033950102515518665] \n",
            "\n",
            "\u001b[31mAfter\u001b[0m \u001b[31mhearing\u001b[0m \u001b[32mall\u001b[0m \u001b[32mof\u001b[0m \u001b[31mthe\u001b[0m \u001b[31mspecials,\u001b[0m \u001b[31myou\u001b[0m \u001b[31mwould\u001b[0m \u001b[31mthink\u001b[0m \u001b[31mthey\u001b[0m \u001b[31mwere\u001b[0m \u001b[31mtwice\u001b[0m \u001b[31mas\u001b[0m \u001b[31mmuch\u001b[0m \u001b[31mas\u001b[0m \u001b[31mthe\u001b[0m \u001b[31mmenu\u001b[0m \u001b[31mprices\u001b[0m \u001b[31m(as\u001b[0m \u001b[31mother\u001b[0m \u001b[31mplaces\u001b[0m \u001b[31mdo).\u001b[0m \n",
            "Predicted polarity: neutral, Actual polarity: negative\n",
            "[0.08532356470823288, 0.1104314997792244, 0.09377346187829971, 0.3153611719608307, 0.08083688467741013, 0.018169580027461052, 0.06825966387987137, 0.006904373876750469, 0.006904373876750469, 0.006904373876750469, 0.006904373876750469, 0.006904373876750469, 0.006904373876750469, 0.006904373876750469, 0.006904373876750469, 0.006904373876750469, 0.006904373876750469, 0.006904373876750469, 0.006904373876750469, 0.006904373876750469, 0.006904373876750469, 0.006904373876750469, 0.006904373876750469, 0.006904373876750469, 0.006904373876750469, 0.006904373876750469, 0.006904373876750469, 0.006904373876750469, 0.006904373876750469, 0.006904373876750469, 0.006904373876750469, 0.006904373876750469, 0.006904373876750469, 0.006904373876750469, 0.006904373876750469, 0.006904373876750469, 0.006904373876750469, 0.006904373876750469, 0.006904373876750469, 0.006904373876750469] \n",
            "\n",
            "\u001b[31mAfter\u001b[0m \u001b[31mhearing\u001b[0m \u001b[31mall\u001b[0m \u001b[32mof\u001b[0m \u001b[31mthe\u001b[0m \u001b[31mspecials,\u001b[0m \u001b[31myou\u001b[0m \u001b[31mwould\u001b[0m \u001b[31mthink\u001b[0m \u001b[31mthey\u001b[0m \u001b[31mwere\u001b[0m \u001b[31mtwice\u001b[0m \u001b[31mas\u001b[0m \u001b[31mmuch\u001b[0m \u001b[31mas\u001b[0m \u001b[31mthe\u001b[0m \u001b[31mmenu\u001b[0m \u001b[31mprices\u001b[0m \u001b[31m(as\u001b[0m \u001b[31mother\u001b[0m \u001b[31mplaces\u001b[0m \u001b[31mdo).\u001b[0m \n"
          ]
        }
      ],
      "source": [
        "# Test the LSTM model using the test data\n",
        "for i in range(len(test_x[:10])):\n",
        "    polarity, attn_weights = LSTMevaluate1(encoder1, decoder1, test_x[i], test_a[i])\n",
        "    print(f\"Predicted polarity: {polarity[0]}, Actual polarity: {test_y[i]}\")\n",
        "    print(attn_weights[0],'\\n')\n",
        "    print_highlighted_sentence(test_x[i], attn_weights[0])\n",
        "    print()"
      ]
    },
    {
      "cell_type": "code",
      "execution_count": 84,
      "metadata": {},
      "outputs": [
        {
          "name": "stdout",
          "output_type": "stream",
          "text": [
            "Accuracy: 0.5716\n"
          ]
        }
      ],
      "source": [
        "# Measure accuracy of LSTM model on test set\n",
        "correct = 0\n",
        "for i in range(len(test_x)):\n",
        "    polarity, _ = LSTMevaluate1(encoder1, decoder1, test_x[i], test_a[i])\n",
        "    if polarity[0] == test_y[i]:\n",
        "        correct += 1\n",
        "accuracy = correct / len(test_x_token)\n",
        "print(f\"Accuracy: {accuracy:.4f}\")"
      ]
    },
    {
      "cell_type": "markdown",
      "metadata": {},
      "source": [
        "## Model 2"
      ]
    },
    {
      "cell_type": "code",
      "execution_count": null,
      "metadata": {},
      "outputs": [],
      "source": [
        "# LSTM evaluate\n",
        "def LSTMevaluate2(encoder, decoder, sentence, aspect, max_length=MAX_LENGTH):\n",
        "    with torch.no_grad():\n",
        "        input = preprocess_data([sentence])[0]\n",
        "        input_idx = [word_to_idx[word] for word in input]\n",
        "        input_tensor = torch.LongTensor([[ind] for ind in input_idx])\n",
        "        \n",
        "        input_length = input_tensor.size(0)\n",
        "        encoder_hidden = encoder.init_hidden()\n",
        "        \n",
        "        asp_idx = word_to_idx[aspect]\n",
        "        asp_tensor = torch.LongTensor([[asp_idx]])\n",
        "\n",
        "        encoder_hiddens = torch.zeros(max_length, encoder.hidden_size)\n",
        "\n",
        "        for ei in range(input_length):\n",
        "            _, encoder_hidden, encoder_cell = encoder(input_tensor[ei], encoder_hidden)\n",
        "            encoder_hiddens[ei] += encoder_hidden[0, 0]\n",
        "\n",
        "        decoder_input = torch.LongTensor([[word_to_idx[\"<BOS>\"]]]) \n",
        "        decoder_hidden = encoder_hidden\n",
        "        decoder_cell = encoder_cell\n",
        "        decoded_words = []\n",
        "        \n",
        "        for di in range(max_length):\n",
        "            decoder_output, decoder_hidden, decoder_cell = decoder(decoder_input, decoder_hidden, decoder_cell, encoder_hiddens, asp_tensor)\n",
        "            topv, topi = decoder_output.data.topk(1)\n",
        "            if topi.item() == word_to_idx[\"<EOS>\"]:\n",
        "                decoded_words.append(\"<EOS>\")\n",
        "                break\n",
        "            else:\n",
        "                decoded_words.append(word_list[topi.item()])\n",
        "            decoder_input = topi.squeeze().detach()\n",
        "\n",
        "        return decoded_words"
      ]
    },
    {
      "cell_type": "code",
      "execution_count": null,
      "metadata": {},
      "outputs": [
        {
          "name": "stdout",
          "output_type": "stream",
          "text": [
            "Predicted polarity: neutral, Actual polarity: neutral\n",
            "Predicted polarity: neutral, Actual polarity: negative\n",
            "Predicted polarity: positive, Actual polarity: positive\n",
            "Predicted polarity: negative, Actual polarity: negative\n",
            "Predicted polarity: negative, Actual polarity: negative\n",
            "Predicted polarity: neutral, Actual polarity: neutral\n",
            "Predicted polarity: neutral, Actual polarity: negative\n",
            "Predicted polarity: neutral, Actual polarity: neutral\n",
            "Predicted polarity: neutral, Actual polarity: neutral\n",
            "Predicted polarity: neutral, Actual polarity: negative\n"
          ]
        }
      ],
      "source": [
        "# Test the LSTM model using the test data\n",
        "for i in range(len(test_x[:10])):\n",
        "    polarity = LSTMevaluate2(encoder2, decoder2, test_x[i], test_a[i])[0]\n",
        "    print(f\"Predicted polarity: {polarity}, Actual polarity: {test_y[i]}\")"
      ]
    },
    {
      "cell_type": "code",
      "execution_count": null,
      "metadata": {},
      "outputs": [
        {
          "name": "stdout",
          "output_type": "stream",
          "text": [
            "Accuracy: 0.6104\n"
          ]
        }
      ],
      "source": [
        "# Measure accuracy of LSTM model on test set\n",
        "correct = 0\n",
        "for i in range(len(test_x)):\n",
        "    polarity = LSTMevaluate2(encoder2, decoder2, test_x[i], test_a[i])[0]\n",
        "    if polarity == test_y[i]:\n",
        "        correct += 1\n",
        "accuracy = correct / len(test_x_token)\n",
        "print(f\"Accuracy: {accuracy:.4f}\")"
      ]
    },
    {
      "cell_type": "markdown",
      "metadata": {},
      "source": [
        "## Model 3"
      ]
    },
    {
      "cell_type": "code",
      "execution_count": null,
      "metadata": {},
      "outputs": [],
      "source": [
        "# LSTM evaluate\n",
        "def LSTMevaluate3(encoder, decoder, sentence, aspect, max_length=MAX_LENGTH):\n",
        "    with torch.no_grad():\n",
        "        input = preprocess_data([sentence])[0]\n",
        "        input_idx = [word_to_idx[word] for word in input]\n",
        "        input_tensor = torch.LongTensor([[ind] for ind in input_idx])\n",
        "        \n",
        "        input_length = input_tensor.size(0)\n",
        "        encoder_hidden = encoder.init_hidden()\n",
        "        \n",
        "        asp_idx = word_to_idx[aspect]\n",
        "        asp_tensor = torch.LongTensor([[asp_idx]])\n",
        "\n",
        "        encoder_hiddens = torch.zeros(max_length, encoder.hidden_size)\n",
        "\n",
        "        for ei in range(input_length):\n",
        "            _, encoder_hidden, encoder_cell = encoder(input_tensor[ei], encoder_hidden, asp_tensor)\n",
        "            encoder_hiddens[ei] += encoder_hidden[0, 0]\n",
        "\n",
        "        decoder_input = torch.LongTensor([[word_to_idx[\"<BOS>\"]]]) \n",
        "        decoder_hidden = encoder_hidden\n",
        "        decoder_cell = encoder_cell\n",
        "        decoded_words = []\n",
        "        \n",
        "        for di in range(max_length):\n",
        "            decoder_output, decoder_hidden, decoder_cell = decoder(decoder_input, decoder_hidden, decoder_cell, encoder_hiddens, asp_tensor)\n",
        "            topv, topi = decoder_output.data.topk(1)\n",
        "            if topi.item() == word_to_idx[\"<EOS>\"]:\n",
        "                decoded_words.append(\"<EOS>\")\n",
        "                break\n",
        "            else:\n",
        "                decoded_words.append(word_list[topi.item()])\n",
        "            decoder_input = topi.squeeze().detach()\n",
        "\n",
        "        return decoded_words"
      ]
    },
    {
      "cell_type": "code",
      "execution_count": null,
      "metadata": {},
      "outputs": [
        {
          "name": "stdout",
          "output_type": "stream",
          "text": [
            "Predicted polarity: neutral, Actual polarity: neutral\n",
            "Predicted polarity: neutral, Actual polarity: negative\n",
            "Predicted polarity: positive, Actual polarity: positive\n",
            "Predicted polarity: negative, Actual polarity: negative\n",
            "Predicted polarity: negative, Actual polarity: negative\n",
            "Predicted polarity: neutral, Actual polarity: neutral\n",
            "Predicted polarity: neutral, Actual polarity: negative\n",
            "Predicted polarity: neutral, Actual polarity: neutral\n",
            "Predicted polarity: neutral, Actual polarity: neutral\n",
            "Predicted polarity: neutral, Actual polarity: negative\n"
          ]
        }
      ],
      "source": [
        "# Test the LSTM model using the test data\n",
        "for i in range(len(test_x[:10])):\n",
        "    polarity = LSTMevaluate3(encoder3, decoder3, test_x[i], test_a[i])[0]\n",
        "    print(f\"Predicted polarity: {polarity}, Actual polarity: {test_y[i]}\")"
      ]
    },
    {
      "cell_type": "code",
      "execution_count": null,
      "metadata": {},
      "outputs": [
        {
          "name": "stdout",
          "output_type": "stream",
          "text": [
            "Accuracy: 0.6049\n"
          ]
        }
      ],
      "source": [
        "# Measure accuracy of LSTM model on test set\n",
        "correct = 0\n",
        "for i in range(len(test_x)):\n",
        "    polarity = LSTMevaluate3(encoder3, decoder3, test_x[i], test_a[i])[0]\n",
        "    if polarity == test_y[i]:\n",
        "        correct += 1\n",
        "accuracy = correct / len(test_x_token)\n",
        "print(f\"Accuracy: {accuracy:.4f}\")"
      ]
    }
  ],
  "metadata": {
    "colab": {
      "provenance": []
    },
    "kernelspec": {
      "display_name": "cits5508-2024",
      "language": "python",
      "name": "python3"
    },
    "language_info": {
      "codemirror_mode": {
        "name": "ipython",
        "version": 3
      },
      "file_extension": ".py",
      "mimetype": "text/x-python",
      "name": "python",
      "nbconvert_exporter": "python",
      "pygments_lexer": "ipython3",
      "version": "3.12.2"
    }
  },
  "nbformat": 4,
  "nbformat_minor": 0
}
