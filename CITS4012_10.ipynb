{
  "cells": [
    {
      "cell_type": "markdown",
      "metadata": {
        "id": "tDcYnRfaMOsP"
      },
      "source": [
        "# 2024 CITS4012 Project"
      ]
    },
    {
      "cell_type": "markdown",
      "metadata": {
        "id": "UzE-7blTMOsS"
      },
      "source": [
        "# Readme\n",
        "\n",
        "notes for marker"
      ]
    },
    {
      "cell_type": "markdown",
      "metadata": {
        "id": "9JArpTqpMOsT"
      },
      "source": [
        "# 1. Dataset Processing"
      ]
    },
    {
      "cell_type": "markdown",
      "metadata": {
        "id": "15myqX_yMOsT"
      },
      "source": [
        "## Import the libraries"
      ]
    },
    {
      "cell_type": "code",
      "execution_count": 1,
      "metadata": {
        "id": "kyPoIBWWMOsU"
      },
      "outputs": [],
      "source": [
        "import re\n",
        "import json\n",
        "import nltk\n",
        "import torch\n",
        "import random\n",
        "import numpy as np\n",
        "import pandas as pd\n",
        "import torch.nn as nn\n",
        "import torch.optim as optim\n",
        "import torch.nn.functional as F\n",
        "import matplotlib.pyplot as plt"
      ]
    },
    {
      "cell_type": "markdown",
      "metadata": {
        "id": "FjBb3WWxMOsV"
      },
      "source": [
        "## Loading the datasets"
      ]
    },
    {
      "cell_type": "code",
      "execution_count": 356,
      "metadata": {
        "colab": {
          "base_uri": "https://localhost:8080/"
        },
        "id": "0JEMS1mAMWg_",
        "outputId": "0090c15d-27da-4152-c128-c780f8181e0d"
      },
      "outputs": [],
      "source": [
        "# # Mount Google Drive\n",
        "# from google.colab import drive\n",
        "# drive.mount('/content/drive')"
      ]
    },
    {
      "cell_type": "code",
      "execution_count": 45,
      "metadata": {
        "colab": {
          "base_uri": "https://localhost:8080/"
        },
        "id": "oXxsKZwoMOsW",
        "outputId": "276a3429-7b4b-4b87-95db-19ce4ce8789f"
      },
      "outputs": [],
      "source": [
        "# Load the training data\n",
        "# with open('/content/drive/MyDrive/data/train.json', 'r') as file:\n",
        "with open('train.json', 'r') as file:\n",
        "    data = json.load(file)\n",
        "    train_data = pd.DataFrame(data['data'], columns=data['columns'])\n",
        "\n",
        "# Load the test data\n",
        "# with open('/content/drive/MyDrive/data/test.json', 'r') as file:\n",
        "with open('test.json', 'r') as file:\n",
        "    data = json.load(file)\n",
        "    test_data = pd.DataFrame(data['data'], columns=data['columns'])\n",
        "\n",
        "# Load the validation data\n",
        "# with open('/content/drive/MyDrive/data/val.json', 'r') as file:\n",
        "with open('val.json', 'r') as file:\n",
        "    data = json.load(file)\n",
        "    val_data = pd.DataFrame(data['data'], columns=data['columns'])\n",
        "\n",
        "# Get the x and y lists for training data and test data\n",
        "training_x = train_data['sentence'].tolist() + val_data['sentence'].tolist()\n",
        "training_a = train_data['aspect'].tolist() + val_data['aspect'].tolist()\n",
        "training_y = train_data['polarity'].tolist() + val_data['polarity'].tolist()\n",
        "output_y = [[\"<BOS>\"] + [y] for y in training_y]\n",
        "target_y = [[y] + [\"<EOS>\"]for y in training_y]\n",
        "test_x = test_data['sentence'].tolist()\n",
        "test_a = test_data['aspect'].tolist()\n",
        "test_y = test_data['polarity'].tolist()"
      ]
    },
    {
      "cell_type": "markdown",
      "metadata": {},
      "source": [
        "## Dataset Analysis"
      ]
    },
    {
      "cell_type": "code",
      "execution_count": 46,
      "metadata": {},
      "outputs": [
        {
          "name": "stdout",
          "output_type": "stream",
          "text": [
            "Training data size : 7978\n",
            "Test data size     : 901\n",
            "\n",
            "Aspect Distribution:\n",
            "food             2307\n",
            "staff            1383\n",
            "miscellaneous     954\n",
            "place             694\n",
            "service           631\n",
            "menu              475\n",
            "ambience          324\n",
            "price             322\n",
            "\n",
            "Sentiment Distribution:\n",
            "neutral     3077\n",
            "negative    2084\n",
            "positive    1929\n",
            "\n",
            "Aspect-Sentiment Pair Distribution:\n",
            "(food, neutral)              1298\n",
            "(staff, negative)             922\n",
            "(food, positive)              754\n",
            "(miscellaneous, neutral)      531\n",
            "(place, neutral)              430\n",
            "(menu, neutral)               372\n",
            "(staff, positive)             332\n",
            "(service, negative)           329\n",
            "(food, negative)              255\n",
            "(miscellaneous, positive)     227\n",
            "(miscellaneous, negative)     196\n",
            "(ambience, positive)          181\n",
            "(service, positive)           174\n",
            "(place, negative)             139\n",
            "(price, neutral)              136\n",
            "(staff, neutral)              129\n",
            "(service, neutral)            128\n",
            "(place, positive)             125\n",
            "(price, negative)             114\n",
            "(ambience, negative)           90\n",
            "(price, positive)              72\n",
            "(menu, positive)               64\n",
            "(ambience, neutral)            53\n",
            "(menu, negative)               39\n"
          ]
        }
      ],
      "source": [
        "# Size of datasets\n",
        "print(\"Training data size :\", len(training_x))\n",
        "print(\"Test data size     :\", len(test_x))\n",
        "\n",
        "# Aspect Distribution\n",
        "aspect_distribution = train_data['aspect'].value_counts()\n",
        "print(\"\\nAspect Distribution:\")\n",
        "print(aspect_distribution.to_string(header=False))\n",
        "\n",
        "# Sentiment Distribution\n",
        "sentiment_distribution = train_data['polarity'].value_counts()\n",
        "print(\"\\nSentiment Distribution:\")\n",
        "print(sentiment_distribution.to_string(header=False))\n",
        "\n",
        "# Aspect-Sentiment Pair Distribution\n",
        "aspect_polarity_pair = [(a, p) for a, p in zip(train_data['aspect'], train_data['polarity'])]\n",
        "aspect_polarity_freq = pd.Series(aspect_polarity_pair).value_counts()\n",
        "print(\"\\nAspect-Sentiment Pair Distribution:\")\n",
        "print(aspect_polarity_freq.to_string(header=False))"
      ]
    },
    {
      "cell_type": "markdown",
      "metadata": {
        "id": "Ni3Js2GkMOsY"
      },
      "source": [
        "## Data Preprocessing"
      ]
    },
    {
      "cell_type": "code",
      "execution_count": 47,
      "metadata": {
        "colab": {
          "base_uri": "https://localhost:8080/"
        },
        "id": "sNpZV4StMOsY",
        "outputId": "4e021417-e91d-44b6-ee43-6c3160882a1f"
      },
      "outputs": [
        {
          "name": "stderr",
          "output_type": "stream",
          "text": [
            "[nltk_data] Downloading package punkt to\n",
            "[nltk_data]     C:\\Users\\allis\\AppData\\Roaming\\nltk_data...\n",
            "[nltk_data]   Package punkt is already up-to-date!\n",
            "[nltk_data] Downloading package stopwords to\n",
            "[nltk_data]     C:\\Users\\allis\\AppData\\Roaming\\nltk_data...\n",
            "[nltk_data]   Package stopwords is already up-to-date!\n",
            "[nltk_data] Downloading package wordnet to\n",
            "[nltk_data]     C:\\Users\\allis\\AppData\\Roaming\\nltk_data...\n",
            "[nltk_data]   Package wordnet is already up-to-date!\n"
          ]
        }
      ],
      "source": [
        "# Punctuation Removal\n",
        "def remove_punctuation_re(x):\n",
        "    x = re.sub(r'[^\\w\\s]','', x)\n",
        "    return x\n",
        "\n",
        "nltk.download('punkt')\n",
        "\n",
        "# Stopwords Removal\n",
        "nltk.download('stopwords')\n",
        "from nltk.corpus import stopwords as sw\n",
        "from nltk.tokenize import word_tokenize\n",
        "\n",
        "def remove_stopwords(x):\n",
        "    stopwords = sw.words('english')\n",
        "    x = [word for word in x if word.lower() not in stopwords]\n",
        "    return x\n",
        "\n",
        "# Stemming\n",
        "from nltk.stem import PorterStemmer\n",
        "stemmer = PorterStemmer()\n",
        "\n",
        "# Lemmatisation\n",
        "nltk.download('wordnet')\n",
        "from nltk.stem import WordNetLemmatizer\n",
        "\n",
        "def lemmatize(x):\n",
        "    lemmatizer = WordNetLemmatizer()\n",
        "    x = [lemmatizer.lemmatize(word) for word in x]\n",
        "    return x\n",
        "\n",
        "# English Contractions Dictionary\n",
        "contraction_dict = {\"ain't\": \"is not\", \"aren't\": \"are not\",\"can't\": \"cannot\", \"'cause\": \"because\", \"could've\": \"could have\",\n",
        "                    \"couldn't\": \"could not\", \"didn't\": \"did not\",  \"doesn't\": \"does not\", \"don't\": \"do not\", \"hadn't\": \"had not\",\n",
        "                    \"hasn't\": \"has not\", \"haven't\": \"have not\", \"he'd\": \"he would\",\"he'll\": \"he will\", \"he's\": \"he is\", \"how'd\": \"how did\",\n",
        "                    \"how'd'y\": \"how do you\", \"how'll\": \"how will\", \"how's\": \"how is\",  \"I'd\": \"I would\", \"I'd've\": \"I would have\",\n",
        "                    \"I'll\": \"I will\", \"I'll've\": \"I will have\",\"I'm\": \"I am\", \"I've\": \"I have\", \"i'd\": \"i would\", \"i'd've\": \"i would have\",\n",
        "                    \"i'll\": \"i will\",  \"i'll've\": \"i will have\",\"i'm\": \"i am\", \"i've\": \"i have\", \"isn't\": \"is not\", \"it'd\": \"it would\",\n",
        "                    \"it'd've\": \"it would have\", \"it'll\": \"it will\", \"it'll've\": \"it will have\",\"it's\": \"it is\", \"let's\": \"let us\",\n",
        "                    \"ma'am\": \"madam\", \"mayn't\": \"may not\", \"might've\": \"might have\",\"mightn't\": \"might not\",\"mightn't've\": \"might not have\",\n",
        "                    \"must've\": \"must have\", \"mustn't\": \"must not\", \"mustn't've\": \"must not have\", \"needn't\": \"need not\", \"needn't've\": \"need not have\",\n",
        "                    \"o'clock\": \"of the clock\", \"oughtn't\": \"ought not\", \"oughtn't've\": \"ought not have\", \"shan't\": \"shall not\", \"sha'n't\": \"shall not\",\n",
        "                    \"shan't've\": \"shall not have\", \"she'd\": \"she would\", \"she'd've\": \"she would have\", \"she'll\": \"she will\", \"she'll've\": \"she will have\",\n",
        "                    \"she's\": \"she is\", \"should've\": \"should have\", \"shouldn't\": \"should not\", \"shouldn't've\": \"should not have\", \"so've\": \"so have\",\n",
        "                    \"so's\": \"so as\", \"this's\": \"this is\",\"that'd\": \"that would\", \"that'd've\": \"that would have\", \"that's\": \"that is\", \"there'd\": \"there would\",\n",
        "                    \"there'd've\": \"there would have\", \"there's\": \"there is\", \"here's\": \"here is\",\"they'd\": \"they would\", \"they'd've\": \"they would have\",\n",
        "                    \"they'll\": \"they will\", \"they'll've\": \"they will have\", \"they're\": \"they are\", \"they've\": \"they have\", \"to've\": \"to have\", \"wasn't\": \"was not\",\n",
        "                    \"we'd\": \"we would\", \"we'd've\": \"we would have\", \"we'll\": \"we will\", \"we'll've\": \"we will have\", \"we're\": \"we are\", \"we've\": \"we have\",\n",
        "                    \"weren't\": \"were not\", \"what'll\": \"what will\", \"what'll've\": \"what will have\", \"what're\": \"what are\",  \"what's\": \"what is\", \"what've\": \"what have\",\n",
        "                    \"when's\": \"when is\", \"when've\": \"when have\", \"where'd\": \"where did\", \"where's\": \"where is\", \"where've\": \"where have\", \"who'll\": \"who will\",\n",
        "                    \"who'll've\": \"who will have\", \"who's\": \"who is\", \"who've\": \"who have\", \"why's\": \"why is\", \"why've\": \"why have\", \"will've\": \"will have\",\n",
        "                    \"won't\": \"will not\", \"won't've\": \"will not have\", \"would've\": \"would have\", \"wouldn't\": \"would not\", \"wouldn't've\": \"would not have\",\n",
        "                    \"y'all\": \"you all\", \"y'all'd\": \"you all would\",\"y'all'd've\": \"you all would have\",\"y'all're\": \"you all are\",\"y'all've\": \"you all have\",\n",
        "                    \"you'd\": \"you would\", \"you'd've\": \"you would have\", \"you'll\": \"you will\", \"you'll've\": \"you will have\", \"you're\": \"you are\", \"you've\": \"you have\"}\n"
      ]
    },
    {
      "cell_type": "code",
      "execution_count": 49,
      "metadata": {
        "id": "RtUZZzHbMOsa"
      },
      "outputs": [],
      "source": [
        "# Function to preprocess the data\n",
        "def preprocess_data(sentence_list):\n",
        "    output_list = []\n",
        "    for sentence in sentence_list:\n",
        "        sentence = sentence.lower()                     # Case folding\n",
        "        for word, new_word in contraction_dict.items(): # Deal with contractions\n",
        "            sentence = sentence.replace(word, new_word)\n",
        "        sentence = remove_punctuation_re(sentence)      # Remove punctuation\n",
        "        tokens = word_tokenize(sentence)                # Tokenise\n",
        "        # tokens = remove_stopwords(tokens)               # Remove stopwords\n",
        "        # tokens = lemmatize(tokens)                      # Lemmatisation\n",
        "        output_list.append(tokens)\n",
        "    return output_list\n",
        "\n",
        "# Preprocess the data and get the tokenised sentence lists\n",
        "train_x_token = preprocess_data(training_x)\n",
        "test_x_token = preprocess_data(test_x)"
      ]
    },
    {
      "cell_type": "code",
      "execution_count": 50,
      "metadata": {
        "id": "RHTFH4HHMOsa"
      },
      "outputs": [],
      "source": [
        "# Get longest sentence length\n",
        "longest_sentence = max(train_x_token, key=len)\n",
        "MAX_LENGTH = len(longest_sentence)\n",
        "\n",
        "# Word vocabulary to index dictionary {word: index}\n",
        "word_to_idx = {\"<BOS>\": 0, \"<EOS>\": 1}\n",
        "\n",
        "review = train_x_token + test_x_token\n",
        "aspect = [list(set(training_a))]\n",
        "polarity = [list(set(training_y))]\n",
        "\n",
        "# Vocabulary includes words from reviews, aspects and polarities\n",
        "for sentence in polarity+aspect+review:\n",
        "    for word in sentence:\n",
        "        if word not in word_to_idx:\n",
        "            word_to_idx[word] = len(word_to_idx)\n",
        "word_list = list(word_to_idx.keys())\n",
        "idx_to_word = {idx: word for word, idx in word_to_idx.items()}\n",
        "vocab_size = len(word_to_idx)"
      ]
    },
    {
      "cell_type": "code",
      "execution_count": 51,
      "metadata": {
        "id": "ExTMDoTmMOsb",
        "outputId": "f8cd6fb0-f18c-4b9a-d322-9a3e0be113c3"
      },
      "outputs": [],
      "source": [
        "def tokens_to_index(token_list, word_to_idx):\n",
        "    idx_list = []\n",
        "    for tokens in token_list:\n",
        "        idx_list.append([word_to_idx[token] for token in tokens])\n",
        "    return idx_list\n",
        "\n",
        "def aspects_to_index(aspect_list, word_to_idx):\n",
        "    idx_list = []\n",
        "    for aspect in aspect_list:\n",
        "        idx_list.append(word_to_idx[aspect])\n",
        "    return idx_list\n",
        "\n",
        "# Token index lists for training data\n",
        "train_x_idx = tokens_to_index(train_x_token, word_to_idx)\n",
        "train_a_idx = aspects_to_index(training_a, word_to_idx)\n",
        "output_y_idx = tokens_to_index(output_y, word_to_idx)\n",
        "target_y_idx = tokens_to_index(target_y, word_to_idx)"
      ]
    },
    {
      "cell_type": "markdown",
      "metadata": {
        "id": "QMAG9jAQMOsd"
      },
      "source": [
        "# 2. Model Implementation"
      ]
    },
    {
      "cell_type": "markdown",
      "metadata": {
        "id": "j51j5z2PMOsd"
      },
      "source": [
        "## Model 1 (Word Embedding + Aspect Embedding)"
      ]
    },
    {
      "cell_type": "code",
      "execution_count": 52,
      "metadata": {},
      "outputs": [],
      "source": [
        "# Encoder\n",
        "class LSTMEncoder1(nn.Module):\n",
        "    def __init__(self, hidden_size, embedding, num_layers=1):\n",
        "        super(LSTMEncoder1, self).__init__()\n",
        "        self.hidden_size = hidden_size\n",
        "        self.embedding = embedding\n",
        "        self.lstm = nn.LSTM(hidden_size, hidden_size, num_layers=num_layers)\n",
        "        \n",
        "    def forward(self, input, hidden, aspect):\n",
        "        word_embedding = self.embedding(input).view(1, 1, -1)\n",
        "        aspect_embedding = self.embedding(aspect).view(1, 1, -1)\n",
        "        word_embedding = torch.cat((aspect_embedding, word_embedding), 0)\n",
        "        output, (hidden, cell) = self.lstm(word_embedding)\n",
        "        return output, hidden, cell\n",
        "    \n",
        "    def init_hidden(self):\n",
        "        return torch.zeros(1, 1, self.hidden_size)\n",
        "\n",
        "# Decoder\n",
        "class LSTMDecoder1(nn.Module):\n",
        "    def __init__(self, hidden_size, output_size, embedding, dropout_p=0.1, num_layers=1, attention='dot_product'):\n",
        "        super(LSTMDecoder1, self).__init__()\n",
        "        self.attention_type = attention\n",
        "        self.hidden_size = hidden_size\n",
        "        self.output_size = output_size\n",
        "        self.dropout_p = dropout_p\n",
        "        self.embedding = embedding\n",
        "        self.dropout = nn.Dropout(self.dropout_p)\n",
        "        self.lstm = nn.LSTM(hidden_size, hidden_size, num_layers=num_layers)\n",
        "        self.out = nn.Linear(hidden_size*2, output_size)\n",
        "    \n",
        "    def cal_attention(self, hidden, encoder_hiddens):\n",
        "        if self.attention_type == 'dot_product':            # Dot product attention\n",
        "            attn_weights = F.softmax(torch.bmm(hidden, encoder_hiddens.T.unsqueeze(0)), dim=-1)\n",
        "        elif self.attention_type == 'scaled_dot_product':   # Scaled dot product attention\n",
        "            scale = 1.0 / np.sqrt(self.hidden_size)\n",
        "            attn_weights = F.softmax(torch.bmm(hidden, encoder_hiddens.T.unsqueeze(0)) * scale, dim=-1)\n",
        "        elif self.attention_type == 'cosine_similarity':\n",
        "            query = hidden / torch.norm(hidden, dim=-1)\n",
        "            keys = encoder_hiddens / torch.norm(encoder_hiddens.T, dim=-1)\n",
        "            norm_product = torch.bmm(query, keys.T.unsqueeze(0))\n",
        "            attn_weights = F.softmax(norm_product, dim=-1)\n",
        "\n",
        "        attn_output = torch.bmm(attn_weights, encoder_hiddens.unsqueeze(0))\n",
        "        concat_output = torch.cat((attn_output[0], hidden[0]), 1)\n",
        "        return concat_output\n",
        "    \n",
        "    def forward(self, input, hidden, cell, encoder_hiddens):\n",
        "        word_embedding = self.embedding(input).view(1, 1, -1)\n",
        "        word_embedding = self.dropout(word_embedding)\n",
        "        _, (hidden, cell) = self.lstm(word_embedding, (hidden, cell))\n",
        "        concat_output = self.cal_attention(hidden, encoder_hiddens)\n",
        "        output = F.log_softmax(self.out(concat_output), dim=1)\n",
        "        return output, hidden, cell\n",
        "    \n",
        "    def init_hidden(self):\n",
        "        return torch.zeros(1, 1, self.hidden_size)"
      ]
    },
    {
      "cell_type": "code",
      "execution_count": 15,
      "metadata": {},
      "outputs": [
        {
          "name": "stdout",
          "output_type": "stream",
          "text": [
            "Epoch [500/10000], Loss: 3.2659\n",
            "Epoch [1000/10000], Loss: 0.5797\n",
            "Epoch [1500/10000], Loss: 0.5494\n",
            "Epoch [2000/10000], Loss: 0.5290\n",
            "Epoch [2500/10000], Loss: 0.5165\n",
            "Epoch [3000/10000], Loss: 0.5101\n",
            "Epoch [3500/10000], Loss: 0.4989\n",
            "Epoch [4000/10000], Loss: 0.5099\n",
            "Epoch [4500/10000], Loss: 0.4868\n",
            "Epoch [5000/10000], Loss: 0.4954\n",
            "Epoch [5500/10000], Loss: 0.4584\n",
            "Epoch [6000/10000], Loss: 0.4715\n",
            "Epoch [6500/10000], Loss: 0.4748\n",
            "Epoch [7000/10000], Loss: 0.4601\n",
            "Epoch [7500/10000], Loss: 0.4801\n",
            "Epoch [8000/10000], Loss: 0.4790\n",
            "Epoch [8500/10000], Loss: 0.4729\n",
            "Epoch [9000/10000], Loss: 0.4826\n",
            "Epoch [9500/10000], Loss: 0.4757\n",
            "Epoch [10000/10000], Loss: 0.4785\n"
          ]
        }
      ],
      "source": [
        "# Set the seed for reproducibility\n",
        "seed = 4012\n",
        "torch.manual_seed(seed)\n",
        "torch.cuda.manual_seed(seed)\n",
        "np.random.seed(seed)\n",
        "random.seed(seed)\n",
        "\n",
        "num_epochs = 10000\n",
        "display_interval = 500\n",
        "learning_rate = 0.01\n",
        "hidden_size = 50\n",
        "attention_type = 'dot_product' # 'dot_product', 'scaled_dot_product', 'cosine_similarity'\n",
        "embedding = nn.Embedding(vocab_size, hidden_size)\n",
        "\n",
        "encoder1 = LSTMEncoder1(hidden_size, embedding, num_layers=1)\n",
        "decoder1 = LSTMDecoder1(hidden_size, vocab_size, embedding, dropout_p=0.1, num_layers=1, attention=attention_type)\n",
        "\n",
        "encoder_optimizer = optim.SGD(encoder1.parameters(), lr=learning_rate)\n",
        "decoder_optimizer = optim.SGD(decoder1.parameters(), lr=learning_rate)\n",
        "criterion = nn.NLLLoss()\n",
        "plot_losses = []\n",
        "plot_avg_losses = []\n",
        "total_loss = 0\n",
        "\n",
        "for epoch in range(1, num_epochs+1):\n",
        "    random_idx = random.choice(range(len(train_data)))\n",
        "    x_index = [[idx] for idx in train_x_idx[random_idx]]\n",
        "    y_index = [[idx] for idx in target_y_idx[random_idx]]\n",
        "    a_index = train_a_idx[random_idx]\n",
        "    \n",
        "    x_tensor = torch.LongTensor(x_index)\n",
        "    y_tensor = torch.LongTensor(y_index)\n",
        "    a_tensor = torch.LongTensor([a_index])\n",
        "    x_length = x_tensor.size(0)\n",
        "    y_length = y_tensor.size(0)\n",
        "    \n",
        "    loss = 0\n",
        "    encoder_optimizer.zero_grad()\n",
        "    decoder_optimizer.zero_grad()\n",
        "    \n",
        "    # Feed the x_tensor (sentence) into the encoder\n",
        "    encoder_hiddens = torch.zeros(MAX_LENGTH, encoder1.hidden_size) # For attention mechanism\n",
        "    encoder_hidden = encoder1.init_hidden() # Hidden state for encoder\n",
        "    for i in range(x_length):\n",
        "        encoder_output, encoder_hidden, encoder_cell = encoder1(x_tensor[i], encoder_hidden, a_tensor)\n",
        "        encoder_hiddens[i] = encoder_hidden[0, 0]\n",
        "\n",
        "    decoder_input = torch.tensor([[word_to_idx[\"<BOS>\"]]]) \n",
        "    decoder_hidden = encoder_hidden\n",
        "    decoder_cell = encoder_cell\n",
        "\n",
        "    # Feed the y_tensor (polarity) into the decoder with teacher forcing\n",
        "    for i in range(y_length):\n",
        "        decoder_output, decoder_hidden, decoder_cell = decoder1(decoder_input, decoder_hidden, decoder_cell, encoder_hiddens)\n",
        "        loss += criterion(decoder_output, y_tensor[i])\n",
        "        decoder_input = y_tensor[i]\n",
        "\n",
        "    # Backpropagation\n",
        "    loss.backward()\n",
        "    encoder_optimizer.step()\n",
        "    decoder_optimizer.step()\n",
        "    \n",
        "    loss = loss.item() / y_length\n",
        "    total_loss += loss\n",
        "    plot_losses.append(loss)\n",
        "    \n",
        "    if (epoch+1) % display_interval == 0:\n",
        "        avg_loss = total_loss / display_interval\n",
        "        plot_avg_losses.append(avg_loss)\n",
        "        total_loss = 0\n",
        "        print(f'Epoch [{epoch+1}/{num_epochs}], Loss: {avg_loss:.4f}')"
      ]
    },
    {
      "cell_type": "code",
      "execution_count": 18,
      "metadata": {},
      "outputs": [
        {
          "data": {
            "image/png": "[encoded data removed]",
            "text/plain": [
              "<Figure size 640x480 with 1 Axes>"
            ]
          },
          "metadata": {},
          "output_type": "display_data"
        },
        {
          "data": {
            "image/png": "[encoded data removed]",
            "text/plain": [
              "<Figure size 640x480 with 1 Axes>"
            ]
          },
          "metadata": {},
          "output_type": "display_data"
        }
      ],
      "source": [
        "# Save the model\n",
        "torch.save(encoder1, 'Model1/encoder1.pt')\n",
        "torch.save(decoder1, 'Model1/decoder1.pt')\n",
        "\n",
        "# Plot loss over number of epochs\n",
        "plt.plot(range(1, num_epochs+1), plot_losses)\n",
        "plt.xlabel('Epochs')\n",
        "plt.ylabel('Loss')\n",
        "plt.title('Loss over number of epochs')\n",
        "plt.show()\n",
        "\n",
        "plt.plot(range(1, num_epochs+1, display_interval), plot_avg_losses)\n",
        "plt.xlabel('Epochs')\n",
        "plt.ylabel('Loss')\n",
        "plt.title('Loss over number of epochs')\n",
        "plt.show()"
      ]
    },
    {
      "cell_type": "markdown",
      "metadata": {},
      "source": [
        "## Model 2 (Aspect Embedding + Attention Mechanism)"
      ]
    },
    {
      "cell_type": "code",
      "execution_count": 127,
      "metadata": {},
      "outputs": [],
      "source": [
        "# Encoder\n",
        "class LSTMEncoder2(nn.Module):\n",
        "    def __init__(self, hidden_size, embedding, num_layers=1):\n",
        "        super(LSTMEncoder2, self).__init__()\n",
        "        self.hidden_size = hidden_size\n",
        "        self.embedding = embedding\n",
        "        self.lstm = nn.LSTM(hidden_size, hidden_size, num_layers=num_layers)\n",
        "        \n",
        "    def forward(self, input, hidden):\n",
        "        word_embedding = self.embedding(input).view(1, 1, -1)\n",
        "        output, (hidden, cell) = self.lstm(word_embedding)\n",
        "        return output, hidden, cell\n",
        "    \n",
        "    def init_hidden(self):\n",
        "        return torch.zeros(1, 1, self.hidden_size)\n",
        "\n",
        "# Decoder\n",
        "class LSTMDecoder2(nn.Module):\n",
        "    def __init__(self, hidden_size, output_size, embedding, dropout_p=0.1, num_layers=1, attention='dot_product'):\n",
        "        super(LSTMDecoder2, self).__init__()\n",
        "        self.attention_type = attention\n",
        "        self.hidden_size = hidden_size\n",
        "        self.output_size = output_size\n",
        "        self.dropout_p = dropout_p\n",
        "        self.embedding = embedding\n",
        "        self.dropout = nn.Dropout(self.dropout_p)\n",
        "        self.lstm = nn.LSTM(hidden_size*2, hidden_size, num_layers=num_layers)\n",
        "        self.out = nn.Linear(hidden_size*2, output_size)\n",
        "    \n",
        "    def cal_attention(self, hidden, encoder_hiddens):\n",
        "        keys = encoder_hiddens.T.unsqueeze(0).repeat(2, 1, 1)\n",
        "        if self.attention_type == 'dot_product':            # Dot product attention\n",
        "            attn_weights = F.softmax(torch.bmm(hidden, keys), dim=-1)\n",
        "        elif self.attention_type == 'scaled_dot_product':   # Scaled dot product attention\n",
        "            scale = 1.0 / np.sqrt(self.hidden_size)\n",
        "            attn_weights = F.softmax(torch.bmm(hidden, keys) * scale, dim=-1)\n",
        "        attn_output = torch.bmm(attn_weights, encoder_hiddens.unsqueeze(0).repeat(2, 1, 1))\n",
        "        concat_output = torch.cat((attn_output[0], hidden[0]), 1)\n",
        "        return concat_output\n",
        "    \n",
        "    def forward(self, input, hidden, cell, encoder_hiddens, aspect):\n",
        "        word_embedding = self.embedding(input).view(1, 1, -1)\n",
        "        word_embedding = self.dropout(word_embedding)\n",
        "        aspect_embedding = self.embedding(aspect).view(1, 1, -1)\n",
        "        embedded = torch.cat((word_embedding, aspect_embedding), dim=-1)\n",
        "        out, (hidden, cell) = self.lstm(embedded, (hidden, cell))\n",
        "        hidden_aspect = torch.cat((out, aspect_embedding), dim=0)\n",
        "        concat_output = self.cal_attention(hidden_aspect, encoder_hiddens)\n",
        "        output = F.log_softmax(self.out(concat_output), dim=1)\n",
        "        return output, hidden, cell\n",
        "    \n",
        "    def init_hidden(self):\n",
        "        return torch.zeros(1, 1, self.hidden_size)"
      ]
    },
    {
      "cell_type": "code",
      "execution_count": 115,
      "metadata": {},
      "outputs": [
        {
          "name": "stdout",
          "output_type": "stream",
          "text": [
            "Epoch [500/10000], Loss: 3.2592\n",
            "Epoch [1000/10000], Loss: 0.5648\n",
            "Epoch [1500/10000], Loss: 0.4871\n",
            "Epoch [2000/10000], Loss: 0.4932\n",
            "Epoch [2500/10000], Loss: 0.5024\n",
            "Epoch [3000/10000], Loss: 0.4980\n",
            "Epoch [3500/10000], Loss: 0.4823\n",
            "Epoch [4000/10000], Loss: 0.4983\n",
            "Epoch [4500/10000], Loss: 0.4703\n",
            "Epoch [5000/10000], Loss: 0.4829\n",
            "Epoch [5500/10000], Loss: 0.4561\n",
            "Epoch [6000/10000], Loss: 0.4518\n",
            "Epoch [6500/10000], Loss: 0.4627\n",
            "Epoch [7000/10000], Loss: 0.4548\n",
            "Epoch [7500/10000], Loss: 0.4853\n",
            "Epoch [8000/10000], Loss: 0.4765\n",
            "Epoch [8500/10000], Loss: 0.4606\n",
            "Epoch [9000/10000], Loss: 0.4714\n",
            "Epoch [9500/10000], Loss: 0.4652\n",
            "Epoch [10000/10000], Loss: 0.4817\n"
          ]
        }
      ],
      "source": [
        "# Set the seed for reproducibility\n",
        "seed = 4012\n",
        "torch.manual_seed(seed)\n",
        "torch.cuda.manual_seed(seed)\n",
        "np.random.seed(seed)\n",
        "random.seed(seed)\n",
        "\n",
        "num_epochs = 10000\n",
        "display_interval = 500\n",
        "learning_rate = 0.01\n",
        "hidden_size = 50\n",
        "attention_type = 'dot_product' # 'dot_product', 'scaled_dot_product', 'cosine_similarity'\n",
        "embedding = nn.Embedding(vocab_size, hidden_size)\n",
        "\n",
        "encoder2 = LSTMEncoder2(hidden_size, embedding, num_layers=1)\n",
        "decoder2 = LSTMDecoder2(hidden_size, vocab_size, embedding, dropout_p=0.1, num_layers=1, attention=attention_type)\n",
        "\n",
        "encoder_optimizer = optim.SGD(encoder2.parameters(), lr=learning_rate)\n",
        "decoder_optimizer = optim.SGD(decoder2.parameters(), lr=learning_rate)\n",
        "criterion = nn.NLLLoss()\n",
        "plot_losses = []\n",
        "plot_avg_losses = []\n",
        "total_loss = 0\n",
        "\n",
        "for epoch in range(1, num_epochs+1):\n",
        "    random_idx = random.choice(range(len(train_data)))\n",
        "    x_index = [[idx] for idx in train_x_idx[random_idx]]\n",
        "    y_index = [[idx] for idx in target_y_idx[random_idx]]\n",
        "    a_index = train_a_idx[random_idx]\n",
        "    \n",
        "    x_tensor = torch.LongTensor(x_index)\n",
        "    y_tensor = torch.LongTensor(y_index)\n",
        "    a_tensor = torch.LongTensor([a_index])\n",
        "    x_length = x_tensor.size(0)\n",
        "    y_length = y_tensor.size(0)\n",
        "    \n",
        "    loss = 0\n",
        "    encoder_optimizer.zero_grad()\n",
        "    decoder_optimizer.zero_grad()\n",
        "    \n",
        "    # Feed the x_tensor (sentence) into the encoder\n",
        "    encoder_hiddens = torch.zeros(MAX_LENGTH, encoder2.hidden_size) # For attention mechanism\n",
        "    encoder_hidden = encoder2.init_hidden() # Hidden state for encoder\n",
        "    for i in range(x_length):\n",
        "        encoder_output, encoder_hidden, encoder_cell = encoder2(x_tensor[i], encoder_hidden)\n",
        "        encoder_hiddens[i] = encoder_hidden[0, 0]\n",
        "\n",
        "    decoder_input = torch.tensor([[word_to_idx[\"<BOS>\"]]]) \n",
        "    decoder_hidden = encoder_hidden\n",
        "    decoder_cell = encoder_cell\n",
        "\n",
        "    # Feed the y_tensor (polarity) into the decoder with teacher forcing\n",
        "    for i in range(y_length):\n",
        "        decoder_output, decoder_hidden, decoder_cell = decoder2(decoder_input, decoder_hidden, decoder_cell, encoder_hiddens, a_tensor)\n",
        "        loss += criterion(decoder_output, y_tensor[i])\n",
        "        decoder_input = y_tensor[i]\n",
        "\n",
        "    # Backpropagation\n",
        "    loss.backward()\n",
        "    encoder_optimizer.step()\n",
        "    decoder_optimizer.step()\n",
        "    \n",
        "    loss = loss.item() / y_length\n",
        "    total_loss += loss\n",
        "    plot_losses.append(loss)\n",
        "    \n",
        "    \n",
        "    if (epoch+1) % display_interval == 0:\n",
        "        avg_loss = total_loss / display_interval\n",
        "        plot_avg_losses.append(avg_loss)\n",
        "        total_loss = 0\n",
        "        print(f'Epoch [{epoch+1}/{num_epochs}], Loss: {avg_loss:.4f}')"
      ]
    },
    {
      "cell_type": "code",
      "execution_count": 116,
      "metadata": {},
      "outputs": [
        {
          "data": {
            "image/png": "[encoded data removed]",
            "text/plain": [
              "<Figure size 640x480 with 1 Axes>"
            ]
          },
          "metadata": {},
          "output_type": "display_data"
        },
        {
          "data": {
            "image/png": "[encoded data removed]",
            "text/plain": [
              "<Figure size 640x480 with 1 Axes>"
            ]
          },
          "metadata": {},
          "output_type": "display_data"
        }
      ],
      "source": [
        "# Save the model\n",
        "torch.save(encoder2, 'Model2/encoder2.pt')\n",
        "torch.save(decoder2, 'Model2/decoder2.pt')\n",
        "\n",
        "# Plot loss over number of epochs\n",
        "plt.plot(range(1, num_epochs+1), plot_losses)\n",
        "plt.xlabel('Epochs')\n",
        "plt.ylabel('Loss')\n",
        "plt.title('Loss over number of epochs')\n",
        "plt.show()\n",
        "\n",
        "plt.plot(range(1, num_epochs+1, display_interval), plot_avg_losses)\n",
        "plt.xlabel('Epochs')\n",
        "plt.ylabel('Loss')\n",
        "plt.title('Loss over number of epochs')\n",
        "plt.show()"
      ]
    },
    {
      "cell_type": "markdown",
      "metadata": {},
      "source": [
        "## Model 3 (Combined)"
      ]
    },
    {
      "cell_type": "code",
      "execution_count": 128,
      "metadata": {},
      "outputs": [],
      "source": [
        "# Encoder\n",
        "class LSTMEncoder3(nn.Module):\n",
        "    def __init__(self, hidden_size, embedding, num_layers=1):\n",
        "        super(LSTMEncoder3, self).__init__()\n",
        "        self.hidden_size = hidden_size\n",
        "        self.embedding = embedding\n",
        "        self.lstm = nn.LSTM(hidden_size, hidden_size, num_layers=num_layers)\n",
        "        \n",
        "    def forward(self, input, hidden, aspect):\n",
        "        word_embedding = self.embedding(input).view(1, 1, -1)\n",
        "        aspect_embedding = self.embedding(aspect).view(1, 1, -1)\n",
        "        word_embedding = torch.cat((aspect_embedding, word_embedding), 0)\n",
        "        output, (hidden, cell) = self.lstm(word_embedding)\n",
        "        return output, hidden, cell\n",
        "    \n",
        "    def init_hidden(self):\n",
        "        return torch.zeros(1, 1, self.hidden_size)\n",
        "    \n",
        "# Decoder\n",
        "class LSTMDecoder3(nn.Module):\n",
        "    def __init__(self, hidden_size, output_size, embedding, dropout_p=0.1, num_layers=1, attention='dot_product'):\n",
        "        super(LSTMDecoder3, self).__init__()\n",
        "        self.attention_type = attention\n",
        "        self.hidden_size = hidden_size\n",
        "        self.output_size = output_size\n",
        "        self.dropout_p = dropout_p\n",
        "        self.embedding = embedding\n",
        "        self.dropout = nn.Dropout(self.dropout_p)\n",
        "        self.lstm = nn.LSTM(hidden_size*2, hidden_size, num_layers=num_layers)\n",
        "        self.out = nn.Linear(hidden_size*2, output_size)\n",
        "    \n",
        "    def cal_attention(self, hidden, encoder_hiddens):\n",
        "        keys = encoder_hiddens.T.unsqueeze(0).repeat(2, 1, 1)\n",
        "        if self.attention_type == 'dot_product':            # Dot product attention\n",
        "            attn_weights = F.softmax(torch.bmm(hidden, keys), dim=-1)\n",
        "        elif self.attention_type == 'scaled_dot_product':   # Scaled dot product attention\n",
        "            scale = 1.0 / np.sqrt(self.hidden_size)\n",
        "            attn_weights = F.softmax(torch.bmm(hidden, keys) * scale, dim=-1)\n",
        "        attn_output = torch.bmm(attn_weights, encoder_hiddens.unsqueeze(0).repeat(2, 1, 1))\n",
        "        concat_output = torch.cat((attn_output[0], hidden[0]), 1)\n",
        "        return concat_output\n",
        "    \n",
        "    def forward(self, input, hidden, cell, encoder_hiddens, aspect):\n",
        "        word_embedding = self.embedding(input).view(1, 1, -1)\n",
        "        word_embedding = self.dropout(word_embedding)\n",
        "        aspect_embedding = self.embedding(aspect).view(1, 1, -1)\n",
        "        embedded = torch.cat((word_embedding, aspect_embedding), dim=-1)\n",
        "        out, (hidden, cell) = self.lstm(embedded, (hidden, cell))\n",
        "        hidden_aspect = torch.cat((out, aspect_embedding), dim=0)\n",
        "        concat_output = self.cal_attention(hidden_aspect, encoder_hiddens)\n",
        "        output = F.log_softmax(self.out(concat_output), dim=1)\n",
        "        return output, hidden, cell\n",
        "    \n",
        "    def init_hidden(self):\n",
        "        return torch.zeros(1, 1, self.hidden_size)"
      ]
    },
    {
      "cell_type": "code",
      "execution_count": 129,
      "metadata": {},
      "outputs": [
        {
          "name": "stdout",
          "output_type": "stream",
          "text": [
            "Epoch [500/10000], Loss: 3.1656\n",
            "Epoch [1000/10000], Loss: 0.5594\n",
            "Epoch [1500/10000], Loss: 0.4884\n",
            "Epoch [2000/10000], Loss: 0.4952\n",
            "Epoch [2500/10000], Loss: 0.5023\n",
            "Epoch [3000/10000], Loss: 0.4936\n",
            "Epoch [3500/10000], Loss: 0.4794\n",
            "Epoch [4000/10000], Loss: 0.4967\n",
            "Epoch [4500/10000], Loss: 0.4673\n",
            "Epoch [5000/10000], Loss: 0.4749\n",
            "Epoch [5500/10000], Loss: 0.4527\n",
            "Epoch [6000/10000], Loss: 0.4397\n",
            "Epoch [6500/10000], Loss: 0.4614\n",
            "Epoch [7000/10000], Loss: 0.4516\n",
            "Epoch [7500/10000], Loss: 0.4716\n",
            "Epoch [8000/10000], Loss: 0.4750\n",
            "Epoch [8500/10000], Loss: 0.4553\n",
            "Epoch [9000/10000], Loss: 0.4588\n",
            "Epoch [9500/10000], Loss: 0.4601\n",
            "Epoch [10000/10000], Loss: 0.4783\n"
          ]
        }
      ],
      "source": [
        "# Set the seed for reproducibility\n",
        "seed = 4012\n",
        "torch.manual_seed(seed)\n",
        "torch.cuda.manual_seed(seed)\n",
        "np.random.seed(seed)\n",
        "random.seed(seed)\n",
        "\n",
        "num_epochs = 10000\n",
        "display_interval = 500\n",
        "learning_rate = 0.01\n",
        "hidden_size = 50\n",
        "attention_type = 'dot_product' # 'dot_product', 'scaled_dot_product', 'cosine_similarity'\n",
        "embedding = nn.Embedding(vocab_size, hidden_size)\n",
        "\n",
        "encoder3 = LSTMEncoder3(hidden_size, embedding, num_layers=1)\n",
        "decoder3 = LSTMDecoder3(hidden_size, vocab_size, embedding, dropout_p=0.1, num_layers=1, attention=attention_type)\n",
        "\n",
        "encoder_optimizer = optim.SGD(encoder3.parameters(), lr=learning_rate)\n",
        "decoder_optimizer = optim.SGD(decoder3.parameters(), lr=learning_rate)\n",
        "criterion = nn.NLLLoss()\n",
        "plot_losses = []\n",
        "plot_avg_losses = []\n",
        "total_loss = 0\n",
        "\n",
        "for epoch in range(1, num_epochs+1):\n",
        "    random_idx = random.choice(range(len(train_data)))\n",
        "    x_index = [[idx] for idx in train_x_idx[random_idx]]\n",
        "    y_index = [[idx] for idx in target_y_idx[random_idx]]\n",
        "    a_index = train_a_idx[random_idx]\n",
        "    \n",
        "    x_tensor = torch.LongTensor(x_index)\n",
        "    y_tensor = torch.LongTensor(y_index)\n",
        "    a_tensor = torch.LongTensor([a_index])\n",
        "    x_length = x_tensor.size(0)\n",
        "    y_length = y_tensor.size(0)\n",
        "    \n",
        "    loss = 0\n",
        "    encoder_optimizer.zero_grad()\n",
        "    decoder_optimizer.zero_grad()\n",
        "    \n",
        "    # Feed the x_tensor (sentence) into the encoder\n",
        "    encoder_hiddens = torch.zeros(MAX_LENGTH, encoder3.hidden_size) # For attention mechanism\n",
        "    encoder_hidden = encoder3.init_hidden() # Hidden state for encoder\n",
        "    for i in range(x_length):\n",
        "        encoder_output, encoder_hidden, encoder_cell = encoder3(x_tensor[i], encoder_hidden, a_tensor)\n",
        "        encoder_hiddens[i] = encoder_hidden[0, 0]\n",
        "\n",
        "    decoder_input = torch.tensor([[word_to_idx[\"<BOS>\"]]]) \n",
        "    decoder_hidden = encoder_hidden\n",
        "    decoder_cell = encoder_cell\n",
        "\n",
        "    # Feed the y_tensor (polarity) into the decoder with teacher forcing\n",
        "    for i in range(y_length):\n",
        "        decoder_output, decoder_hidden, decoder_cell = decoder3(decoder_input, decoder_hidden, decoder_cell, encoder_hiddens, a_tensor)\n",
        "        loss += criterion(decoder_output, y_tensor[i])\n",
        "        decoder_input = y_tensor[i]\n",
        "\n",
        "    # Backpropagation\n",
        "    loss.backward()\n",
        "    encoder_optimizer.step()\n",
        "    decoder_optimizer.step()\n",
        "    \n",
        "    loss = loss.item() / y_length\n",
        "    total_loss += loss\n",
        "    plot_losses.append(loss)\n",
        "    \n",
        "    if (epoch+1) % display_interval == 0:\n",
        "        avg_loss = total_loss / display_interval\n",
        "        plot_avg_losses.append(avg_loss)\n",
        "        total_loss = 0\n",
        "        print(f'Epoch [{epoch+1}/{num_epochs}], Loss: {avg_loss:.4f}')"
      ]
    },
    {
      "cell_type": "code",
      "execution_count": 130,
      "metadata": {},
      "outputs": [
        {
          "data": {
            "image/png": "[encoded data removed]",
            "text/plain": [
              "<Figure size 640x480 with 1 Axes>"
            ]
          },
          "metadata": {},
          "output_type": "display_data"
        },
        {
          "data": {
            "image/png": "[encoded data removed]",
            "text/plain": [
              "<Figure size 640x480 with 1 Axes>"
            ]
          },
          "metadata": {},
          "output_type": "display_data"
        }
      ],
      "source": [
        "# Save the model\n",
        "torch.save(encoder3, 'Model3/encoder3.pt')\n",
        "torch.save(decoder3, 'Model3/decoder3.pt')\n",
        "\n",
        "# Plot loss over number of epochs\n",
        "plt.plot(range(1, num_epochs+1), plot_losses)\n",
        "plt.xlabel('Epochs')\n",
        "plt.ylabel('Loss')\n",
        "plt.title('Loss over number of epochs')\n",
        "plt.show()\n",
        "\n",
        "plt.plot(range(1, num_epochs+1, display_interval), plot_avg_losses)\n",
        "plt.xlabel('Epochs')\n",
        "plt.ylabel('Loss')\n",
        "plt.title('Loss over number of epochs')\n",
        "plt.show()"
      ]
    },
    {
      "cell_type": "markdown",
      "metadata": {
        "id": "LN2DiGh4MOse"
      },
      "source": [
        "# 3. Testing and Evaluation"
      ]
    },
    {
      "cell_type": "markdown",
      "metadata": {},
      "source": [
        "## Model 1"
      ]
    },
    {
      "cell_type": "code",
      "execution_count": 19,
      "metadata": {},
      "outputs": [],
      "source": [
        "# LSTM evaluate\n",
        "def LSTMevaluate1(encoder, decoder, sentence, aspect, max_length=MAX_LENGTH):\n",
        "    with torch.no_grad():\n",
        "        input = preprocess_data([sentence])[0]\n",
        "        input_idx = [word_to_idx[word] for word in input]\n",
        "        input_tensor = torch.LongTensor([[ind] for ind in input_idx])\n",
        "        \n",
        "        input_length = input_tensor.size(0)\n",
        "        encoder_hidden = encoder.init_hidden()\n",
        "        \n",
        "        asp_idx = word_to_idx[aspect]\n",
        "        asp_tensor = torch.LongTensor([[asp_idx]])\n",
        "\n",
        "        encoder_hiddens = torch.zeros(max_length, encoder.hidden_size)\n",
        "\n",
        "        for ei in range(input_length):\n",
        "            _, encoder_hidden, encoder_cell = encoder(input_tensor[ei], encoder_hidden, asp_tensor)\n",
        "            encoder_hiddens[ei] += encoder_hidden[0, 0]\n",
        "\n",
        "        decoder_input = torch.LongTensor([[word_to_idx[\"<BOS>\"]]]) \n",
        "        decoder_hidden = encoder_hidden\n",
        "        decoder_cell = encoder_cell\n",
        "        decoded_words = []\n",
        "        \n",
        "        for di in range(max_length):\n",
        "            decoder_output, decoder_hidden, decoder_cell = decoder(decoder_input, decoder_hidden, decoder_cell, encoder_hiddens)\n",
        "            topv, topi = decoder_output.data.topk(1)\n",
        "            if topi.item() == word_to_idx[\"<EOS>\"]:\n",
        "                decoded_words.append(\"<EOS>\")\n",
        "                break\n",
        "            else:\n",
        "                decoded_words.append(word_list[topi.item()])\n",
        "            decoder_input = topi.squeeze().detach()\n",
        "\n",
        "        return decoded_words"
      ]
    },
    {
      "cell_type": "code",
      "execution_count": 20,
      "metadata": {},
      "outputs": [
        {
          "name": "stdout",
          "output_type": "stream",
          "text": [
            "Predicted polarity: neutral, Actual polarity: neutral\n",
            "Predicted polarity: neutral, Actual polarity: negative\n",
            "Predicted polarity: neutral, Actual polarity: positive\n",
            "Predicted polarity: negative, Actual polarity: negative\n",
            "Predicted polarity: negative, Actual polarity: negative\n",
            "Predicted polarity: neutral, Actual polarity: neutral\n",
            "Predicted polarity: neutral, Actual polarity: negative\n",
            "Predicted polarity: neutral, Actual polarity: neutral\n",
            "Predicted polarity: neutral, Actual polarity: neutral\n",
            "Predicted polarity: neutral, Actual polarity: negative\n"
          ]
        }
      ],
      "source": [
        "# Test the LSTM model using the test data\n",
        "for i in range(len(test_x[:10])):\n",
        "    polarity = LSTMevaluate1(encoder1, decoder1, test_x[i], test_a[i])[0]\n",
        "    print(f\"Predicted polarity: {polarity}, Actual polarity: {test_y[i]}\")"
      ]
    },
    {
      "cell_type": "code",
      "execution_count": 21,
      "metadata": {},
      "outputs": [
        {
          "name": "stdout",
          "output_type": "stream",
          "text": [
            "Accuracy: 0.5949\n"
          ]
        }
      ],
      "source": [
        "# Measure accuracy of LSTM model on test set\n",
        "correct = 0\n",
        "for i in range(len(test_x)):\n",
        "    polarity = LSTMevaluate1(encoder1, decoder1, test_x[i], test_a[i])[0]\n",
        "    if polarity == test_y[i]:\n",
        "        correct += 1\n",
        "accuracy = correct / len(test_x_token)\n",
        "print(f\"Accuracy: {accuracy:.4f}\")"
      ]
    },
    {
      "cell_type": "markdown",
      "metadata": {},
      "source": [
        "## Model 2"
      ]
    },
    {
      "cell_type": "code",
      "execution_count": 117,
      "metadata": {},
      "outputs": [],
      "source": [
        "# LSTM evaluate\n",
        "def LSTMevaluate2(encoder, decoder, sentence, aspect, max_length=MAX_LENGTH):\n",
        "    with torch.no_grad():\n",
        "        input = preprocess_data([sentence])[0]\n",
        "        input_idx = [word_to_idx[word] for word in input]\n",
        "        input_tensor = torch.LongTensor([[ind] for ind in input_idx])\n",
        "        \n",
        "        input_length = input_tensor.size(0)\n",
        "        encoder_hidden = encoder.init_hidden()\n",
        "        \n",
        "        asp_idx = word_to_idx[aspect]\n",
        "        asp_tensor = torch.LongTensor([[asp_idx]])\n",
        "\n",
        "        encoder_hiddens = torch.zeros(max_length, encoder.hidden_size)\n",
        "\n",
        "        for ei in range(input_length):\n",
        "            _, encoder_hidden, encoder_cell = encoder(input_tensor[ei], encoder_hidden)\n",
        "            encoder_hiddens[ei] += encoder_hidden[0, 0]\n",
        "\n",
        "        decoder_input = torch.LongTensor([[word_to_idx[\"<BOS>\"]]]) \n",
        "        decoder_hidden = encoder_hidden\n",
        "        decoder_cell = encoder_cell\n",
        "        decoded_words = []\n",
        "        \n",
        "        for di in range(max_length):\n",
        "            decoder_output, decoder_hidden, decoder_cell = decoder(decoder_input, decoder_hidden, decoder_cell, encoder_hiddens, asp_tensor)\n",
        "            topv, topi = decoder_output.data.topk(1)\n",
        "            if topi.item() == word_to_idx[\"<EOS>\"]:\n",
        "                decoded_words.append(\"<EOS>\")\n",
        "                break\n",
        "            else:\n",
        "                decoded_words.append(word_list[topi.item()])\n",
        "            decoder_input = topi.squeeze().detach()\n",
        "\n",
        "        return decoded_words"
      ]
    },
    {
      "cell_type": "code",
      "execution_count": 118,
      "metadata": {},
      "outputs": [
        {
          "name": "stdout",
          "output_type": "stream",
          "text": [
            "Predicted polarity: neutral, Actual polarity: neutral\n",
            "Predicted polarity: neutral, Actual polarity: negative\n",
            "Predicted polarity: neutral, Actual polarity: positive\n",
            "Predicted polarity: negative, Actual polarity: negative\n",
            "Predicted polarity: negative, Actual polarity: negative\n",
            "Predicted polarity: neutral, Actual polarity: neutral\n",
            "Predicted polarity: neutral, Actual polarity: negative\n",
            "Predicted polarity: neutral, Actual polarity: neutral\n",
            "Predicted polarity: neutral, Actual polarity: neutral\n",
            "Predicted polarity: neutral, Actual polarity: negative\n"
          ]
        }
      ],
      "source": [
        "# Test the LSTM model using the test data\n",
        "for i in range(len(test_x[:10])):\n",
        "    polarity = LSTMevaluate2(encoder2, decoder2, test_x[i], test_a[i])[0]\n",
        "    print(f\"Predicted polarity: {polarity}, Actual polarity: {test_y[i]}\")"
      ]
    },
    {
      "cell_type": "code",
      "execution_count": 120,
      "metadata": {},
      "outputs": [
        {
          "name": "stdout",
          "output_type": "stream",
          "text": [
            "Accuracy: 0.5882\n"
          ]
        }
      ],
      "source": [
        "# Measure accuracy of LSTM model on test set\n",
        "correct = 0\n",
        "for i in range(len(test_x)):\n",
        "    polarity = LSTMevaluate2(encoder2, decoder2, test_x[i], test_a[i])[0]\n",
        "    if polarity == test_y[i]:\n",
        "        correct += 1\n",
        "accuracy = correct / len(test_x_token)\n",
        "print(f\"Accuracy: {accuracy:.4f}\")"
      ]
    },
    {
      "cell_type": "markdown",
      "metadata": {},
      "source": [
        "## Model 3"
      ]
    },
    {
      "cell_type": "code",
      "execution_count": 131,
      "metadata": {},
      "outputs": [],
      "source": [
        "# LSTM evaluate\n",
        "def LSTMevaluate3(encoder, decoder, sentence, aspect, max_length=MAX_LENGTH):\n",
        "    with torch.no_grad():\n",
        "        input = preprocess_data([sentence])[0]\n",
        "        input_idx = [word_to_idx[word] for word in input]\n",
        "        input_tensor = torch.LongTensor([[ind] for ind in input_idx])\n",
        "        \n",
        "        input_length = input_tensor.size(0)\n",
        "        encoder_hidden = encoder.init_hidden()\n",
        "        \n",
        "        asp_idx = word_to_idx[aspect]\n",
        "        asp_tensor = torch.LongTensor([[asp_idx]])\n",
        "\n",
        "        encoder_hiddens = torch.zeros(max_length, encoder.hidden_size)\n",
        "\n",
        "        for ei in range(input_length):\n",
        "            _, encoder_hidden, encoder_cell = encoder(input_tensor[ei], encoder_hidden, asp_tensor)\n",
        "            encoder_hiddens[ei] += encoder_hidden[0, 0]\n",
        "\n",
        "        decoder_input = torch.LongTensor([[word_to_idx[\"<BOS>\"]]]) \n",
        "        decoder_hidden = encoder_hidden\n",
        "        decoder_cell = encoder_cell\n",
        "        decoded_words = []\n",
        "        \n",
        "        for di in range(max_length):\n",
        "            decoder_output, decoder_hidden, decoder_cell = decoder(decoder_input, decoder_hidden, decoder_cell, encoder_hiddens, asp_tensor)\n",
        "            topv, topi = decoder_output.data.topk(1)\n",
        "            if topi.item() == word_to_idx[\"<EOS>\"]:\n",
        "                decoded_words.append(\"<EOS>\")\n",
        "                break\n",
        "            else:\n",
        "                decoded_words.append(word_list[topi.item()])\n",
        "            decoder_input = topi.squeeze().detach()\n",
        "\n",
        "        return decoded_words"
      ]
    },
    {
      "cell_type": "code",
      "execution_count": 132,
      "metadata": {},
      "outputs": [
        {
          "name": "stdout",
          "output_type": "stream",
          "text": [
            "Predicted polarity: neutral, Actual polarity: neutral\n",
            "Predicted polarity: neutral, Actual polarity: negative\n",
            "Predicted polarity: neutral, Actual polarity: positive\n",
            "Predicted polarity: negative, Actual polarity: negative\n",
            "Predicted polarity: negative, Actual polarity: negative\n",
            "Predicted polarity: neutral, Actual polarity: neutral\n",
            "Predicted polarity: neutral, Actual polarity: negative\n",
            "Predicted polarity: neutral, Actual polarity: neutral\n",
            "Predicted polarity: neutral, Actual polarity: neutral\n",
            "Predicted polarity: neutral, Actual polarity: negative\n"
          ]
        }
      ],
      "source": [
        "# Test the LSTM model using the test data\n",
        "for i in range(len(test_x[:10])):\n",
        "    polarity = LSTMevaluate3(encoder3, decoder3, test_x[i], test_a[i])[0]\n",
        "    print(f\"Predicted polarity: {polarity}, Actual polarity: {test_y[i]}\")"
      ]
    },
    {
      "cell_type": "code",
      "execution_count": 133,
      "metadata": {},
      "outputs": [
        {
          "name": "stdout",
          "output_type": "stream",
          "text": [
            "Accuracy: 0.5938\n"
          ]
        }
      ],
      "source": [
        "# Measure accuracy of LSTM model on test set\n",
        "correct = 0\n",
        "for i in range(len(test_x)):\n",
        "    polarity = LSTMevaluate3(encoder3, decoder3, test_x[i], test_a[i])[0]\n",
        "    if polarity == test_y[i]:\n",
        "        correct += 1\n",
        "accuracy = correct / len(test_x_token)\n",
        "print(f\"Accuracy: {accuracy:.4f}\")"
      ]
    }
  ],
  "metadata": {
    "colab": {
      "provenance": []
    },
    "kernelspec": {
      "display_name": "cits5508-2024",
      "language": "python",
      "name": "python3"
    },
    "language_info": {
      "codemirror_mode": {
        "name": "ipython",
        "version": 3
      },
      "file_extension": ".py",
      "mimetype": "text/x-python",
      "name": "python",
      "nbconvert_exporter": "python",
      "pygments_lexer": "ipython3",
      "version": "3.12.2"
    }
  },
  "nbformat": 4,
  "nbformat_minor": 0
}
